{
  "nbformat": 4,
  "nbformat_minor": 0,
  "metadata": {
    "colab": {
      "name": "Pyannote_publico.ipynb",
      "provenance": [],
      "collapsed_sections": [
        "hpxPfS7OlDDf",
        "ewr57wfG1mXb",
        "MlKDg23Zu54u",
        "Yw9FpT8Wvg-b",
        "eRlY_vPVwU9X",
        "7HGD-lTGB284",
        "66ANKT6NwXDA",
        "R-V4ihlJ83fw",
        "Rph9RjoK_DkV",
        "H1CmncGqABFH",
        "zqIUjEoJDfFs",
        "H0GS7W0zDky4",
        "0XAFWTpaBIq_",
        "CJrQEr58BLvW",
        "bJmZekRbBV9T",
        "6ga6NS7WSCmF"
      ]
    },
    "kernelspec": {
      "display_name": "Python 3",
      "name": "python3"
    },
    "language_info": {
      "name": "python"
    }
  },
  "cells": [
    {
      "cell_type": "markdown",
      "metadata": {
        "id": "0ltA_CJ_qiwl"
      },
      "source": [
        "# Boas Vindas"
      ]
    },
    {
      "cell_type": "markdown",
      "metadata": {
        "id": "VaeQRr0sqlu3"
      },
      "source": [
        "Esse tutorial tem como proposito ensinar o leitor o funcionamento básico da ferramenta pyannote. Existem muitas funcionalidades dentro da framework que não serão abordadas devido ao tempo, o pyannote é dividido em vários repositórios, deixando publico um conjunto ferramentas poderosas, caso o leitor queira dar uma olhada em alguma funcionalidade, consulte [Pyannote](http://pyannote.github.io/). \n",
        "\n",
        "**SUMÁRIO**\n",
        "\n",
        "<ul>\n",
        "  <li>\n",
        "      <b>Apresentação do pyannote e sua estrutura: </b> Aqui vamos ver o básico da estrutura do pyannote e como trabalha a framework.\n",
        "  </li>\n",
        "  <li>\n",
        "      <b>Como treinar cada rede do pipeline:</b> Vamos passar por todo o pipeline e aprender a treinar e validar cada modelo.\n",
        "  </li>\n",
        "  <li>\n",
        "      <b>Como usar cada rede do pipeline:</b> Neste momento vamos aprender como usar cada rede de forma separada, como elas se comportam no dado de teste, e como visualizar a saida dos modelos.\n",
        "  </li>\n",
        "  <li>\n",
        "      <b>Como aplicar o ajuste fino:</b> Aprenderemos como aplicar o famoso finetune nos modelos pretreinados do pyannote, e visualizar os benefícios de usar redes pretreinadas.\n",
        "  </li>\n",
        "  <li>\n",
        "      <b>Como usar as redes do pipeline para construir o diarizador:</b> Por fim vamos construir o diarizador, unindo todas as redes do pipeline, e vamos aprender como realizar um ajuste final, além de duas formas de uso do pipeline: pela linha de comando do terminal e pelo código python.\n",
        "  </li>\n",
        "</ul>"
      ]
    },
    {
      "cell_type": "markdown",
      "metadata": {
        "id": "WCU-2IyAtpEs"
      },
      "source": [
        "<div align='center'> \n",
        "\n",
        "<img src=\"https://c.tenor.com/v4EM5Kwotd4AAAAC/e-la-vamos-nos-witch.gif\" width=\"500\" height=\"200\"/>\n",
        "\n",
        "</div>"
      ]
    },
    {
      "cell_type": "markdown",
      "metadata": {
        "id": "e7uLnMBLk9lI"
      },
      "source": [
        "# Configuração"
      ]
    },
    {
      "cell_type": "code",
      "metadata": {
        "id": "kHpDle0X5fVN"
      },
      "source": [
        "#instalando as dependencias\n",
        "\n",
        "%pip install pyannote.audio==1.1.1\n"
      ],
      "execution_count": null,
      "outputs": []
    },
    {
      "cell_type": "code",
      "metadata": {
        "id": "DBo4LLA-Pp5d"
      },
      "source": [
        "from google.colab import drive\n",
        "drive.mount('/content/drive')"
      ],
      "execution_count": null,
      "outputs": []
    },
    {
      "cell_type": "markdown",
      "metadata": {
        "id": "fDghC6_QlEnW"
      },
      "source": [
        "<div align=\"justify\"> \n",
        "\n",
        "Para a execução deste notebook necessitamos de alguns arquivos externos, para tal, peço que o leitor entre no [git](https://github.com/pyannote/pyannote-audio/tree/master/tutorials/data_preparation). Esse repositório possui o arquivo database.yml que é de extrema importância para lidar com os conjuntos de dados, além disso, possui dois scripts o <b>dowload_ami.sh</b> e <b> download_musan.sh </b>, clone esse repositório, execute os scripts. \n",
        "\n",
        "Alguns outros arquivos também são necessários, vai até esse [drive](https://drive.google.com/drive/folders/1bA7qcn9bso8RKooZuTXckZaa4y_ijuIT?usp=sharing) baixe a pasta TutorialPyannote. Suba essa pasta no seu drive pessoal, /drive/MyDrive/TutorialPyannote.\n",
        "\n",
        "Por fim, esse tutorial requere que os arquivos do repositório, incluindo os arquivos de áudio baixados, sejam subidos no drive, faça o upload na mesma pasta TutorialPyannote. Como aqui é ensinado o processo de treino como um todo, é necessário ter os dados, infelizmente os arquivos são relativamente pesados, e para manter as modificações feitas durante o processo de treino é necessário que sejam executados modificando os arquivos da nuvem. Essa etapa deve demorar mais do que o leitor espera, mas vai ser essencial para seguir com este tutorial.\n",
        "\n",
        "</div>"
      ]
    },
    {
      "cell_type": "markdown",
      "metadata": {
        "id": "_B8QTLinpxkm"
      },
      "source": [
        "É necessário que o diretório de execução seja o mesmo que o arquivo database.yml (logo mais você sabera do que se trata). Se perder a conexão, rode novamente esta linha de comando para garantir que sempre vai estar nesse diretório. "
      ]
    },
    {
      "cell_type": "code",
      "metadata": {
        "id": "ObllVvFXn13q"
      },
      "source": [
        "%cd ./drive/MyDrive/TutorialPyannote"
      ],
      "execution_count": null,
      "outputs": []
    },
    {
      "cell_type": "markdown",
      "metadata": {
        "id": "thZmRXrqgjwl"
      },
      "source": [
        "# Pyannote 1.0 \n",
        "\n",
        "<div align=\"justify\">\n",
        "\n",
        "O Pyannote é uma ferramenta open-source escrita em Python para *Speaker Diarization*. Ela é baseada em modelos de machine leanirng, que estão disponíveis na framework PyTorch. Além disso, o Pyannote provê um conjunto de blocos de redes neurais treinadas, que podem ser combinadas para construir o pipeline.\n",
        "\n",
        "</div>\n",
        "<br>\n",
        "<div align=\"center\">\n",
        "<img src=\"https://github.com/pyannote/pyannote-audio/raw/master/pipeline.png\"/>\n",
        "\n",
        "<p> Figura - 1 </p>\n",
        "</div>\n",
        "\n"
      ]
    },
    {
      "cell_type": "markdown",
      "metadata": {
        "id": "hpxPfS7OlDDf"
      },
      "source": [
        "## Camada de extração de características\n",
        "\n",
        "<div align=\"center\"> \n",
        "\n",
        "![features.png](data:image/png;base64,iVBORw0KGgoAAAANSUhEUgAABH4AAADcCAYAAAAGLmbvAAABEWlDQ1BpY2MAACiRY2BgUkgsKMhhEmBgyM0rKQpyd1KIiIxSYH/CwMggwMDLYMwgl5hcXOAYEODDAAQwGhV8uwZUDQSXdUFmYcrjBVwpqcXJQPoPEGcnFxSVMDAwZgDZyuUlBSB2D5AtkpQNZi8AsYuADgSyt4DY6RD2CbAaCPsOWE1IkDOQ/QHI5ksCs5lAdvGlQ9gCIDbUXhAQdEzJT0pVAPlew9DS0kKTRD8QBCWpFSUg2jm/oLIoMz2jRMERGFKpCp55yXo6CkYGRgYMDKBwh6j+HAgOT0axMwgxBECIzZFgYPBfysDA8gchZtLLwLBAh4GBfypCTM2QgUFAn4Fh35zk0qIyqDGMTMYMDIT4AEFOSmWEFihxAAAAIGNIUk0AAHomAACAhAAA+gAAAIDoAAB1MAAA6mAAADqYAAAXcJy6UTwAAAAGYktHRAD/AP8A/6C9p5MAAAAJcEhZcwAAFxIAABcSAWef0lIAAAAHdElNRQflCRUMBDHcItkXAACAAElEQVR42uzdd1gUV9sH4N/SBSxYATEgIqAUxYZGJSRRTKzYKCp89hZREwuvJRqDkESjIprEaJogEjCKJZagRLEFgwIqKE0RxQ4KgvTlfH/w7rysu8ACuzusPPd1cSkz55x5ZnbZM3P2FAFjjIEQQgghvPjzzz9RXl6O8ePHIykpCfHx8Rg9ejQ0NTURGRkJW1tb9OnTh9JROi7dixcv4OTkBDMzM77fvoQQQghRBYwQQgghvAgLC2MdO3Zk3bp1Y4wxFhAQwACw+Ph4lpGRwQCwVatWMcYYc3BwoHSUjjk4OLBOnTqxU6dO8f32JYQQQoiK0OC74YkQQghprjw8PNC5c2dUVFQAANzc3GBvb49u3bpBQ0MDf/75JywsLAAA27dvp3SUDtu3b0enTp1gaWnJ99uXEEIIISpCwBgN9SKEEEL4EBcXh6ysLEyYMAFqamp8h0NUQHJyMvbv3w8PDw/Y2dnxHQ4hhBBCVADdZRJCCCE8CQoKwuTJk7meHoTUJTU1FQEBAUhOTuY7FEIIIYSoCOrxQwghhPDkypUryMrKwqRJk6jHD5FJYWEhHj9+DCMjI+jr6/MdDiGEEEJUADX8EEIIIYSoiPz8fGRmZsLMzAxt2rThOxxCCCGEqAD6epEQQgjhiZeXF9TU1FBWVsZ3KERFREdHw8HBAadOneI7FEIIIYSoCFrVixBCCOHJgAEDUFJSQsO8iMxsbGzg7+8Pe3t7vkMhhBBCiIqgoV6EEEIIIYQQQgghbyn6ipEQQgjhyc6dO+Hu7k6rehGZRUVFwdLSEsePH+c7FEIIIYSoCGr4IYQQQnhy5coVREREoLKyku9QiIpQV1eHrq4uNDRotD4hhBBCZENDvQghhBAeMcYgEAj4DoMQQgghhLylqMcPIYQQwpO4uDgcPHiwWfX4KSkpwcuXL1FSUsJ3KCp5DZKTk7FmzRrcvHmT79MghBBCiIqghh9CCCGEJ0FBQZg8eXKzmuNnxowZaNu2LXbu3Ml3KLyZNWtWg69BamoqAgICkJyczPdpEEIIIURF0ABxQgghhCeLFi3CmDFjmtV8LTTCHI1q6HNxcUFaWhqMjIz4Pg1CCCGEqIjmc6dJCCGENDGOjo5wdHTkOwyiQoRCIV6/ft2seokRQgghpHFoqBchhBDCEy8vL6ipqaGsrIzvUIiKiI6OhoODA06dOsV3KIQQQghREdTwQwghhPBkwIABmDhxItTUGlYdp6enY+HChRg8eDBMTU3h4uKCtWvX4tWrV2Lp5syZA29vb1y5ckVqOWVlZZg5cya8vb2RlpYmtu/Vq1dYv349Ro4cia5du6J///6YPXs2bt++LTUeb29vrFy5EmVlZdi8eTPGjRsHU1NTLFq0qMbzYIwhKioKPj4+GDJkCLp27Qpra2uMGTMGP/zwg9TJr6sfq7i4GH5+fnBxcYG1tTXGjh2L3377TS55qouKisKMGTPQr18/dO3aFaNHj8b27dtrnJz7/PnzmDJlCrp3745BgwZh2bJluHfvXoNeaxEbGxv4+/vD3t6+UeUQQgghpBlhhBBCCFE54eHhTE9PjwGQ+OnatSu7ceMGl3by5MkMAJsyZYrUsg4dOsQAMH19fVZYWMhtj42NZaamply5Ghoa3P9btGjB9u/fL1bOpUuXGADWoUMHNm7cOLGYxo8fzxhjzN3dnQFgmzdv5vIVFRWJpa1+HABs6NChrKKiQuqx2rZty4YPH84AMHV1daampsblmzdvXqPzMMZYRUUFW7BgQY0xDhkyhBUUFIjl+fnnn8XSaGpqMgDMzMyMDRw4UOIaEEIIIYQoCvX4IYQQQniyc+dOuLu713u+lmfPnmH27Nl4/fo1nJ2dkZ6ejvLycsTExMDExASZmZmYM2cOl3769OkAgMjISIneQACwd+9eAMDkyZOhp6cHACguLoa7uzuysrLg7OyMxMRElJaW4tmzZ5g/fz6Ki4uxYMECPH/+XKK858+f4/jx49i4cSMyMzORm5uLDRs21Hg+GhoaGDlyJMLCwvDkyROUlZUhKSkJX3/9Ndq0aYMLFy7gxx9/lJr3xYsX+Pvvv7F9+3a8evUKL1++5I71448/4s8//2x0nt27d+OHH36Arq4uduzYgfz8fBQXFyMqKgomJia4ePEiAgICuPSPHz/GokWLUFFRgYkTJ+Lx48coKirCiRMnkJ+fj9jY2Aa/Z6KiomBpaYnjx483uAxCCCGENDN8tzwRQgghzdW0adMYAFZaWlqvfMuWLWMAmJGRESsuLhbbFx8fz/UyOXr0KGOsqseKkZERA8D27Nkjlv7Zs2dcb5SYmBhue0BAAAPAtLS02JMnTyRicHZ2ZgDY+vXruW2iHjUA2Oeffy41dmk9fmqzZ88ertdPddWP9dlnn0nk8/LyYgCYo6Njo/IUFBSwdu3aMQBsyZIlEnnOnj3LADBtbW1WUlIi9vpYWloyoVAolv7gwYNcDA3p8XPmzBnWq1cvdurUqXrnJYQQQkjzRD1+CCGEEJ6EhISgsrISWlpa9cp39epVAMDcuXOho6Mjts/BwQFDhw4FAMTFxQEA1NXVMW3aNAD/690jsn//fpSXl8Pc3JzLBwAxMTEAAA8PD3Tq1EkiBjc3NwBAcnKy1BgXLlxY7+tRXFyMCxcuICwsDEFBQdi+fTvS09MBAHfv3q0x34IFC2rcdu3aNQiFwgbnSUpKQm5uLtTU1ODj4yORx9nZGR07dkRpaSkyMjIAAP/++y/3+rw5f5Orq2ujlmL/8MMPkZiYiBEjRjS4DEIIIYQ0L7ScOyGEEMKTuLg4ZGVlYcKECfWa4FnUwNCjRw+p+3v27IkLFy7gzp073Lbp06dj8+bNuHjxIu7cuYNu3boB+F9D0P/93/9BIBBw6UWTPAcHByMyMhJA1STMon/Ly8sBAFlZWRLH19PTg6GhYb2uxa5du7Bu3TqpQ8eAquFT0mhqasLc3Fxiu5WVFQCgoqIC9+/fR9euXRuUR3QdKisr4eDgIHYdRP9//fo1dy1sbGy46y4qrzo1NTV07969xvOpS3JyMvbv3w8PDw/Y2dk1qAxCCCGENC/U8EMIIYTwJCgoCPv27UNpaWm9ev0UFhYCAHR1daXuF20XpQOqGoP69++PuLg47N27F19++SVu3LiBhIQECAQCeHt7i5WRm5sLoGoVqfbt29cYS/UGFZHWrVvX6zokJSXBx8cHFRUVmDBhAoYPH44OHTqgZcuWePjwIWbOnCnW2FKdtra21Eaz6tdG1DDTkDyi66Cnp4c+ffrUeh6i+ZFEeWt6TWt63WSRmpqKgIAA2NnZUcMPIYQQQmRCDT+EEEIITxYtWoQxY8ZAQ6N+1bG5uTkSEhLw4MEDqftF29/s1TJ9+nTExcUhODgYGzZs4Hr7ODs7w8zMTCytpaUlrl69innz5kkd4iRP//nPf1BRUYFly5bh22+/Fdt35syZWvMWFhYiPz9forGp+rV589zqk8fS0hJAVWPRuXPnZDofMzMzXL9+HU+ePJG6Pzs7u8HXysXFBWlpaY0aLkYIIYSQ5oXm+CGEEEJ44ujoCDc3t3oN8wKA7t27AwD++OMPiX35+fmIiooSSyfi4eEBbW1tZGVl4cyZMwgNDQXwv1W/qrO1tQUAhIeH19jbRl5Ew6mk9WA5cuRInfkPHz5c4zYjIyPo6+s3OI/oOrx48YK7rnURNRZJO0ZaWhpu3brV4GslFArx+vXreq8ERwghhJDmixp+CCGEEJ54eXlBTU0NZWVl9cr3ySefAADOnj2Ln3/+mdteUVGBxYsX49WrVzAwMICnp6dYvrZt22Ls2LEAAG9vbzx9+hT6+vqYOHGixDGWLVsGTU1NXLp0Cb6+vhIxlpWV4cCBA7h8+XKjr4Ood01wcLBYI9OJEydqXMa9ug0bNojNNXTr1i2u59D8+fMblcfU1JS7jnPnzsX169clysrIyMC2bdu430X5jxw5ItZwVVRUBB8fH1RWVjb4WkVHR8PBwQGnTp1q9HUnhBBCSPNAQ70IIYQQngwYMAAlJSX17vHj5OQEd3d3hIeHY/bs2QgODoa5uTliY2ORkpICAPD394eBgYFE3unTp+PAgQPcMKTJkydzc9NUZ2triw0bNmD16tXYvHkzIiIiMGjQILRq1Qr379/H1atXkZOTgz179uDdd99t1HXw9PTE6dOn8ffff8PExATvvfcecnJycObMGRgbG+Phw4e15n/58iX69u2L999/H2pqajh16hRevXqFLl26YOnSpY3OExgYiIsXLyIrKwt9+/aFs7MzLCwskJ+fj/T0dMTHx8PY2BiffvopAOCDDz7AqFGjcPz4cUyYMAEjRoxAu3bt8M8//+Du3bswMDDAy5cvG3StbGxs4O/vD3t7+0Zdc0IIIYQ0I3yvJ08IIYSQ+hMKhczPz4+1aNGCAeB+jIyM2JEjR2rMV1FRwYyMjLj0MTExtR7n9OnTzNraWuwYAJiOjg4bPXo0S0hI4NJeunSJAWDGxsY1lufp6ckAsK1bt4ptX7duHdPS0uLK19DQYC4uLuz69evc79VVP9aVK1eYqampWHxDhw5ljx8/bnQekfz8fLZw4UKmo6MjcS0sLCzY+vXrxdKXlpayWbNmMXV1dS6dgYEB27NnD3Nzc2MA2LZt25T9tiGEEEJIMyRgTMED9wkhhBAi1c6dO3HhwgWEhobWe4JnEaFQiPT0dGRnZ8Pa2homJiYKiTUvLw+3b99GcXExjI2NYWpqihYtWijkGADQu3fvWsu/fPkyBg8eLNYjKDs7G2lpabCzs0OHDh3kkkfa9c7MzOR67nTu3BnGxsY1pi8sLER8fDzat2+PHj16QCAQNOoaRUVFYdGiRdi2bRtGjRol1+tPCCGEkLcTDfUihBBCeHLlyhVEREQgJCSkwWWoq6vD2toa1tbWCo21TZs2GDRoUJM+homJSb0bvuqbR11dHRYWFrCwsJApvb6+PpycnOR2jdTV1aGrq9vghkJCCCGEND80uTMhhBDCk5CQEFRWVkJLS4vvUIiK+PDDD5GYmIgRI0bwHQohhBBCVAQ1/BBCCCE8iYuLw8GDBxu1yhNpXpKTk7FmzRrcvHmT71AIIYQQoiKonzAhhBDCk6CgIOzbtw+lpaXU66eerKysEBERUa95hhqSp6lJTU1FQEAA7OzsYGdnx3c4hBBCCFEBNLkzIYQQwpMrV64gKysLkyZNqveS7qR5KiwsxOPHj2FkZAR9fX2+wyGEEEKICqCGH0IIIYQQFZGfn4/MzEyYmZmhTZs2fIdDCCGEEBVAXy8SQgghPPHy8oKamhrKysr4DoWoiOjoaDg4OODUqVN8h0IIIYQQFUFz/BBCCCE8GTBgAEpKSmiYF5GZjY0N/P39YW9vz3cohBBCCFERNNSLEEIIIc1WUVERSktLoaurC21tbb7DIYQQQgiRO/qKkRBCCOHJzp074e7ujoqKCr5DabZcXV3Rtm1bBAcH8x2KTKKiomBpaYnjx4/zHQohhBBCVAQ1/BBCCCE8uXLlCiIiIlBZWcl3KERFqKurQ1dXFxoaNFqfEEIIIbKhhh9CCCGEJyEhIaisrISWlhbfoRAV8eGHHyIxMREjRozgOxRCCCGEqAhq+CGEEEJ4EhcXh4MHD1KPHyKz5ORkrFmzBjdv3uQ7FEIIIYSoCGr4IYQQQngSFBSEyZMnN5k5fkpLS7F7924MGzYMlpaWeOedd+Dg4AB3d3eEhYWJpd20aRO8vb1x7tw5xMTEYPbs2XBwcECfPn2wcOFCZGdn13icqKgozJgxA/369UPXrl0xevRobN++vdYGsPrmKSgowIYNGzB27FhYWFige/fu+PDDD7F582a8evVKap74+HgsXLgQdnZ2sLGxwdSpU5Gens73yyImNTUVAQEBSE5O5jsUQgghhKgIWtWLEEII4cmVK1eQlZWFSZMmNYkl3efPn48ff/yR+11PTw+vX78GAFhaWiI1NZXb5+LigtOnT2P8+PE4ceIESktLoampifLycgCAoaEhTpw4AQcHBy6PUCiEj48PfvjhB26bhoYG1/A1ZMgQnDx5Evr6+o3Kc+nSJUyZMgX3798HAKipqUEgEEAoFAIATp48iY8++kjsPKZNm4bDhw+jsLBQ7Jro6+vj6tWrsLKy4vvlAQAUFhbi8ePHMDIyEjtnQgghhJCa8H+XSQghhDRTjo6OcHNzaxKNPgkJCdizZw8A4KeffsLTp09RWFiIgoICHD16FB4eHlLzRUZGwsbGBrdv30ZpaSni4+NhaWmJJ0+eYO7cuWJpd+/ejR9++AG6urrYsWMH8vPzUVxcjKioKJiYmODixYsICAhoVJ7Xr1/Dw8MD9+/fh6WlJaKjo/H69WsUFxcjMTERPj4+aN26tcR57Nu3Dw4ODkhISEBJSQkuX74MU1NTFBYWws/Pj++XhyMUCvH69esm00uMEEIIIU0f9fghhBBCeOLl5YXQ0FCUlJTwPsHzL7/8glmzZsHa2hq3b9+uM72op4yOjg6ysrLQsWNHbl96ejqsra1RWVnJ9a4pLCyEmZkZcnNzsWTJEgQGBoqVd+7cObz//vvQ1tZGfn4+tLW1G5Rnw4YN+OKLL9C6dWtkZGSgffv2Mp2HsbEx0tLSoKenx+3bv38/pk6dChMTEzx48IDX10fk0KFDmDhxIsLCwmpsjCOEEEIIqY7/rxgJIYSQZmrAgAGYOHFik+jxM2zYMKipqSElJQXffvstnj17JlO+iRMnijX6AED37t0xbNgwAMC///4LAEhKSkJubi7U1NTg4+MjUY6zszM6duyI0tJSZGRkNDjPpUuXAFQNW6ur0ac6Dw8PsUYfABg4cCAA4PHjx9wwMb7Z2NjA398f9vb2fIdCCCGEEBXB/50mIYQQ0kz5+PjgwIED0NDQ4DsUvPPOOxg1ahQAYMWKFTA0NISdnR0WL15c60TCNc19I9p+584dAEBaWhoAoLKyEg4ODmjVqhVatmzJ/ejr63ONTVlZWQ3Ok5KSAgD1bhgxNzeX2NauXTsAVcOriouLeX19ql/X1atXo2fPnnyHQgghhBAVwf+dJiGEENJM7dy5ExcuXEBoaGiTaPw5fPgwQkNDERQUhISEBCQlJSEpKQnfffcdli5dii1btkjk0dXVlVqWaOiaaHLo3NxcAFUTRvfp06fWOEQ9bxqSp6CgQOx3WdU11K62FceUKSoqCosWLcK2bdu4hjpCCCGEkNrwf5dJmiQB3wEQUguamIy8La5cuYKIiAiEhITwHQqAqtWvvLy84OXlhVevXuHcuXPYtWsXTp48ia1bt2LChAkYPHiwWJ6alm1//PgxAMDMzAxA1apgAKCtrY1z587JFE9D8nTv3h1xcXHIzMzk+3IqhLq6OnR1dZtEQyEhhBBCVAMN9SKEEEJ4EhISgsrKSt4ndpamVatWGDt2LA4fPszNlZOQkCCR7tixYxK9YUSrbgH/a7yxtbUFALx48YLbV5eG5LGxsQFQdW3fxvUrPvzwQyQmJmLEiBF8h0IIIYQQFUENP4QQQghP4uLicPDgwSYxjCgmJgbHjx+XmMT4/v37yM/PB/C/OW+qu3PnDjZu3Mj9zhiDr68vcnJyYGBgAHd3dwCAqakpPD09AQBz587F9evXJcrKyMjAtm3buN8bkuezzz6DhoYG4uPj4evrK7Hs+fXr12WeuLopSk5Oxpo1a3Dz5k2+QyGEEEKIiqDl3IlUNNSLNGX0oUXeFl5eXti3bx9KS0t57/Xj5+eHdevWoXPnzujXrx9MTEyQnp6O2NhYvHr1CgMHDsTFixehrq4O4H/LoOvr66OwsBDvvvsuunfvjps3byI+Ph4AsG3bNixdupQ7xrNnz9CvXz88ePAA6urqcHZ2hoWFBfLz85Geno74+HgYGxuLDR9rSJ61a9fC398fAGBhYYGBAwdCQ0MDN27cQHx8PLfEfPXz2L17N+bMmSN2TfLz89GmTRvu/61ateL1NQJoOXdCCCGE1B9vA8SHDBki0QVbtATr2+jNOREEAgEuXrzId1gyowdtwidqiCRvq0WLFmHMmDFNYr4WW1tb9OjRA7dv38bDhw+57QKBAGPGjMH27du5Rp/qvv32W1y9ehUhISG4fPkygKqJlbdu3Yq5c+eKpe3YsSOSkpKwatUq/PLLL4iOjkZ0dDS338LCAlOnTm10no0bN6J3795YsmQJMjIyuKXeRedpYmLC/a6mVtX5WdproK6uDoFA0KSGjLm4uCAtLQ1GRkZ8h0IIIYQQFcFbjx81NTWJG6nKykoIBG/fIx5jjLuxFBEIBE2ia39N3nwVms4tL2mO6P1IiPLk5OQgKysLOTk5aNeuHczMzLg5fqp7s6dMaWkpEhISoK2tDTs7uzobs4RCITIzM3H37l0YGBigc+fOMDY2lnueJ0+e4NatW9DW1sY777yDLl268H2JGyU/Px+ZmZkwMzPjeiMRQgghhNSG/68YCSGEkGbKy8sLoaGhKCkp4X2ol0j79u2lNvTURVtbGwMHDpQ5vbq6OiwsLGBhYaHQPIaGhjA0NFTsRVOi6OhoGupFCCGEkHqhhh9CCCGEJwMGDEBJSYlEr1BCamJjYwN/f3/Y29vzHQohhBBCVAQN9VICGupFSOPQ+5GQpqe2SZEJIYQQQkjTQQ0/StCcGn4KCgoQGRkJW1tb9OnTB3/++SfKy8sxfvx4JCUlIT4+HqNHj4ampialo3RcOgDw9vaW+/tR5MGDBzh79iyff1JERb3zzjtwdnZWWPk7d+7EhQsXEBoa2iQmeK6P8+fP4+nTpxg8eHCd8+wQ+YmKisKiRYuwbds2jBo1SmHH2bdvX5O+TyFNV231eWNRfU4aStH1OYAme59N6ZpuuhcvXsDJyQlmZmaK/yNgPBEIBAxVz2/cT2VlJV/hKFRlZaXEuQoEAr7DqhXe+JHVggULGAC2atUqxhhjDg4OrFu3bowxxgICAhgAFh8fzzIyMigdpePSWVlZMaFQKPf3o8iRI0ck/gbph35k+ZkwYUIDP0VlM23aNAaAlZaWKvQ45O1x5swZ1qtXL3bq1CmFHkdLS4v3vz/6Uc2f2urzxqL6nH4a+qPo+jwsLIx17NixSd5nU7qmm65Tp04Kr89FVOvrRdLkbd68GaNGjeIm3ty+fTsqKioAAG5ubrC3t0e3bt2goaGBP//8k9JROvz5559wcnJSyhwny5Ytw/vvv6/w45C3w5gxYxR+jJCQEAQHB7+VvV2JYnz44YdITExUyrEcHR3x+eef833KREV88803uHDhglKORfU5qQ9l1OceHh7o3Llzk7zPpnRNN12nTp1gaWmp8PcnQEO9lII1o6Fehw4dgqGhId59912+T4GoiPDwcNy4cQMbN26s8e+/sUO9jh49inHjxiEkJATTpk3j+5SJilBXV4erqysOHjyosGPExcUhKysLEyZMoAmeiUySk5Oxf/9+eHh4wM7OTmHH0dbWxkcffYQjR47wfcpERXh4eCA8PBxCoVBhn2dUn5OGoPqcNEXKqs9F6F1J5MrT0xPffPMN32EQFRIZGYmAgADw1AZNCK+CgoIwefJk7pshQuqSmpqKgIAAJCcn8x0KIYSQ/6L6nNSXsutzGupF5Co0NBRGRkZ8h0FUSGBgIPz8/OjbEdIsLVq0CGPGjOFtYueXL18CAAwMDPi+FHSuMnJxcUFaWhrVtYQQ0oTwXZ8T1aPs+pzemUSuJk2axHcIRMWUlpbi9evXfIdBCC8cHR3h6OjIy7HT09NhaWkJPT09FBYW8n0pFCo1NRXW1tZvxbkKhUK8fv2avlUmhJAmhM/6nKgmZdfn9BU7kSsdHR24urryHQZRIb6+vnBwcGjSc14RoiheXl5QU1NDWVmZ0o8tzxuNefPmwdzcHHv37lX6eQBAWloazM3N0a9fP6n736ahpNHR0XBwcMCpU6f4DoUQQsh/8VmfE9Wk7PqcevwQuRo/fjx69+7NdxhEhXh4eMDe3v6tnNidkLoMGDAAJSUlKj/U8enTp8jMzEReXh4vxy8qKkJmZiY3nOtNHTt2xIoVK6ClpcXjVZIPGxsb+Pv7w97enu9QCCGE/NfbUp8T5VF2fU4NP0SuwsLC+A6BqBhXV1fqJUaaLR8fH/j4+PAdxluvbdu22LRpE99hyIWVlRVWr17NdxiEEEKqofqc1Jey63NqkiRyNXXqVGzevJnvMIgK+fTTT2FpaUlDvUiztHPnTri7uyt0fHdJSQnWrVsHJycnmJubw83NTaYhWVFRUZgxYwb69euHrl27YvTo0di+fbvY32pRURG8vb0RHx8PAPjtt9/g7e3N/Vy/fr3eZb4pOjoas2bNwsCBA9GlSxf07dsXM2bMwPnz5wFULSqwdu1aAEBeXp7Y8b/66isAwOPHj+Ht7V3jTXl6ejoWLlyIwYMHw9TUFC4uLli7di1evXolkXbTpk3w9vbGuXPnEB8fj4ULF8LOzg42NjaYOnUq0tPTFfZaiq6hpaUljh8/rtDjEEIIkZ0y6nPydlF2fS73Hj8//vijxLZ58+bJrTyBQIC5c+cq4dLIZvfu3RJzB8jzfBtbnrL98ccfKCwsxIoVK/gOhagIbW1t6Orq8h0GIby4cuUKIiIiEBISopDyc3NzMXLkSPz7778AAE1NTWRmZuLAgQPw8PCQmkcoFMLHxwc//PADt01DQwP37t3D8ePH8ccff+DkyZPQ19dHeXm5WOyJiYlITEzkfvfw8ECvXr3qVWb1OBYsWIA9e/Zw2zQ1NZGdnY34+Hjcvn0bsbGxSExMFLtpqh5P//79sWrVKuTn5yMkJAR6enrYsWOH2PlGRERg5syZYpPM379/H6dPn8b+/ftx5MgR2NnZcfvOnDmD06dPgzGGw4cPi00WfevWLRw9ehRXr16FlZWVQl5TdXV16Orq0soxhBDShCi6PidvH6XX50zOAEj8SCMQCCTSVVZWiqWprKyUSCMQCOQdcqPI+zxkvX6Khjd+ZPXmuRMiDw19P4ocOXKEAWAhISF8nwpRIWpqamzChAlyKSslJYWVlJRI3afIz80lS5YwAKxVq1bsyJEjrKysjD19+pRNmTKFq2P09PTE8nz//fcMANPV1WU7duxg+fn5rLy8nEVFRTETExMGgK1atYqLPS8vj40YMYIBYF999RXLy8vjfsrLy+tdpsj27du5+nLlypXswYMHjDHGcnJyWHBwMFu6dCljjLGysjJ24cIFBoC1bt1a7PgFBQWMMcZu374t9VyfPn3KWrZsyQAwZ2dnlp6ezsrLy1lMTAwXl6Ojo1ie4cOHc9du6NChLCEhgZWUlLDLly8zU1NTBoBNnTpVYa+pvN24cUPqdi0tLTZ27Fi+wyMqxN3dnQFgQqFQYceg+pw0hDzr89rQcxBpymioF5GryMhIXL58me8wiAoJDw/HmjVr3qpVd1RJSUkJXr58iZKSEr5DeauNHDkSvXr1wsmTJ8W2x8XF4eDBgwoZ6piTk8P1Iv3uu+8wduxYaGpqomPHjti3b5/UyQQLCwvx+eefAwDmzJmDRYsWoVWrVtDQ0MDw4cO5bzK3bt2K0tJSCAQCtG7dGjo6OgCAFi1aoHXr1tyPhoZGvcsEgFevXnF5Vq1ahW+++QYmJiYAgHbt2sHLywvbtm0DUNULSNRTSBSP6Kd6DyJpNm3ahIKCAhgZGeHkyZOwsLCAhoYGnJyccPToUQBV3+IeO3ZMIq+xsTFOnjyJ3r17Q1tbG4MGDUJAQAAAICYmRu6vp0hycjLWrFmDmzdvNrqsjIwM2NvbY9KkSbhz547CYiaEkLedIutz8naSZ30uC2r4IXLl6emJb775hu8wiAqJjIxEQEAANfzwZMaMGWjbti127tzJdyhvtRYtWiA1NRXe3t4YOXIkbt++DQAICgrC5MmTFTInwI0bN1BSUgIDAwOJYV0CgQALFiyQyJOUlITc3FyoqalJnQ/H2dkZHTt2RGlpKTIyMmSKoyFlJiUl4dWrV9DU1ISvr6/8X5D/unr1KgBg7ty5XOOViIODA4YOHQqg6ob+TR4eHtDT0xPbNnDgQABVcwoJhUKFxJyamoqAgAAkJyc3uqzS0lIYGRkhMjISQ4cOrXFeI0IIIbVTZH1O3k7yrM9lQQPEiVyFhobCyMiI7zCICgkMDISfnx8tf8kTanCrXUVFhVxWK8zPzwdQ1Qvn1KlTSEhIwNSpU+Hl5YUxY8YoZHy3qAeHubm51PKlzUGTlpYGAKisrISDgwMA8fcIY4ybCycrKws2NjZ1xtGQMlNSUgAAZmZmaNWqldyvjYiooalHjx5S9/fs2RMXLlyQ2hvG3NxcYlu7du0AVM1PVFxcXGePo4ZwcXFBWloaXr161ej3ZnZ2NoqLi1FZWYnHjx9j69atCAsLw5dffkmfDYQQUg+LFi1SWH1O3k6i+lxZz870ziRyNWnSJL5DICqmtLRUbFJVolzjx4/HO++8g/79+/MdSpNUVlaGKVOmyLVMxhiePHmC3bt34+nTpwqbCFL0d6WlpSV1v7RJ1XNzcwEAenp66NOnT63lv9nbpSYNKbOgoKBex2go0cTMNU0wL9pefQJnkZquq4iiuvsLhUK8fv0aJ06cwLp16+RadnFxMe7evYslS5YoJHZCCHlbOTo6wtHRke8wiAoR1efK6iVGDT9ErnR0dPDRRx/h8OHDfIdCVISvry/Cw8MhFAqp1w8P3N3d4e7uzncYTZa2tjYOHTrU6HKWLFmCBw8eAKgaZmVoaIgZM2YgIyMDampqKCkpqbMhob7MzMwAAE+ePJG6Pzs7W2KbpaUld97nzp2TSxwNKbN79+4AgMzMTLlekzeZm5sjISGBe23eJNourXcPX6KjozFx4kRs27at0e/N+/fvY8OGDXj58iWAqoY2Y2NjBAQEyL3BkxBC3mZeXl4IDQ1VSH1O3k6i+jwsLKzGlVbliRp+iFyNHz8evXv35jsMokI8PDxgb28PgUDAdyhNypw5c1BaWopPPvlE6jdIZWVlmD9/PioqKrB27Vru4RoA0tPTsW3bNly/fh3Z2dmwsrLCgAEDsHLlSolhM99//z1iY2Ph4eGBkSNHShwnOjoa+/fvR3JyMh4+fIiOHTvC3t4eM2bMgJOTk1jaqKgohIWF4ebNm8jNzYWNjQ2GDx8OHx8flW3UU1dXx/jx4xtdjmii4vbt28PJyQmbNm1Ct27dsGPHDlRWVirk+ojeE5mZmbh+/Tp69eoltj8yMlIij62tLQDgxYsXiIqKgouLi0zHatGiBQBI7b3XkDJ79uwJoGqI3JEjRzBu3DiZjl9UVFSva9S9e3ckJCTgjz/+wMKFC8X25efnIyoqikvXVNjY2MDf3x8uLi7cdWqo5ORkfPPNN1BXV4ehoSEWLlyIpUuXQldXF1OnTuX7VAkhRGUMGDAAJSUlKnu/Q5RPVJ9LW2xDIeS9TBhoOfdmvZw7IYrQHJdznzx5MgPApkyZInX/oUOHGACmr6/PCgsLue3h4eFMT09P6mdJ165dJZZuFi2/u3nzZrHtFRUVbM6cOWL5NTU1uf9XX+K6oqKCLViwQCythoYG9/8hQ4Zwy2qrEnku/9q9e3dmbm7O/v77b6Wew9ChQxkA9t5774m9BidPnuReozeXOPf09GQAmKmpKUtMTJQoMz09nW3dulVs2/LlyxkA9vHHH0t9rRtSppubGwPAzMzM2PXr18X2vX79ml26dIn7vbCwkHu/nTlzRqL8mpZzj4mJ4fL99NNP3Pby8nLm7e3NADADAwP24sULbp9oOffdu3dLHCcvL48rLz8/XxkvcaPcuXOHW37+/v37YvtoOXdSX7ScO2mqlLWcOyFNGTVJErmaOnUqNm/ezHcYRIV8+umnsLS0pOUv3zB9+nQAVb0ypK2ys3fvXgDA5MmTuXlQnj17htmzZ+P169dwdnZGeno6ysvLERMTAxMTE2RmZmLOnDkyHf+7777Dnj17IBAIsHLlSjx48ABlZWXIyclBcHAwBg0axKXdvXs3fvjhB+jq6mLHjh3Iz89HcXExoqKiYGJigosXL3LLXDdXJ06cQGpqKt5//32x7Tt37oS7u7vCxnd/9dVX0NLSQkxMDOzs7DBt2jSMGTMGY8aMQZs2baTmCQwMRJcuXZCVlYW+ffti2LBhmD9/Pjw9PdGvXz9YWlpiy5YtYnnGjh0LADh58iQMDAxgZ2eHPn364OLFiw0uc+vWrejUqRPu3buHAQMGYMSIEViwYAHGjRsHY2NjfPbZZ1xaPT09fPDBBwCAYcOGwcjICH369IGXl1et18fJyYkb6jh79my89957mDFjBuzs7BAcHAwA8Pf3h4GBgUJen4aIioqCpaUljh8/3uiyzM3NkZKSgn379qFLly58nxohhKgsRdfn5O0jz/pcJvJuSQL1+GnWPX7oG0JSX76+vqxXr161fkPYHHv8VFRUMCMjIwaA7dmzR2zfs2fPuN43MTEx3PZly5YxAMzIyIgVFxeL5YmPj+c+U44ePcptl9bjJz8/n7Vq1YoBYKtXr641zoKCAtauXTsGgC1ZskRi/9mzZxkApq2tzUpKSvi+rPWijG8Ip02bxgCw0tJShR3j4sWLrHPnztzrr6amxpycnNjFixcZANa6dWuJPPn5+WzhwoVMR0dHok6ysLBg69evl8gTFhbG+vfvz1q2bMml/euvvxpV5vPnz5mbm5tYDzL8t+fO8uXLxdI+ePCALViwgBkaGnLp+/fvzxhjLDU1VWqPH8YYEwqFzM/Pj7Vo0ULsGEZGRuzIkSMS6UeMGMEAsF9++UViX0FBAXdfoKgeP2fOnGG9evVip06dUkj5IlSfk/qiHj+kqXpb6nPydlFWfS5CDT+NRA0/4t48d0LkoTk2/DDG2IoVK7ihUtUFBgYyAMzc3Fzsb+69995jAKQ+QDP2v2E/n3/+ObdNWsPPpUuXuKFddT28/vPPP1xjQkZGhtQ0HTt2ZABYUlIS35e0XpTVNVxZn5vp6ens7NmzLC8vT+Y8FRUVLD09nf3111/s33//ZQ8fPmx0HA0ps7S0lCUmJrKoqCh248YNVlRUJPfrU1FRwW7fvs1Onz7NHjx4IPfyVQ01/JD6ooYf0lS9bfU5IQ1BkzsTuYqMjIShoSHeffddvkMhKiI8PBw3btzAxo0baYLnN0yfPh2bN2/GxYsXcefOHXTr1g3A/4Z5/d///Z/YNcvIyAAA9OjRQ2p5PXv2xIULF3Dnzp1aj5uSkgKgalWoNyeDflNaWhqAqqWrHRwcAFQtVy7CGOMm/M3KyoKNjQ3fl7VJiYuLQ1ZWFiZMmKDwCSEtLCxgYWFRrzzq6uoNyifvMrW0tCQmp5Y3dXV1WFtbw9raWqHHaazk5GTs378fHh4esLOz4zscQgghUG59Tt4Oyq7PZX5XVlZWSvw0JfKOr7mdr7x4enrim2++4TsMokIiIyMREBAg1lhAqvTs2RP9+/cH8L/Gnhs3biAhIQECgQDe3t5i6QsLCwEAurq6UssTbRelq0lBQQEAcHMH1SY3N5dL26dPH/Tp0wd9+/blfvr164f33nsP7733nkzlNTdBQUGYPHkyzQlAZJaamoqAgAAkJyfzHQohhJD/ovqc1Jey63OZe/yoq6tLbGtKD2ryjq+5na+8hIaGwsjIiO8wiAoJDAyEn58ffTtSg+nTpyMuLg7BwcHYsGED1wDk7OwMMzMzsbTm5uZISEjAgwcPpJYl2m5ubl7rMUVLV2dmZtYZn2jJcG1tbZw7d47vy6VyFi1ahDFjxkBDgzrgEtm4uLggLS2N6lpCCGlCqD4n9aXs+pyetIhcTZo0CYMHD+Y7DKny8vLw8uVLlJWV8R0Kqaa0tJQbCkQkeXh4QFtbG1lZWThz5gxCQ0MB/G/Vr+pEDTZ//PGHxL78/HxERUWJpatJz549uTxHjhypNa2trS0A4MWLF1z5RHaOjo5wc3Ojhk8iM6FQiNevX9O3yiqAMYaXL18iLy+P71AIIQpG9TmpL2XX5/TOJHKlo6MDV1dXvsPgJCcnw8XFBXp6ejAwMEDbtm2lPhQT/vj6+sLBwaHJDFdsatq2bcstle3t7Y2nT59CX18fEydOlEj7ySefAADOnj2Ln3/+mdteUVGBxYsX49WrVzAwMICnp2etxzQzM4ObmxsAYOnSpbhx44bY/qKiIly+fBkAYGpqypU3d+5cXL9+XaK8jIwMbNu2je9L2SR5eXlBTU2NGqSJzKKjo+Hg4IBTp07xHQqpwz///IO2bdvS3GaENANUn5P6UnZ9Tn3RiFyNHz8evXv35jsMAEBZWRlcXV2RkZEBTU1NDBo0CPr6+krtHj9v3jycPn0a69evx//93//xfUmaJA8PD9jb29PEzrWYPn06Dhw4gCdPngAAJk+eLHW+HCcnJ7i7uyM8PByzZ89GcHAwzM3NERsby03Y7O/vDwMDgzqPuXXrVsTExODevXsYMGAA3nvvPZibm+PRo0eIiYmBtbU1YmNjAVQN17t48SKysrLQt29fODs7w8LCAvn5+UhPT0d8fDyMjY3x6aef8n0pm5wBAwagpKSEviEkMrOxsYG/vz/s7e35DoUQQsh/UX1O6kvZ9Tk1/BC5CgsL4zsEzvXr15GRkQE1NTXcu3cPxsbGSo/h6dOnyMzMpG7etXB1dW1SvcSaohEjRsDIyAiPHz8GIH2Yl8j+/ftha2uLgIAAnD9/HufPnwcAGBkZYdeuXVzvIRHRDcqb84Z17twZSUlJ+OSTT3Do0CGxYVx6enoYOnQo93vHjh2RlJSEVatW4ZdffkF0dDSio6O5/RYWFpg6dSrfl7FJ8vHxgY+PD99hEBViZWWF1atX8x0GIYSQaqg+J/Wl7PqcmiSJXE2dOhWbN2/mOwwAwL179wBUzUHCR6MPkc2nn34KS0tLGupVC3V1dTx69AiMMTDG4OTkVGNaNTU1rF27FgUFBbh9+zZOnz6NBw8e4NGjRxKNPkBVQxFjTGpvnPbt2yM8PByvX79GYmIioqKicOPGDTx//lzi77xVq1b47rvvUFhYiPT0dPz111/4999/8fDhQ6Snp+OLL77g+zI2STt37oS7uzvN10JkFhUVBUtLSxw/fpzvUAghhPwX1eekvpRdn1PDD5GrP/74AxcvXuQ1hqdPn8Lb2xtBQUEAqlYm8vb2hre3Nz7//HOxtK9evcL69esxcuRIdO3aFf3798fs2bNx+/ZtiXIZY4iKioKPjw+GDBmCrl27wtraGmPGjMEPP/wg1nBRVFQEb29vxMfHAwB+++03LgZvb29uHpSVK1fC29sbd+7ckTjegwcP4O3tjaVLl4ptT09Ph7e3N1auXImysjJs3rwZ48aNg6mpKRYtWtSgc+OTtrZ2jcuPk4ZTV1eHtbU1hg0bBhMTk0aVpaWlhV69emH48OGws7NDixYtaj2uhYUFXFxc0L9/f2p0rcOVK1cQERFBDZ9EZurq6tDV1X3rV45JTk7G7Nmz0b9/f5iYmMDKygpOTk5YtWoV7t+/z6WrXicWFxfDz88PLi4usLa2xtixY/Hbb7/VeAxF3QPI4tGjR5g9eza8vb2xffv2BsUk6/0AIUTx5FGfK+oeX9bPU5GoqCjMmDED/fr1Q9euXTF69Ghs3769xnN7/fo1Vq1ahaFDh8Lc3Bzu7u4IDg7Go0eP4O3tjQULFoil37RpE7y9vXHu3Dn8888/mDdvHmxtbfHuu+8iICAAOTk5AICcnBx88803cHFxQdeuXTF27Fhujklp6nNdqscQHx+PhQsXws7ODjY2Npg6dSrS09MV+G6povT6nMkIgMRPY9IJBAKJdJWVlWJpKisrJdIIBIJGHVfe58vXecj7fCXKf+NHVm+eOx/S09OlXh8ArHv37ly62NhYZmpqyu3T0NDg/t+iRQu2f/9+sXKLiorEyqqeHgAbOnQoq6ioYIwxlpeXV2MMANjx48cZY4xZWloyAOzMmTMS53H9+nUGgBkYGIhtv3TpEgPAOnTowMaNGydW7vjx4xt0bk1dQ9+PIkeOHGEAWEhICN+nQlSImpoamzBhgsKP0xQ+Nwl5k5aWFhs7diwvx7579y5r0aIFV29paWmJ1WPV6zBRndi2bVs2fPhwBoCpq6szNTU1Lv28efMkjqHIe4A3YzM2NhbbnpSUxLp06cIAsIEDB7Lnz583KCZZ7geUyd3dnQFgQqFQYceg+pw0hKrU54q4x6/P52lFRQVbsGBBjZ91Q4YMYQUFBWLlP3r0iNnZ2XFpNDU1uf97eHgwAExPT08sj+iz2tPTk+nq6ko8J3388cesoKCA9e/fX2KfpqYmu3DhgsS1q+91EcUwbdo0pq+vL3EcfX19lpKSovD3jDJRw08jz5cafsQdPHiQXbp0Sa6x1JdQKGR5eXls165dDABzdHRkeXl5LC8vj7169YoxVnUDJ/pwcHZ2ZomJiUwoFLJnz56x+fPnMwCsdevW7NmzZ1y5ZWVlbOTIkSwsLIw9efKEVVZWsqSkJPb111+zNm3aMADsu+++Y4xVveZ5eXlsxIgRDAD76quvuBjy8vJYeXk5Y6xxDT+iD7WNGzeyzMxMlpuby27cuNGgc+PT77//zlavXl1rZUkNP4QPyrhR/Pfff9mBAwcU+qBE3i5JSUls9erV7MaNGwo9Dp8NP66urtxDRkJCAisrK2NCoZClpaWxL7/8ksXGxnJpq9eJ6urqbPv27ez169csPz+fbdiwgdt37NgxLo+i7wHejK16w8/Zs2e59K6urqyoqKjBMdV1P6Bs1PBDmipVqc8VcY9fn8/T77//ngFgurq6bMeOHSw/P5+Vl5ezqKgoZmJiwgCwVatWicU8a9YsBoC1b9+enTx5kpWXl7Pnz5+zuXPncudSU8MPADZs2DCWnJzMHj9+zL744gumo6PDADBDQ0PWoUMHdvDgQZafn88OHDjAevbsyeWpriHXpXoMQ4cOZQkJCaykpIRdvnyZK2vq1KkKfc8oqz4XoYafRp4vNfyI4/NG8U2hoaEMAHv33Xcl9gUEBHCt3k+ePJHY7+zszACw9evXy3SsPXv2cB8c1Yla6wMDA6Xma2zDz+eff67wc1M0WW4UqeGH8EEZN4rTpk1jAFhpaSnfp0tUxMGDBxkAFhYWptDj8Fmfi3rD/P7773WmrV4nfvbZZxL7vby8uC+BRJR1D/Bmw09oaCjT0tJiANgnn3wiVu81JKa67geUjRp+SFOlKvW5Iu7xZf08LSgoYO3atWMA2JIlSyT2nz17lgFg2trarKSkhDHG2MOHD7meNYcOHZLIM2jQoFobfkxMTLjGb5EZM2Zw1+DPP/8U2xcTE8Odf/Xn7YZcF1EMxsbGrLCwUCy96BnSxMSkwa+lLJRVn4vQHD9ErkJDQ7Fy5Uq+w6hTTEwMgKqlxDt16iSx383NDUDVmNg3FRcX48KFCwgLC0NQUBC2b9/OjQO9e/euUs9j4cKFcj03PgQGBiItLY2WvyTN0qJFixAeHv7Wz9dC5MfFxQVpaWkYPXo036EozIgRIwAAW7ZswcWLFyEUCmXK9+Y8EtW3Xbt2jSuHj3uAb775BtOmTUN5eTm++eYb7Ny5U6zea2zdLe1+gBCiPPKuz+V1jy/r52lSUhJyc3OhpqYmdXUyZ2dndOzYEaWlpcjIyAAA3Lx5ExUVFejYsaPUFXrnzp1b6zl6eHhIzBvZp08fAFULjIwaNUrqvrKyMjx58qRR16V6DHp6emLbBg4cCAB4/PixzPVPQyi7PqcnLSJXkyZNwuDBg/kOo05paWkAgODgYLRq1QqtWrVCy5Yt0bJlS+jr63MTKmdlZYnl27VrF0xNTeHk5IQpU6ZgyZIlWLp0KTZt2gQA3HLbyqCnpwdDQ0O5nRtfSktL8fr1a77DIIQXjo6OOHPmDDdp4/fffw9nZ2c8f/4ct27dgrOzMyIiIgBU3biIbgQpXfNNN3PmTPzxxx9v9coxs2bNgpaWFuLi4jB06FC0b98e48aNw549e1BYWCg1j6amJszNzSW2W1lZAQAqKiq4SUyVfQ/w6NEj/Oc//wFjDCEhIVK/IGtM3V3T/QAhRHkcHR3h5uYmly8y5XmPL+vnqajsyspKODg4iJUtKv/Zs2di5Ysau7t27QqBQCARb7du3Wo9z65du0psMzAwqHGfvr4+NDU1AUBq7A35/JRWb7Rr1w4AIBQKUVxcDAB48eIFBg0ahIEDB4r9bNy4scGvs1AoxOvXr5VWn9NXjESudHR08NFHH+Hw4cN8h1Kr3NxcAICNjQ3at29fY7rqHzpJSUnw8fFBRUUFJkyYgOHDh6NDhw5o2bIlHj58iJkzZ4IxprRzaN26tdzOjU++vr4IDw+HUCikXj+k2fnkk09w+PBh9O3bF0DVqoS3bt1CeXk5iouLcevWLe5vOj09HQUFBZSO0uHcuXPo0aOH1G9Y3wYDBw5EamoqNm7ciCNHjiAnJwdHjx7F0aNH8eWXX+LkyZOwtbUVy6OtrS21Dqm+aqToSwY+7gG0tbVRWlqKEydOwN3dXaJXQGPq7pruBwghyuPl5YXQ0FCUlJRAS0urUWXJ8x5f1s9TUdl6enpcz5qaiHrIiHrDqKur15peWqMQAK4RR1paaftq0pjPz7peK9FKZiUlJYiNjZXY36NHD5njfFN0dDQmTpyIsLAweHh4NLgcmck6Jgw0x0+TOg95n69E+axhc6p4eHiwr7/+Wq6xNFRtc/z069ePAWBBQUEylzdq1CgGgC1btkxi3+nTp6W+rnXN8WNjYyMx6aTIqVOnap3j581VQhpzbnyKjIxk/v7+NLkzaXKUtQoIIU1RU5qz7+bNmywgIIC1bdtWYmLP6nNi5OXlSeRNS0vj9otWo1HWPUD1+vrUqVPcyjoTJkyQmAekITHVdT+gbDTHD2mqlFGfBwUFsUmTJnELuDSEMu7xa/o8/fPPPxlQtUKirI4fP15rvPv27at1jp/du3dL5Knt+Y0xxq0alpaW1qjrUlsM1Vdnzs/PZ4xVrXiWmZkp8SNalbEhUlJSmL+/P0tOTm5wGfWh5uLigjd/3mZ0voo937CwMPj6+vJ92nUSfVMYHh4ucy8dUTdCOzs7iX1HjhyRmkc0brWmoUzGxsYAgDt37kjsO3funNLOjU+urq5YvXp1jd8GEPl7+fIlXr582WTKIYSQ2tja2mLVqlVYu3YtACAhIUFqOmm9jUXbjIyMoK+vz5UHKP4eoLoRI0bg5MmT0NfXx6FDhzB+/HiUlJSInWN9YyL8aU71X3M618bw8fHBgQMHFDpnnzw+J2r6PBWV/eLFC0RFRclUVs+ePSEQCPDo0SOpeX777TeFXQt5X5e6qKurw8zMTOKnth5GdbGyssLq1avRs2dPpVwntdOnT+PNn7cZna9iz3fq1KnYvHkz36ddp2XLlkFTUxOXLl2Cr68vysrKxPaXlZXhwIEDuHz5MrfNzMwMQNX40eofKidOnMCPP/4o9TgmJiYAgIsXL0qdl8Da2hpA1bwB+fn53Pbz589j+/btSjs3Pn366aewtLTkulISxUpNTUXbtm3RpUuXJlEOIYS8aevWrcjOzpbYfvPmTQD/m3/hTRs2bBCbw+HWrVv49ttvAQDz58/ntivrHuBN7733Hk6fPo02bdrgxIkTGD16NIqKihocE+FHc6r/mtO5NtbOnTvh7u6u0PlaGvI5IevnqampKTw9PQFUTcp8/fp1iTwZGRnYtm0b97uZmRk3cfLcuXO5RqTy8nKsW7cOZ86cUcq1V9XPz6ioKFhaWuL48eNKOR5NqEHk6o8//sDFixf5DqNOtra22LBhAwBg8+bNsLS0hKenJ+bNm4ePP/4YnTt3hpubG27dusXlEX0Y/v333zAxMcGUKVPg4uKC0aNHo2PHjlKPM3bsWADAyZMnYWBgADs7O/Tp04e7RosXL4aGhgZSUlJga2uLKVOm4P3338f7778vMcO8Is+NT9ra2mJzMJDGSUtLg7m5Ofr16yd1v7y+CampnLqOTwghdVmxYgXMzMwwZMgQzJw5EzNnzkTPnj3x66+/AoDYg0d1L1++RN++fTF58mS4u7tj0KBBePbsGbp06cJN7gko7x5AmoEDByI6Ohrt2rVDdHQ0RowYgYKCApWru5szvnpkzZs3D+bm5ti7d+9bf66q6MqVK4iIiFDoF5kN+Zyoz+dpYGAgunTpgqysLPTt2xfDhg3D/Pnz4enpiX79+sHS0hJbtmwRiykgIACmpqbIyspCnz59YGRkhFatWsHPzw/Ozs4A6p4DiI/r0hSoq6tDV1dXqSu7ynVOGVnTNfW5cZrbeUjkYw2bU6W2eVqULTw8vNYxooxVjcu3traWuEY6Ojps9OjRLCEhQSz9unXrmJaWFpdOQ0ODubi4sOvXr3O/vyksLIz179+ftWzZksv3119/cfsPHTrEDAwMxMp0dXVl//77b4Pm+GnouTVlNMeP7BISEhgA1qZNG6n7c3Nz2YoVK9iaNWsadZyayqnr+KqE5vghzRmfc/yMGjVKrM4U/RgZGbGdO3eKpa1eJ165coWZmpqK5Rk6dCh7/Pix1OMo+h7gn3/+qbG+vnnzJuvUqRMDwAYMGMDKysrqHRPN8cOP27dvS523RNHqmjdSEeR1z8A3ZdXnjX0OUsQ9fn0+TxljLD8/ny1cuJDp6OhI5LGwsGDr16+XyPP8+XM2Y8YM1r17d6arq8ucnJzYpk2b2F9//cUAsB49eoilHzFiBAPAfvnlF4myRHP8ODk5ST13aXP8NOS61BZDQUEB94wvmuPnbSD47wURbwmS0rorbf6NxqRTU1OT2F5ZWSmWnzEmsUKDQCCQ2pIq7/ia23lI5HszT505qhw6dAiGhoZ49913ZczRNOTl5eH27dsoLi6GsbExTE1Nufl5akoLAL17964xXX2UlZUhJSUFL1++RL9+/Rrc26ex58aH8PBw3LhxAxs3bqxxnp+Gvh9Fjh49inHjxiEkJATTpk3j+5QVKjExEQ4ODmjTpg0vY/L5Pr48qaurw9XVFQcPHuQ7FEKUTltbGx999JFM89coQkVFBe7cuYMnT55AKBSiS5cuMDMzk1jp5fLlyxg8eDCMjY3x8OFDAEB2djbS0tJgZ2eHDh061Hksvu8BGhtTU+Hh4aHwVTqbQn2ekpKCHj16QE9PT+owfkVxdXXFkSNHEBgYiCVLlvBy7qpKGfV5XFwcsrKyMGHCBKWtUivr54Ssn6fVCYVCZGZm4u7duzAwMEDnzp25uUll5efnh3Xr1mHkyJFKG85Un+vCt+TkZOzfvx8eHh5S54+TN1rOnciVp6cnrzeKDdWmTRsMGjRI7mllpaWlBXt7e97PjQ+RkZEIDw+Hn59fs5jg+dGjRzh06BCioqJw7949vHz5El26dIGNjQ1WrlyJ7t2715g3Ojoa+/fvR3JyMh4+fIiOHTvC3t4eM2bMgJOTE0JDQxEWFgagqtLz9vbm8vbo0QOrVq3C48eP4evri9atW2PHjh0AgDlz5qC0tBSffPIJHB0dJY5bVlaG+fPno6KiAmvXroWlpaXUcuo6fu/evREWFgZDQ0Ns2rRJ6jkeOHAAx44dg42NjUpMFE8IUQwNDQ1YWVnBysqq3nlNTEy4OfZkwfc9AJ/HIeLqqmdrs3LlSjx58gTr169Ht27dxPY9ePAAa9asQdu2bREYGCi2Lzk5Gdu2bcP169fx+PFj6OnpoVOnThg8eDAWLFiA9u3bY/78+YiPjwdQNWHutWvXuPzLli1Dr169uN9fvXqFLVu2IC4uDrdv30b79u3Rq1cvLFu2TGLp6U2bNiEpKQkzZ86Ejo4OQkJCEBsbi2fPnuHvv/+Gvr6+RF0PAOnp6fDz84OhoSECAgKwY8cOnDlzBklJSTA3N4erqysWL14s9b7u9OnT+Pnnn3Ht2jW0b98egwcPho+PD/78809cuXIF06ZNU8nFd4KCgrBv3z6UlpY2ejl3Wcn6OdGQz1N1dXVYWFjAwsKi1nRCoRApKSmwsbER256UlMTNsfbxxx8r5XrU97rwLTU1FQEBAbCzs1NKww9AQ6ToPKTlYw0bWnPgwAF28eLFeuQgzd3jx4+ldtes7m0a6rVy5UqxzwF1dXWxrqhHjhyRyFNRUcHmzJkj9ncs6uoKgDk6OjLGGFu+fLnUv3kArH///owx6V3UJ0+ezACwKVOmSI350KFDDADT19dnhYWFNZZT1/EzMjK4z8wbN25IPZaVlRUDwL766iu+Xyoa6kWataa0nHttmtpwp+ZMlYd6yVrPMlbzUC9LS0sGgJ05c0aifNFwwDeH79+9e5e1aNGCO46WlhbT0NDgft+/f7/Y0tLSfo4fP86VFxsbKzbcsXpZLVq0YPv37xc7vmhJa09PT6arqytW7vXr12s8V9HfXYcOHdjEiROlxjVnzhyJ67B9+3ampqYmdr4AmJmZGRs4cCADwDZv3iz3940y6vPY2FgWHh6u0Pd/U/To0SNuyKqPjw9bs2YNmzx5Mvf3Y2FhwQ1lJeIKCgpYWloaKygoUMrxaHJnUm/Pnz+HsbExIiIiJIaNTZo0CYMHD+Y7RKJCSktLa1zuvr7OnDkDJycnJCUl8X1aNTIzM8OKFStw/fp1FBUVIS8vD4cOHcKoUaNQUlICHx8fsSV+AeC7777Dnj17IBAIsHLlSjx48ABlZWXIyclBcHAw961GQEAALly4AABo3bo18vLyuJ+///67xpimT58OoKr31atXryT2iyaSnDx5cq3DEOs6frdu3bhv8aStghMTE4PU1FRoampi5syZfL9UhLzVYmJiMHjwYG5lF0KaEmXX57LWs/L22Wefobi4GEOGDEFCQgIKCwtRWlqKtLQ0fPnllzA3N0erVq2Ql5eHESNGAAC++uorsfpVVK8WFxfD3d0dWVlZcHZ2RmJiIkpLS/Hs2TPMnz8fxcXFWLBgAZ4/fy4RR1hYGCwtLXH+/Hnk5eUhISGh1h7IIs+fP8eJEyewY8cO5OTk4MWLF1i+fDkA4Oeff0ZaWhqXNjMzE8uXL0dlZSW8vLzw7NkzFBUVITo6GiUlJYiNjVXKa91YY8aMwYoVK5CXlye23dHREW5ubkob5tVUaGtro3Pnzvj333+xY8cO+Pv748CBAygvL8ekSZNw8eLFWoeUNWdCoRCvX7+Wy0pwtT2fV0c9Zeg8JPOxmntYJCUlMQMDA2ZgYMCcnJzYtWvXuH3a2tps3LhxMh2DEMZk+4ZQ1h4/X331FQPAOnXqxBYvXsxycnIYY02rx09NSktLWdeuXRkAFh0dzW3Pz89nrVq1YgDY6tWr6yynrsmVpX17V1FRwYyMjBgAtmfPHrH0z5494761iYmJqbUcWY5/+PBhBoC1bt2avX79Wmyfp6cnA8AmT57M98vBGKMeP+Tt9u2333Kfl5988gl79uyZ2H5V6fGTk5PDIiIi2LFjx/gOpdmTZ48fZdbn9a1n5dnjp0uXLgwA+/333+s8bl2TOwcEBHC9aJ48eSKx39nZmQEQm5xX1OOndevW7MWLFzKfq6jHDwC2bds2sX2VlZVc792ffvqJ275gwQIGgPXq1UviOKJJgKECPX569OjBdHR0mLm5Ofvtt99YRUUFY4yxadOmMYFAwEpLS+UevypIT09nf//9Nzt06BC7cuUKy8vL4zukJu/gwYMMAAsLC2t0WbU9n4vQHD/NkFAorDvRG8vuVc8jFAqhra2NJ0+e4Pz58/j4448xduxY+Pn5Yfz48ejduzffp0hUiIeHB+zt7cEYq/m9Wcv7sTrRhOlPnz7Frl27cPjwYaxatQqdOnXi+zQlZGRkIDU1FdnZ2VwPH319fQDA3bt38cEHHwCoGiP96tUraGpqKmzOG3V1dUybNg2bN2/G3r17MXv2bG7f/v37UV5eDnNzcwwdOrTRxxo9ejS6dOmCBw8eICIiguttlJubi0OHDgGoWrK2KZHpM5MQFVP983LPnj04duwYVq5ciXnz5il1adnGateuHSZPnsx3GKSaysrKRi8Drsz6XBn1bE1GjBiBn376CVu2bEHnzp0xaNCgBi99HRMTA6DqvkradXJzc8O5c+eQnJwssc/DwwMGBgYNOu6sWbPEfhcIBBgwYABSU1Px4MEDbntCQgKAqnkF3+Ti4sItCa5I8qjP1dTUUFJSgrt372Lp0qX4/vvvsXXrVgwYMAAlJSXNrsePiCzzARFxNjY28Pf3h52dXaPfm7U9nxsaGgKgyZ2bJZlu6N6osGvL8+zZM+zduxcHDx7EnTt3GlxxkObJ1dUVrq6uGDBgAOLi4qQnqsf7UaSsrAz379+Hr6+v1BX0+PLo0SPMmDEDUVFRNaZ5/Pgx9/+UlBQAVUPEWrVqpbC4pk+fjs2bN+PixYu4c+cONzGlaJjX//3f/8ll8m11dXXMmTMH69atw+7du7mGn71796K0tBQWFhZco1dTUFRUpFIPwYQ0hOjzctWqVVizZo3EEAZC6mPQoEG4evWq3MqrXp83tkFJGmXVs9LMmjULwcHBiIuLw9ChQ9GmTRs4OTlh9OjR8PT05L4QkoVoWFVwcDAiIyMB/G8lX8YYysvLAUBq40pDH9g7dOiAli1bSmxv164dAIitenb37l0AkJj4WqRbt24KbfhRRH2el5eHf//9F2PHjsWsWbNw4MABhcVP3j5WVlZYvXo1vv32W9ja2sq1bGnP53Q32wx5enrWmSasljx5eXk4e/as2Dwkbdq0weDBgzF//nz069cPK1as4Ps0iYr49NNPcfz4cbi5udV441Hb+7G6W7du4fr169zvGhoaaNmyJYYOHYrff/+d71MFULX6RlRUFExNTeHl5QVra2sYGBhAU1MTX331Fc6ePSt2Y1tQUAAAtc6tIw89e/ZE//79ERcXh7179+LLL7/EjRs3kJCQAIFAILZCV2PNnj0bfn5++Oeff3Dz5k3Y2dlh9+7dAIC5c+c2qdXd1NXVZfrMJETV3L59G4mJidzv6urqaNmypcS394TU14gRI2SaH6Y2yqzPlVXPSjNw4ECkpqZi48aNOHLkCHJycnD06FEcPXoUX375JU6ePCnzA2Fubi6Aql4E7du3rzFd165dJba1bt26QfHXNXdL9S/eRD0a6urRpKh7AHnV5ydOnEB+fj73e8uWLWFkZITS0lK4u7sjNDSUvjAiMomKisKiRYswZcqURr83a3s+19HRAUA9fpql/fv315kmrJY8ycnJGD58OB4/fozWrVvDwsICW7ZswXvvvQdtbW2UlJRQww+Rmba2NnR1dfHll1/W2D22tvdjdV9//TV3o9ixY0eMHDkSGzduxLVr15pEw09cXBx+//136OnpITY2lut6KbJhwwaJPKKb58zMTIXHN336dMTFxSE4OBgbNmzgevs4OzvDzMxMbscxMjKCq6srDhw4gN27d2PSpElITU2FlpYW1wOoqdDW1pbpM5MQVbNlyxau4adDhw4YMWIEAgIC0KVLF75DIyqutvpcVsqsz+VVz4oaQYqLiyX2Ve/J+yYzMzP89NNP+Omnn5CUlIRjx47h22+/RXZ2Nj799FOcPn1apuNbWlri6tWrmDdvHnx8fOR6jeTB3Nwcubm5NV7n+/fvA4BCenUB8qvPbW1tkZ+fD01NTRgaGmL58uWYP38+Zs2ahYiICISEhCjuIpK3irq6OnR1dTFo0CB88cUXjSqrtudzkeY5CJE0WmVlJczMzLBlyxbExsZyb6qSkhIcOXKE7/CanZKSErx8+VJiNShV8PXXXyMxMVFuY6L19fUxePBgHDt2DL/++is6d+7M9yly0tPTAVQ9ZL3Z6JOdnY1r165J5OnZsycAID8/X6a/rRYtWgCo6tJcXx4eHtDW1kZWVhbOnDmD0NBQAKhXY4ysx1+wYAEAYN++fQgMDAQAjB8/Hh06dGj0dSaEyEZfXx+DBg3C0aNHERIS8tY0+hQVFeHly5coLS3lNY6XL1/i5cuXcsnTkLJUnbLq8/rWszUxNjYGANy5c0di37lz52Qqw9bWFqtWrcLatWsB/G9eHOB/9WtNK6GKegaFh4crrPGkMUTx/fbbbxL7Ll26hIyMDL5DlElFRQXat2+P2bNn4+rVq1i8eDG0tLQQEhKCyspKaGlp8R1ik6TKzyqK8uGHHyIxMZFbsa+xano+F6GGH1JvlpaWWL58Oa5du4ZZs2aJdWeMjIzE5cuX+Q6x2ZkxYwbatm2LnTt38h1KvYWHh2PNmjVyuUmZMWMGvv32W5w/fx4DBgzg+9QkiHrN3Lt3D+fPn+e2FxQUYM6cOVIrQzMzM7i5uQEAli5dihs3bojtLyoqEvubMzExAVA1J0J0dHS94mvbti3Gjh0LAPD29sbTp0+hr6+PiRMnylyGrMd///33YW1tjby8PBw+fBhA05vUmZC32fTp07Fp0yZcvHgRAwcO5DscuXJ1dUXbtm0RHBzMWwzp6elo27ZtvRrTasqTmppa77JUnTLr8/rWszWxtrYGAOzatUtsKND58+exfft2qXm2bt2K7Oxsie03b94E8L+5coD/1a8XL14UmztHZNmyZdDU1MSlS5fg6+uLsrIysf1lZWU4cOAAb/fpy5cvh5qaGv755x8sX76ciy85ObnJ9fatzeeff46//voL33//PTp27Mhtj4uLw8GDB5vUvJJNiSo/qyhKcnIy1qxZw/29N0Ztz+ci1PBD6k1TUxPLly9H27ZtJfZ5enrim2++4TtEmaWlpcHc3Bz9+vXjO5RGxdgUv9mRVWRkJAICAuRyDp06dcK8efOa7IoKffv2haWlJQDggw8+gLOzM6ZOnQobGxtERUXVuFrJ1q1b0alTJ9y7dw8DBgzAiBEjsGDBAowbNw7Gxsb47LPPuLR6enrc5MjDhg2DkZER+vTpAy8vL5liFN18PXnyBAAwefLkes17UJ/jz58/n/u/paUl3n//fb5eGkKanXbt2mHBggVN9vNS1VVUVMgtjyrX8Q2l7Pq8PvVsTRYvXgwNDQ2kpKTA1tYWU6ZMwfvvv4/333+/xnp0xYoVMDMzw5AhQzBz5kzMnDkTPXv2xK+//goA2LZtG5dW9MXMyZMnYWBgADs7O/Tp0wcXL14EUNWjRjRkfPPmzbC0tISnpyfmzZuHjz/+GJ07d4abmxtu3bqllGv6pp49e2L16tUAqoaatmrVCsbGxtzQqR49egCoew4gvk2dOhV9+vSR2B4UFITJkyc36G9fmRTx7PO2P6soSmpqKgICAqSutFdftT2fi9AcP0SuQkNDYWRkxHcYMisqKkJmZmaT7j4tS4zjx4/HO++8g/79+/Mdbr0FBgbCz8+vWTx8aGtr4+DBg/Dy8kJiYiK39GrHjh0RHByM6Oho/PrrrxI3PZ07d0ZSUhI++eQTHDp0SGxFMD09PYll1vfu3YuAgABERkYiJycHT5484Vr+67rOI0aMgJGRETcfQU3fwtVWTm3Hr87b2xtLly4FUDWpMyGEEEkdO3bEihUraAiJAtWnnq2p/rOwsEBERARmzZqF7OxshIWFQUNDA2PHjsXq1aul9lz6+OOPcf78eVy6dAmXLl3ithsZGWHNmjUYOXIkt23o0KEICwvD1q1bkZKSgqSkJADiQ6tXrVqF/v37w8fHBykpKWKrZOno6GD06NFiD+eic6lpMuKG3pvVVJ6fnx969uyJ3bt34+rVq9DR0cG0adPg6+vL9fptSkP062PRokUYM2ZMk5/YWRHPPm/7s4qiuLi4IC0tTWnPzgIAEs1v0lrkpM2w3ph0ampqEtsrKyvF8jPGJD5wBAKB1C508o6vuZ2HRL4389SZQzUlJibCwcEBbdq0abKNP6oQY2NkZWXh5cuX6N27d41pGvt+PHr0KMaNG4eQkBBMmzaN71NGZWUl7ty5g6ysLHTv3h2mpqYy5y0rK8Pt27fx7NkzGBoawsLCghv3r2qio6MxbNgwaGtr4+HDh2Jd2psCdXV1uLq64uDBg3yHQojSaWtr46OPPlLJeftcXFxw+vRp7N69G3PmzOElhtu3b6Nnz57Q09OTOixHXnmaEg8PD4SHh0MoFCrsyxxl1OeNrWfLysqQkpKCly9fol+/fnX2mq2oqMCdO3fw5MkTCIVCdOnSBWZmZnWumFWXvLw83L59G8XFxTA2NoapqWmTvV8oKChAly5dkJ+fj3///VfujQNUn/+PIp4r3vZnFUXJz89HZmYmzMzM0KZNG4Ufr2k3SRKVo6Ojg48++oibs0NeoqKiEBYWhps3byI3Nxc2NjYYPnw4fHx8uJuLwsJCLF68GBUVFRg5ciQ8PDzEynj69Cl8fX1RWVmJqVOnIicnB2FhVetF5eXliS1X3aNHD6xatQoAsGnTJiQlJWHmzJnQ0dFBSEgIYmNj8ezZM/z999+wsLDA6dOncezYMSQkJODhw4fQ1tZG9+7dMXLkyFq7KkdHR2P//v1ITk7Gw4cP0bFjR9jb22PGjBlwcnJCaGioTDF+//33iI2NhYeHh9i3Q0DVnAHbtm3D9evXkZ2dDSsrKwwYMAArV65Eq1atJNL6+fnB0NAQAQEB2LFjB86cOYOkpCSYm5vD1dUVixcvlutSm76+vgq/UWxq1NTU0L179wYtd6ulpYVevXrxfQpy8fXXXwMApkyZ0uQafQghjSNLvS1SvZ7V1tbGb7/9hkuXLqFVq1YYPXo05s6di/bt2yMnJwc///wzoqOjkZ6eDjs7O/znP//Bu+++W2McMTExCAkJwbVr1yAQCDBw4ECsXr2amy+lMXEDVROWBgQE4Ny5c8jOzka/fv0watSoWuelqW+ex48fw9fXF61bt8aOHTukXrdWrVrhp59+woULF1BZWYnevXvjiy++qLGeOX36NH7++Wdcu3YN7du3x+DBg+Hj44M///wTV65cwbRp0+Di4sLfG4hHja1ntbS0YG9vL3N6DQ0NWFlZwcrKSq7n0aZNGwwaNEhh16khMjIyYGxsDF1dXW5bRUUFli9fjvz8fJiYmMDOzo7vMBvEy8sLoaGhKCkpabK982R9rnj06BHX8+3evXt4+fIlunTpAhsbG6xcuVLsc6U5PKsoSnR0NCZOnIiwsDCJ51ZFYW/+SCPvdAKBQCJdZWWlWJrKykqJNAKBQCnxNbfzkMj3xo+sPDw82Ndff12PHLWrqKhgCxYsEItfQ0OD+/+QIUNYQUEBl97f358BYDo6Ouz69evcdqFQyIYNG8YAMCsrK1ZYWMiWL18u9foAYP379+fyDh8+nAFgnp6eTFdXVyzd9evXWVFRUY3xAWBDhw5lFRUVEuc1Z84csXSamprc/x0dHRljTOYY3d3dGQC2efNmseOEh4czPT09qfm7du3Kbty4IZb+0qVLDADr0KEDmzhxotR8c+bMkdvryxhjkZGRzN/fX+LvprqGvh9Fjhw5wgCwkJAQucZO6u/y5cvsiy++YE5OTtzfy+3bt/kOSyo1NTU2YcIEvsMghBdaWlps7Nix9c5X33qbsdrrWQDs448/ZgUFBax///4S+zQ1NdmFCxekljd+/Himra0tUccaGhqy+Pj4Rsedk5PDBgwYILUe9/DwYACYnp5eo/Pcvn1b6nbReU6bNo3p6+tLXBt9fX2WkpIi8Rpt376dqampcem0tLQYAGZmZsYGDhwo9X5CFqJ7EaFQKK+3oQSqz1Xb3LlzWevWrZmnpydbs2YN++STT1jPnj259+Ivv/yikOMqoz4PCgpikyZNYuXl5Qo9TmPI+lyxcuVKsWdWdXV17ncdHR125MiRepepys8qipKSksL8/f1ZcnKyUo5HDT90HtLzscY9aMvL999/zwAwXV1dtmPHDpafn8/Ky8tZVFQUMzExYQDYqlWruPRCoZC5uLhwDTyim7SNGzdKNAiVlZWxCxcuMACsdevWLC8vj/upfnMnurECwHr37s3Onz/P8vLyWEJCAisqKmJlZWVs5MiRLCwsjD158oRVVlaypKQk9vXXX7M2bdowAOy7774TO6/t27dz74OVK1eyBw8eMMaqbgiDg4PZ0qVL6xWjtA/Tp0+fspYtWzIAzNnZmaWnp7Py8nIWExPDXTtRA5OI6MMUAGvRogXbsWMHy8nJYS9evOA+2NXU1FhqaqpS3wfU8PP2CAgI4N5jbdq0YT/88APfIdWIGn5Ic9bQhp/61tuMidezw4YNY8nJyezx48fsiy++YDo6OlxjTYcOHdjBgwdZfn4+O3DgAPfAOGzYsBrL69OnD7t9+zarrKxk8fHxzNLSkgFg/fr1a3TcS5YsYQBYq1at2JEjR1hZWRl7+vQpmzJlCnf8NxtrGpKnroYf0ZdMCQkJrKSkhF2+fJmZmpoyAGzq1Kliee7evcs1Nnl5ebFnz56xiooKFh0dzQwNDbnyqOGHKIKfn59YY6fop0OHDiwsLExhx6X6vIqszxXff/89W7FiBbt+/TorLi5mBQUF7NChQ2zUqFEMAHvnnXdYcXFxvcp8259VVAE1/NB5SM/HGvagPWXKFLZp06Z65KhZQUEBa9euHQPAlixZIrH/7NmzDADT1tZmJSUl3PanT58yIyMj7luwmJgYrqV6165dYmUkJCRwD6A1Ed1YtW7dmr148aJe57Bnzx7uhkwkPz+ftWrVigFgq1evrrMMWWKU9mG6bNkyBoAZGRlxH84i8fHx3Pvh6NGj3PbqH6bbtm0Ty1NZWcmsrKwYAPbTTz815qUVs3TpUta9e/dabxSp4eftcfv2bRYREcHOnTvXpL8VY0x5N4rHjh1jhw4dYowxdvPmTbZ3716Wm5vLXr16xfbu3cv1TKB0lE6Ubu/evSwzM1Oh78uGNPw0tN4W1bMmJiasqKhILM+MGTO4eunPP/8U2xcTE8P1WKl+7yUqT0dHhz19+lQsT1paGtfb5eTJkw2O+/nz51yj1Jt1S2VlJbO3t5dorGlIHsbqbvgxNjZmhYWFYvtCQ0O5a1qdqFdTr169JM7zr7/+ooYfonAFBQUsNjaW/fnnn+zEiRPszp07Ej3j5U0Z9fmOHTuYm5tbk7+3keW5oialpaWsa9euDACLjo6uV5mq/KyiKH/99Rfr3r27RN2mKNTwQ+chPR9r2IN2Q78hlOaff/7hWm0zMjKkpunYsSMDwJKSksS2//3339yNnegmy83NTSJ/fRp+5s2bV2u8RUVF7Pz582z//v1s+/btLDAwkOsq2blzZy6d6ANLU1OT5efn13kdGvph+t577zEAbP369VLzDB06lAFgn3/+uURsANirV68k8nh5edVaZkP4+vqyXr16UcMPaXKUcaP4+++/s44dO7Ju3boxxv7XIyo+Pp5lZGSI9TJwcHCgdJSOOTg4sE6dOrFTp04p9L3ZkPq8ofW2qJ5dvny5RPodO3YwAKx9+/YS+woKCrg669GjRxLlvdnbRUTUM3jDhg0Njjs6OpoBYAYGBlIf9H744QeJxpqG5GGs7oafzz77TKKsO3fuMABMXV1d7KFaNJRr586dUs9T1FOIGn7I20QZ9fm0adMYAFZaWsr36daqPg0/6enp7M8//2S7du1igYGBLDAwkNnZ2TEAbM+ePfUqU5WfVRTlzJkzrFevXgqvz0VocmciVyUlJXKbTCstLQ1A1QpIDg4OACC2IhljDK9fvwZQtTKUjY0Nt+/999/H6tWrsXHjRpSUlMDc3Bx79uxpVDwWFhY17tu1axfWrVuH58+fS90vWhobAFJSUgAAZmZmEhOWyVNGRgaAqonVpOnZsycuXLiAO3fuSOzr0KEDWrZsKbFdNAGvPFcb+frrr7lJfglpbtzc3GBsbIyKigoAwOTJk2FnZ4du3bpBQ0MDx44d4z57tm/fTukoHbZv345OnTrB0tKS77evhMbU2wDQtWtXiTINDAxq3Kevrw9NTU2Ul5dLrZdqmizXysoKUVFRXP3XkLhFec3NzaUu3yzt2A3JIwtzc3OJbaL6WigUori4GPr6+gCAu3fvAgC6desmtaxu3bqJLQFOCJFNSEgIgoODVWJS4bo8evQIM2bMQFRUVI1pqj/bNJSqPKsoyocffojExESlHU/j2bNnfJ+zUtH5KlZkZCQMDQ1rXWFDVrm5uQAAPT099OnTp9a00pbKfPjwIfd/LS0tqTdZ9dG6dWup25OSkuDj44OKigpMmDABw4cP5z6MHj58iJkzZ4rdQBYUFNQYszyJPvCqr5xQnWi7tA/GupYQrayslFuc4eHhuHHjBjZu3PhWVJaE1MfVq1fx7NkzjB8/HkBVA3P1RubRo0dz/x86dCj3f0rXfNO1a9cOwcHBcHd3b3Kr3zS23pZW94jqhYYsbV1T/SdacUfUmNOQuEV5a1q9R9qxG5JHFnWtIFS9zhYKhQCqlreuDdXHhNRPXFwcsrKyMGHCBJVfpXbZsmWIioqCqakpvLy8YG1tDQMDA2hqauKrr77C2bNnxZ5tGkpVnlUUJTk5Gfv374eHh4dS6nONDh068H3OSkXnq1ienp746KOPcOTIkUaXJfo2U1tbG+fOnatX3n379uHXX3+FQCCArq4uUlJS4OPjg59//lnu5/yf//wHFRUVWLZsGb799luxfWfOnJFIL1oCMTMzU+6xVGdubo6EhAQ8ePBA6n7RdmnfFCpTZGQkwsPD4efnRzeapNkJCgrCvn37UFpa2mSXfyVNS0pKCvz9/WFra9vkGn4aU28rQnZ2ttTtom+qzczMGhy3KO+TJ09kPnZD8sibubk5cnNza7wHuX//PgDI5aGOkObkbanP4+Li8Pvvv0NPTw+xsbEwNDQU279hwwa5HUtVnlUUJTU1FQEBAbCzs1NKfa7azZGkyQkNDcXKlSvlUpatrS0A4MWLF7V2NXxTWloaFixYAABYtWoVDh48CIFAgF9++QX79+8XS9uiRQsAQFFRUYPjFHURl/YHK60BrGfPngCA/Px8mRrIGhqjqIHpjz/+kNiXn5/PXVNROr4EBgYiLS1N5b8dqU1JSQlevnyJkpISvkOhc21iFi1ahPDw8Eb3SCTNh4uLC9LS0jBq1Ci+Q5HQ0HpbUY4dOybxrW9xcTEXm6jBpyFxi/JmZmbi+vXrEvsjIyPlkkfeROf622+/Sey7dOkSN/SCEFI/qlKf1/VckZ6eDqCq88CbjT7Z2dm4du1avcusiao8qyiKqD6v3qtXkd7eJy3Ci0mTJmHw4MFyKcvU1BSenp4AgLlz50q9ScrIyMC2bdu430tKSuDm5obCwkIMGTIEX375JUaMGME1Rs2fP5/7QAMAExMTAEBZWRmio6MbFKfoG7zg4GCxb8hOnDiBH3/8UWp6Nzc3AMDSpUtx48YNsf1FRUW4fPlyo2P85JNPAABnz54V6+lUUVGBxYsX49WrVzAwMOCuMV9KS0u57u9vq1mzZqFt27bYuXMn36Eo3IwZM5rNucqDo6Mj3Nzc3uqGTyJfQqEQRUVF3JCdpqQh9bYi3blzBxs3buR+Z4zB19cXOTk5MDAwgLu7e4Pj7tmzJzc8b8mSJWJDEU6dOoXw8HCJMhqSR96WL18ONTU1/PPPP1i+fDnKysoAVA05mD59usKPT8jbSlXq87qeK0TPNffu3cP58+e57QUFBZgzZ47UL/be9mcVRREKhXj9+jU3v5+iNe13JlE5Ojo6cHV1lVt5gYGB6NKlC7KystC3b18MGzYM8+fPh6enJ/r16wdLS0ts2bKFS//ZZ5/h+vXraNu2Lfbv38+NYd+4cSMGDRqEgoICuLu7o7S0FEDVWP0PPvgAADBs2DAYGRmhT58+8PLykjlG0YfR33//DRMTE0yZMgUuLi4YPXo0OnbsKDXP1q1b0alTJ9y7dw8DBgzAiBEjsGDBAowbNw7Gxsb47LPPuLQNjdHJyYm7qZ09ezbee+89zJgxA3Z2dggODgYA+Pv7cxNn8sXX1xcODg4qMRa3oeT1gZ6WlgZzc3P069ePl/OQ5fg0PKB+vL29oaamxj18EVKX6Oho9O7dG6dOneI7FKnqW28rkr6+PtavX4/Bgwdj+vTp6NevH3bs2AEAWLdundjcfQ2J+6uvvoKWlhZiYmJgZ2eHadOmYcyYMRgzZgzatGkjNaaG5JGnnj17YvXq1QCALVu2oFWrVjA2NoatrS3y8/O5SVbrmgOIECLOy8tLJerzup4r+vbty/VO/OCDD+Ds7IypU6fCxsYGUVFR6NSpU73LrImqPKsoSnR0NBwcHJRWnzftvmhE5YwfPx69e/eWW3kdO3ZEUlISVq1ahV9++QXR0dFiLckWFhaYOnUqAOD48eP44YcfAFR1Ye7SpQuXTkNDA7///jt69+6NhIQEfP7559i0aRMAYO/evQgICEBkZCRycnLw5MkTsW6aopb7mrpuzpgxA/fu3cPXX3+NR48eISwsDBoaGhg+fDg2b96MXr16SdxAde7cGUlJSfjkk09w6NAhsa7lenp6YpN81ifGN4+zf/9+2NraIiAgAOfPn+da7o2MjLBr1y6MHTu2Xq+HIrqvenh4wN7enub3kUFRUREyMzPx8uXLJnv88ePH45133kH//v35ukwqpV+/figqKmry3xCSpsPGxgYbN26Evb0936FIVZ96W6SueraufW8Slbdt2zZcuXIFISEhXE9aPT09bN26FXPnzm103IMHD8bff/8Nd3d33Lt3D/fu3YOamhqGDBmCgIAADBkyRCLuhuSp6fOhtuumrq4OgUAgtTHez88PPXv2xO7du3H16lXo6Ohg2rRp8PX1xbx58wBU3acQQmQ3YMAAlJSUqER9Xttzhba2Ng4ePAgvLy8kJiYiJiYGQNVnZHBwMKKjo/Hrr79KPHO8zc8qimJjYwN/f3+l1ecCJuPXs9IeyqRllTWdmpqaxPbKykqx/IwxiT8egUAgtWeArMeV+cI08fOQ9/lKlP9m2XIrueGEQiEyMzNx9+5dGBgYoHPnzjA2NuY7LE5eXh5u374NAOjduzc33rUuZWVluH37Np49ewZDQ0NYWFjInLc+1y49PR3Z2dmwtrbmumSqisa+H48ePYpx48YhJCQE06ZNU3r87u7uiIiIwObNm7F8+fIGl5OYmAgHBwe0adOGl8Yfvo+vbOrq6nB1dcXBgwf5DoUQpdPW1m70Yg1Npd4uLS1FQkICtLW1YWdnV+eDQUPizsjIQHZ2NhwcHGpcBVQeeRSpoKAAXbp0QX5+Pv799996N+B7eHggPDwcQqFQYQ+/fNfnRDVRfV5/lZWVuHPnDrKystC9e3eYmpoq9Hiq/qyiClSnSYyohKlTp6J3795YsWKF3MtWV1eXWOK2KWnTpg0GDRpU73xaWlro1auXQmNTV1eHtbU1rK2t+bo8Nfr0009x/PhxpKSkqMS3JLU5f/48du3ahbi4OLRv3x7vvvsufHx8as3z6tUrbNmyBXFxcbh9+zbat2+PXr16YdmyZVyXe6Bq4vSwsDAAVY2M3t7e3L4ePXpg1apV9S6zuoKCAmzduhXXrl3DrVu3IBAI8M477+Cjjz7CvHnzcOzYMZmO//333yM2NhYeHh4YOXKk2DHS09Oxbds2XL9+HdnZ2bCyssKAAQOwcuVKtGrVSiKtn58fDA0NERAQgB07duDMmTNISkqCubk5XF1dsXjxYpXvKbZz505cuHABoaGhKvUtFeFPVFQUFi1ahMDAQIm/saamqdTb2traGDhwoELjbsh58nVtMjIyYGxsLLaEckVFBZYvX478/HyYmJg0uRXjCGnq3rb6XE1NDd27d1faxMpN+VlFUUT1+bZt25SyYIPqvytJk/LHH3+gsLBQIQ0/5O2kra0tdvOpqn755RfMmzePm88nKysLsbGxOHTokMSqCCJXrlyBu7s7srKyAFR1T7137x6uXr2K/fv34+eff+bmkEpMTMTx48e5vCEhIdz/+/fvzzW81KdMkUuXLmHKlCncMr5qamoQCATIyMjA33//DTs7O5mPf/78eYSHh8Pe3l7soTQiIgIzZ84Um8j7/v37OH36NPbv348jR46IPWg8f/4cISEh6NChA+7evSv2Ld39+/dx7tw5JCcnY/fu3Xy/9I1y5coVREREiF1PQmqjrq4OXV1dmoOFNNjmzZsRHh6OkSNHwtzcHHl5eTh79ixu3boFAPjyyy+ho6PDd5iEqBSqz0l9iepzpTUUMhmhanSF2E9j0gkEAol0lZWVYmkqKysl0ggEgkYdV97ny9d5yPt8Jcp/40dWb547IfLQ0PejyJEjRxgAFhISopD4Hj16xFq0aMEAsIkTJ7LHjx+z8vJyduLECWZgYMD9jW7evJnLU1RUxExNTRkA5uzszBITE5lQKGTPnj1j8+fPZwBY69at2bNnzxhjjJWVlbELFy5w2/Py8rifgoKCBpXJGGOFhYXMxMSEAWCWlpYsOjqaFRcXs7KyMpaYmMh8fHzY5cuXZTo+Y4y5u7tLnOvTp09Zy5YtubjS09NZeXk5i4mJ4Y7t6Ogodk0vXbrEXbcWLVqwHTt2sJycHPbixQu2fPlyBoCpqamx1NRUhbymjDGmpqbGJkyYoLDyGav6zKTPTdIUaWlpsbFjx/IdBlEAPz8/pqmpKXEf2aFDBxYWFtbgckWf/0KhUGGxK7o+J28nZdTnjNFzEGnaVHtcBWlyIiMjxZYiJ6Qu4eHhWLNmjUqvBrVlyxYUFxfD0tISERERMDQ0hIaGBj7++GP89NNPUvMEBgYiKysLWlpa+P3339GrVy+oqamhQ4cO+OGHH+Ds7Iz8/Hx89913AABNTU3o6+sDqJrjq3Xr1tyPaHt9ywSAb7/9FtnZ2WjdujUuXbqEDz74ADo6OtDU1ESvXr0QFBSEQYMGyXT8mmzatAkFBQUwMjLCyZMnYWFhAQ0NDTg5OeHo0aMAqr4pO3bsmNT8AQEBWLRoEdq1awcDAwNs2rQJVlZWqKysxIULF/h++Rvl6tWrOHTo0Fu9qp2iMcbw8uVL5OXl8R2KUty6dQtr167FzZs3+Q6FqKi1a9fixYsXiI2NxZ9//okTJ07gzp07ePz4MTw8PPgOjxCVFBcXh4MHD1J9TmSWnJyMNWvWKK0+p4YfIleenp745ptv+A6DqJDIyEgEBASodMPPv//+CwCYO3euxDxFrq6uMDIyksgjWiXBw8ND6tKYbm5uAKoqBVk1pMxLly4BAObPn4/27dsr5PpcvXqVuz5vDh9wcHDgVrGLi4uTmn/WrFlivwsEAgwYMAAA8ODBA4XErCxBQUGYNGkSN0SQ1N8///yDtm3bwsbGhu9QlCIlJQX+/v71+mwg5E36+vpwdHTEqFGj8PHHH8Pc3JyGDxLSCEFBQZg8eTLV50RmqampCAgIUFp9TnP8ELkKDQ2V+pBLSE0CAwPh5+en0hM737lzBwBgZWUlsU80Od7jx4/FtqelpQEAgoODERkZCeB/K/MxxlBeXg4A3Fw9smhImSkpKQCg0KUkMzIyAKDGiaV79uyJCxcucNexug4dOqBly5YS29u1awcAKCwsVFjcyrBo0SKMGTPmrZgIkiiHi4sL0tLSapw7jBBCiPJRfU7qS1SfK+vZmd6ZRK4mTZrEdwhExZSWlopN+KuKRPFraWlJ3S9t8urc3FwAgI2NTa09bbp27SpzHA0ps6CgAACgp6ensOsjapypaRJv0XZpjTiampq1lq3qXaodHR3h6OjIdxhEhQiFQhQVFUEoFPIdCiGEkP+i+pzUl1AoxOvXr5XWS0zmhp/g4GDeLgof8TW385UXHR0dfPTRRzh8+DDfoRAV4evri/DwcAiFQpXt9WNmZobr16/jyZMnUvdnZ2dLbLO0tMTVq1cxb968Opd8l1VDyuzevTvi4uKQmZmpsOtjbm6OhISEGodlibabm5srLIamytvbG/v27UNJSUmNDYeEVBcdHY2JEyciLCyM5mMhhJAmwsvLC6GhoVSfE5kpuz6XueHHy8uL1wuj7Pia2/nKy/jx49G7d2++wyAqxMPDA/b29hAIBHyH0mCWlpa4fv06Dh8+DG9vb7F9aWlp3BK51dna2uLq1asIDw/HokWLZDr/Fi1aAACKioqk7m9ImTY2NoiLi0NISAiWLFlSa566jl+T7t27IyEhAX/88QcWLlwoti8/Px9RUVFcuuamX79+KCoq4q3Rs7S0FHv37kVERATu37+PkpIStGvXDpaWlnB1dYWnpyeXdtOmTUhKSsLMmTMhEAgQEhKCa9euQSAQYODAgVi9ejVMTEykHicqKgphYWG4efMmcnNzYWNjg+HDh8PHx0fi3B89eoRDhw4hKioK9+7dw8uXL9GlSxfY2Nhg5cqV9XqfPHr0COvWrUNZWRn69u2LJUuW1Dum9PR0+Pn5wdDQEBs3bsT27dtx8eJFJCYmYsyYMdi5c6dSXzMbGxts3LhRocMzCSGE1M+AAQNQUlKisl9iEuWzsbGBv7+/8upzeS8TBp6WQedLU1+WvqEau3w2IfLU1Jdzj46O5pYXP3z4MLf99evXzMXFRepy7jdv3uSW012xYgUrLS0VK7O0tJRFRESwS5cucdsKCwu5ss6cOSMRR0PKvHHjBtPQ0ODylJeXi+VJTExkT58+len4jElfzj0mJobL99NPP3Hby8vLmbe3NwPADAwM2IsXL7h9ouXcjY2NpR5n6dKlDAD79NNPFfKaMibf5V9//PFHFhsbq7BYG2revHli9Y2enh73f0tLS7G0w4cPZwDY+PHjmba2NgMgtiS0oaEhi4+PF8tTUVHBFixYIHYM0fsNABsyZAgrKCgQy7Ny5UqxulJdXZ37XUdHhx05ckQsfU3vlaSkJNalSxcGgA0cOJA9f/68QTGJyu/QoQMbN26cWL7x48fz/RI2SklJCVu/fj33N14dLedO6ouWcydNlbKWcyekKaMmSSJXU6dOxebNm/kOg6iQTz/9FJaWlio9V8sHH3yAUaNGobKyEhMmTMDIkSPh5eUFe3t7nD59GgYGBhJ5bG1tsWHDBgDA5s2bYWlpCU9PT8ybNw8ff/wxOnfuDDc3N7HeQnp6evjggw8AAMOGDYORkRH69OnD9QBsSJl2dnbw9fXl8vTo0QNeXl6YMWMG+vbti969eyM+Pl6m49fEyckJ7u7uAIDZs2fjvffew4wZM2BnZ8cNW/X395d6nd4Wfn5+GD16NGbMmIGHDx9y23fu3Al3d3deVgFJSEjAnj17AAA//fQTnj59isLCQhQUFODo0aM1djuOjIyEjY0Nbt++jdLSUsTHx8PS0hJPnjzB3LlzxdLu3r0bP/zwA3R1dbFjxw7k5+ejuLgYUVFRMDExwcWLFxEQECCWx8zMDCtWrMD169dRVFSEvLw8HDp0CKNGjUJJSQl8fHxQUlJS67mdO3cOQ4YMwYMHD+Dq6oq///6bm/eqITEBwPPnz3H8+HFs3LgRmZmZyM3N5f7elCkqKgqWlpY4ceJEo8vKyMjAxo0b0a9fP+zcuRNlZWVKPx9CCHkb8FmfE9Ukqs+PHz+unAPKuyUJ1OOnWff4oW8ISX35+vqyXr161foNYVPv8cNYVW+aWbNmifVOMDAwYHv27GFubm4MANu2bZtEvtOnTzNra2uJv3sdHR02evRolpCQIJb+wYMHbMGCBczQ0JDrpdC/f/9GlckYYwcOHGDGxsYSeWxtbdnNmzdlPr6npycDwLZu3SpWvlAoZH5+fqxFixZi5RsZGUn04GCs7h4/y5cvV6kePzY2NlzPks6dO7NvvvmGFRUVsWnTpjEAEr2zlOHnn39mAJi1tbVM6UU9fnR0dCR6iKSlpTE1NTUGgJ08eZIxxlhBQQFr164dA8CWLFkiUd7Zs2cZAKatrc1KSkrqPH5paSnr2rUrA8Cio6O57W++V0JDQ5mWlhYDwD755BOxz5aGxCQqHwD7/PPPlf46venMmTOsV69e7NSpU40uKykpiRkZGTEArFWrVsze3p5FRUUxxqg+J/VHPX5IU6WMHj981udENcmzPpeFgLH/rvUrJ9Lmh5B2CDU1NYntlZWVYvkZYxLjJAUCQZPqGSDv85D1+inam1HIGgFjTKXnaiFNU0PfjyJHjx7FuHHjEBISgmnTpik01sLCQsTHx6N9+/bo0aOHzH8PeXl5uH37NoqLi2FsbAxTU1NuTp2GakiZT548wa1bt6CtrY133nkHXbp0kev1EQqFSE9PR3Z2NqytrWucE6YpUFdXx8cffyyXSRrPnDnDraAGAPr6+ujcuTO2b98OFxcXXj4379+/j65du6KyshKbN2+Gt7c3OnbsWGN6FxcXnD59GlOnTsW+ffsk9o8YMQJRUVHYsGED1q1bh9jYWAwaNAhqampIS0tDt27dJPJ06tQJz549Q1JSEmxsbMT2ZWRkIDU1FdnZ2VwPn59//hk3b97Enj17MHv2bADA5cuXMXjwYBgbG2Px4sVYtWoVAODrr7/GypUrxcpsSEyi8gHg8ePHTWYZ9SNHjmDv3r2NKuPVq1e4ePEiSktLuW3t27dHv379EB0djY8//hhHjhzh+1SJivDw8FD4Yg3KrM/J20NdXR2urq44ePCgQo9Dz0GkKaPl3IlcRUZGwtDQEO+++y7foRAVER4ejhs3bmDjxo1vRWWpr68PJyeneudr06YNBg0aJNdYGlKmoaGhQh9s1dXVYW1tDWtra4UdQ56EQiGOHj0ql3KqKywsxPPnzxEREYHCwkKMHz9e6RNCvvPOOxg1ahSOHTuGFStWYOXKlbCxscH777+PefPmSTTEiFhZWdW4PSoqCnfu3AFQNbE5UPVliIODAwDxLzIYY3j9+jUAICsrizveo0ePMGPGDG7Sb2keP34sse3Ro0f4z3/+AwDYt28fpk6dKpGmoTEBVUMdm0Kjz61bt7B//36UlpY2+r3JGJP4EurVq1eIi4vj+zQJIUSlxMXFISsrCxMmTKAJnolMkpOTsX//fnh4eMDOzk7hx6OGHyJXnp6e+Oijj+gbQiKzyMhIhIeHw8/P761o+CFvF11dXbmM17e1tUVycjIAwMDAADY2NggMDERgYCAmTZqE0tJSXpZ/PXz4MEJDQxEUFISEhAQkJSUhKSkJ3333HZYuXYotW7ZIvSbSiOIXNZzk5uYCqGow6dOnT61x6Onpcf9ftmwZoqKiYGpqCi8vL1hbW8PAwACampr46quvcPbs2Rp7wmpra6O0tBQnTpyAu7s7NDTEb3MaGhMAtG7dWrkvTg1SUlLg7++PsLCwRr83k5OTMXz4cK4hrVOnTpg8eTLWr1+Pzp07832qhBCiMoKCgrBv3z7e6nOielJTUxEQEAA7Oztq+CGqJzQ0FEZGRnyHQVRIYGAg/Pz86NsR8tZr0aIFOnfuDH9/f0yePBkCgQCLFi3CmDFjJBoolEVNTQ1eXl7w8vLCq1evcO7cOezatQsnT57E1q1bMWHCBG6Yk0h2drbUskSNB2ZmZgAAS0tLAFWNMefOnZMpnri4OPz+++/Q09NDbGysRA+b2iZTNjY2xi+//ILx48dj//79KCkpQVhYmNgNeENiampcXFyQlpYmt95HQqEQ7dq1Q9++fbFlyxbY2tryfYqEEKJy+K7PieoR1efKenamJy0iV5MmTZJ4SCCkNqWlpVwPAULeVpaWlli0aBESEhLg5ubG9W5zdHSEm5tbk2j4bNWqFcaOHYvDhw9zK2AlJCRIpDt27JjE8CDRqliicwXANSC8ePGi1mFb1aWnpwMAOnToINGwkZ2djWvXrtWaf8SIETh58iT09fVx6NAhjB8/XmwFsIbE1NQIhUIUFRVJDB9sCENDQ+jq6uLXX3/FX3/9RY0+hBDSQE2pPieqQSgU4vXr10pbCY7emUSudHR04OrqyncYRIX4+krmIqUAAB5BSURBVPrCwcGhSU3aToi8HTp0CJs2bYK+vr7Ydm9vb6ipqfGyjHZMTAyOHz8u0YBw//595OfnAwDatWsnke/OnTvYuHEj9ztjDL6+vsjJyYGBgQHc3d0BAKampvD09AQAzJ07F9evX5coKyMjA9u2beN+F/UWunfvHs6fP89tLygowJw5c+pcxh0A3nvvPZw+fRpt2rTBiRMnMHr0aBQVFTU4pqYmOjoavXv3xqlTpxpdVrt27ZCZmYkxY8bwfVqEEKLSvLy8eKvPiWqKjo6Gg4ODXOpzWVBfNCJX48ePR+/evfkOg6gQDw8P2Nvb0/w+pFnq168fioqKePmG8Pz581i3bh06d+6Mfv36wcTEBOnp6YiNjUV5eTkGDhwINzc3iXz6+vpYv349/vrrL3Tv3h03b95EfHw8AGDdunVic+EEBgbi4sWLyMrKQt++feHs7AwLCwvk5+cjPT0d8fHxMDY2xqeffgoA6Nu3LywtLZGWloYPPvgAQ4YMQefOnXHhwgU8fPgQnTp1wtOnT+s8t4EDByI6OhouLi6Ijo7GiBEjcOLECbRs2bLeMTU1NjY22LhxI+zt7fkOhRBCyH8NGDAAJSUl1OOHyMzGxgb+/v5Kq8+p4YfIVVhYGN8hEBXj6upKvcRIs7V48WIsXryYl2Pb2tqiR48euH37Nh4+fMhtFwgEGDNmDLZv3w51dXWJfN9++y2uXr2KkJAQXL58GUDVRMhbt27F3LlzxdJ27NgRSUlJWLVqFX755RdER0cjOjqa229hYSG2+pa2tjYOHjwILy8vJCYmIiYmhisnODgY0dHR+PXXX8Xiqukmu0+fPjh37hyGDRuGixcvcv/WN6amxsrKCmvWrOE7DEIIIdX4+PjAx8eH7zCICrGyssLq1auVdjy5N/wMGTJEbmUJBAKJ8ppar4AhQ4ZIrC7SmBjlef34MHXqVPTu3RsrVqzgOxSiIj799FMcP34cKSkp9C0JaXZ27tyJCxcuIDQ0VOkTQo4fPx7jx49HTk4OsrKykJOTg3bt2sHMzIyb40caNTU17NmzBzt37kRCQgK0tbVhZ2dXY/ytWrXCd999h6CgIGRmZuLu3bswMDBA586dYWxsLJHe1tYW165dw507d5CVlYXu3bvD1NQUQFUd88svv4ilHzhwYI2rfNna2uLJkyeNiundd9+tsXw+REVFYdGiRQgMDMTIkSP5DocQQgj4rc+JahLV59u2bcOoUaMUfjy5vysvXLjQpMuTt+pzEDSH863LH3/8gcLCQmr4ITLT1taucXloQt52V65cQUREBEJCQniLoX379rU29NREW1sbAwcOlDm9uro6LCwsYGFhUWdaNTU1dO/eHd27d1foudcnpqZCXV0durq6UntjEUII4UdTqM+JahHV58pqKKSv14lclZSU4MiRI3yHQVTI119/jcTEROrtQ5ql4OBgVFZWii05TkhtPvzwQyQmJmLEiBF8h0IIIeS/QkJCqD4n9aLs+pyetIhcRUZGcnM+ECKL8PBwrFmzpkkNpSBEWa5evYpDhw7RqnZEZrdu3cLatWtx8+ZNvkMhhBDyX3FxcTh48CDV50RmycnJWLNmjdLqc2r4IXLl6emJb775hu8wiAqJjIxEQEAANfyQZikoKAiTJk1CRUUF36HUae3atYiIiFDKOHRSs5SUFPj7+yM5OZnvUAghhPxXUFAQJk+erBL1OWkaUlNTERAQoLT6nGaeInIVGhoKIyMjvsMgKiQwMBB+fn401Is0S4sWLcKYMWNUYiJIJycnvkMgAFxcXJCWlgZDQ0O+QyGEEPJfqlSfk6ZBVJ8r69mZ3plErt59911MmTIFCxcuhJubG9zc3NC+fXt8//33+P777xEREYEDBw7g+fPnWLhwIaWjdFi4cCF8fX0VPokrAPj7++Onn37i+8+EqAhldNd2dHSEo6Mj36dKVIhQKERRURGEQqHCj3Xp0iU4OzvzfcpERdy6dUtpx6L6nNSHsurzn3/+GefOnWty99m1pYuIiEBOTg6l4yHdzJkz4eDggAULFijl74AafohcOTo6orS0FLm5uQCA9PR0FBQUAACePn2KW7duoby8HMXFxbh16xalo3S4desW/u///g9PnjxRWK8fbW1tdOjQAbm5uVxMhNSlQ4cOaN26tUKP4e3tjX379qGkpIQmhCQyiY6OxsSJExEWFgYPDw+FHadDhw4oKytT6sM8UX0dOnRQaPlUn5OGUEZ9/sknn+Dw4cPo27cvgKZ1n11buoqKCkrHY7pz586hR48ecHV1Vej7EwAEjKeJNdTU1CTm9KisrIRAIOAjHIVijEk80AoEgiY9+debrwLNvkL4RO9H8rYKCgrC+fPn8fvvv1P3cCKT1NRU/PHHHxg/fjx69uzJdziEEEIIUQHU8KME1PBDSOPQ+5GQpufly5cQCARo06YN36EQQgghhJBa0GyqhBBCCE927twJd3d3lVsF5N9//0Xbtm1hY2PDdyjNTlRUFCwtLXHixAm+QyGEEEKIiqCGH0IIIYQnV65cQURERJPuASqNqjVUvU3U1dWhq6sLdXV1vkMhhBBCiIqgoV5KQEO9CGkcej+St5WoHlS1uu/y5csYPHgwjI2N8fDhQ77DIYQQQgghtaAeP0QmAvqhHx5/CHlbXb16FYcOHWrSXwSQpuXWrVtYu3Ytbt68yXcohBBCCFER1PBDCCGE8CQoKAiTJk1qUkOnoqOjMWvWLAwcOBBdunRB3759MWPGDJw/f15q+oqKCmzbtg2jRo2Cqakp3n//fWzfvl2iVy9jDFFRUfDx8cGQIUPQtWtXWFtbY8yYMfjhhx+kNn5t2rQJ3t7eOHfuHOLj47Fw4ULY2dnBxsYGU6dORXp6eo3ncfr0aXh4eKB79+4YNGgQli9fjqysLHz33Xfw9vZGVFSURJ5Xr15h/fr1GDlyJLp27Yr+/ftj9uzZuH37Nt8vCyclJQX+/v5ITk7mOxRCCCGEqAga6qUEb8NQL0KaEhrqRd4WV65cQVZWFiZNmiRRTyibUCjEggULsGfPHm6bpqYmysvLAQCOjo6IjY0F8L+hXh06dICTkxMOHjwoUd6cOXOwe/du7vfi4mLo6upyv2toaIg1eA0dOhRnz54Vm7vGxcUFp0+fxrRp03D48GEUFhaKHUNfXx9Xr16FlZWV2PagoCB8+umnXD2rpaWFsrIymJmZwdDQELGxsdi8eTOWL18u9lq4u7sjKytLIr4WLVrg559/hqenJ6+vEQAUFhbi8ePHMDQ0RMuWLfkOhxBCCCEqgHr8EEIIITxxdHSEm5sb740+APDdd99hz549EAgEWLlyJR48eICysjLk5OQgODgYgwYNksjz/PlznDhxAjt27EBOTg5evHjBNab8/PPPSEtL49JqaGhg5MiRCAsLw5MnT1BWVoakpCR8/fXXaNOmDS5cuIAff/xRamz79u2Dg4MDEhISUFJSgsuXL8PU1BSFhYXw8/MTS5uZmYnly5ejsrISXl5eePbsGYqKihAdHY2SkhKu8aq64uJirtHH2dkZiYmJKC0txbNnzzB//nwUFxdjwYIFeP78Od8vE4RCIYqKiiAUCvkOhRBCCCGqgvHk3r17LDMzU+znbfbmud67d4/vkAghhPDMy8uLCQQCVlpaymsc+fn5rFWrVgwAW716dZ3pL126xFDV+Y5t27ZNbF9lZSWzsrJiANhPP/0k0/H37NnDALChQ4eKbR8+fDgDwIyNjVlhYaHYvtDQUAaAmZiYiG1fsGABA8B69eolcZy//vqLi3vz5s3c9oCAAAaAaWlpsSdPnkjkc3Z2ZgDY+vXrlfmySHXw4EEGgIWFhfEdCiGEEEJUhAZfDU6mpqY8N3kpl5mZGd8hEEIIaWL69euHoqIi3nv8JCUl4dWrV9DU1ISvr2+98s6aNUvsd4FAgAEDBiA1NRUPHjyQSF9cXIyrV68iOzsbz58/B2MMjx49AgDcvXtX6jE8PDygp6cntm3gwIEAgMePH0MoFHJDxBISEgBUDTV7k4uLC0xNTbnhXCIxMTHccTp16iSRz83NDefOnWsS8+rY2Nhg48aNsLe35zsUQgghhKgI3hp+CCGEkOZu8eLFWLx4Md9hICUlBUDVlxStWrWSOV+HDh2kzjPTrl07AJCYk2fXrl1Yt25djUOmHj9+LHW7ubl5jccQCoUoLi6Gvr4+gP81HnXr1k1qWd26dZNo+BENSQsODkZkZCQAcPMQMsa4eY7ezMcHKysrrFmzhu8wCCGEEKJCqOGHEEII4cnOnTtx4cIFhIaGQkODvyq5oKAAACR61dRFU1Oz1v3VFzFISkqCj48PKioqMGHCBAwfPpxrOHr48CFmzpwpseiDiJaWlszHEc19U32SaGmqLyaRm5sLoKo3Tfv27WvM07Vr18ZdaDmIiorCokWLEBgYiJEjR/IdDiGEEEJUADX8EEIIITy5cuUKIiIiEBISwmsc3bt3B1A1MbKi/Oc//0FFRQWWLVuGb7/9VmzfmTNn5HYcc3Nz5Obm1ngu9+/fBwCxRiZLS0tcvXoV8+bNg4+Pj8KugTyoq6tDV1e3zoYtQgghhBAR/pcRIYQQQpqp4OBgVFZW1tmjRdF69uwJAMjPz8eRI0cUcgzRcCo7OzuJffI8pq2tLQDgt99+k9h36dIlZGRk1JgnPDy8xl5HTcWHH36IxMREjBgxgu9QCCGEEKIiqOGHEEII4cnVq1dx6NAhsaFKfDAzM4ObmxsAYOnSpbhx44bY/qKiIly+fLnRxwCqGruqN66cOHGixmXcG2L58uVQU1PDP//8g+XLl6OsrAwAkJycjOnTp0vNs2zZMmhqauLSpUvw9fXl8oiUlZXhwIEDjb4G8nDr1i2sXbsWN2/e5DsUQgghhKgIavghhBBCeBIUFIRJkyahoqKC71CwdetWdOrUCffu3cOAAQP+v737j4m6/uMA/jwOEzlEyMVOwB3eCJBDlDzDJprmxOU0K2+CP3abM3MKYuuXU1lbCth0lRFlo9VSRNIMsy3HLsEfmBNlmHrAyVFAmihi3cF5IHJ8vn807ut1aGic7w6fj43t9n5/Pq/36/O+24697/0Ds2fPxqpVqzB//nyEhobi9ddf/1fxFy1aBAAoKytDeHg4Fi9ejOTkZMydOxchISED9hyxsbHYsGEDAOD9999HYGAgQkNDERcXB6vVirFjxwJw3QMoLi4O7777LgBg27ZtiIqKwqJFi7By5Uo8//zzCAsLw8KFC1FTU/NQ35O+mEwmZGdn/ydOGCMiIiLvwD1+iIiIBElPT8e8efOEbuzcKywsDEajEWlpaSguLobBYHDWKRQKTJ06td+x+nqeZcuWobGxEe+99x6uXLmCoqIi+Pr6YtasWdi2bRvGjx/vtm9N7zH3fcWTy+WQyWR9Ls3avHkzYmNjkZ+fj8rKSvj5+WHp0qVYt24dVq5c6XzeO61fvx6TJk3CmjVrYDKZXE7w8vPzw9y5c6HVakW/TUhOTkZdXR2USqXoVIiIiMhLyKT/+mJ2IiIieqi6urpQW1uLlpYWKJVKREZGYtiwYQMS22KxoLa2FgAwYcKEAYvbH+3t7Rg9ejSsVitOnz6NSZMm3TPHjo4OhIaGQqVSPdQ878VqtaKxsREqlQpBQUGi0yEiIiIvwIEfIiIiQfR6PXbv3o3Ozk7hGzwPJvX19QgNDYW/v7+zrLu7G2lpacjPz0d4eDjMZjP8/PxEp3rfiouLsWDBAhQVFSE1NVV0OkREROQFxM8tJyIiekRptVrY7XbnkiYaGNu2bcPevXsxZ84cqNVqWCwWHDlyxLlHz6ZNm7xy0AcANBoNsrKyEB8fLzoVIiIi8hKc8UNERESDSlZWFjZt2oTbt2+7lD/xxBPIzc3lTBkiIiJ6pHDgh4iISJC8vDyUl5ejsLDwP7HB82Bis9lQXV2N1tZW+Pj4IDo6GiqVym0DaW9jMBiQnp6O7du3Y86cOaLTISIiIi/A/zKJiIgEqaiowL59+1BQUCA6lUEnICAAiYmJotMYcHK5HP7+/l4/gEVEREQPD2f8EBERCdL7FSyTyUSnQkRERESDFHeTJCIiEqSyshLFxcXo6ekRnQp5iZqaGmRmZuLChQuiUyEiIiIvwYEfIiIiQXJzc6HT6dDd3S06FfISJpMJ2dnZqK6uFp0KEREReQku9SIiIhKkoqICTU1N0Ol0Qo50//PPPwEAwcHBoruCz9pPNpsNzc3NUCqVGD58uOh0iIiIyAtw4IeIiOgRZDabERUVBYVCAZvNJjodj7p48SJiYmIGxbNarVY0NjZCpVIhKChIdDpERETkBbjUi4iISBC9Xg8fHx90dXU99LYHcnnZypUroVarsXPnzof+HABQV1cHtVoNrVbbZ/1g+o2rtLQUEyZMQElJiehUiIiIyEvwOHciIiJBtFot7Ha7kGVeA+natWtoaGiAxWIR0r7dbkdDQ4NzOdffhYSE4K233sJjjz0msJcGhkajQVZWFuLj40WnQkRERF6CAz9ERESCZGRkICMjQ3Qag97jjz+OrVu3ik5jQERHR2Pjxo2i0yAiIiIv4t0/MRIREXmxvLw8pKSkePRUr87OTrzzzjuYNm0a1Go1Fi5c2K8lWQaDAcuWLYNWq8WYMWMwd+5cfPTRRy5Hz9vtduj1elRVVQEAvvrqK+j1euffuXPn7jvm35WWlmL58uWYPHkyRo8ejYkTJ2LZsmU4fvw4AKCwsBCZmZkAAIvF4tL+li1bAADNzc3Q6/VYs2ZNn22YzWasXr0aU6ZMgUqlQnJyMjIzM9HW1uZ27datW6HX63H06FFUVVVh9erVGDduHDQaDZYsWQKz2eyx97K3D6OionDo0CGPtkNERESDiERERERCLF26VAIg3bp1yyPxW1tbpaeffloCIAGQhgwZ4nydmpoqAZAUCoXLPd3d3dKqVauc1wGQfH19na+TkpKk9vZ2SZIkyWKxuFz3978ffvjhvmPemceKFStc7rkz/8TEREmSJOnNN9+8a/uTJk2SJEmSamtr+3xWSZKkvXv3SgqFos/7x4wZI50/f97l+lmzZkkApKVLl0oBAQFu9wQEBEgmk8ljn5nDhw9L48ePl0pKSjzWBhEREQ0unPFDREQkyK5du9DT0+OxvWc2b96M06dPIzAwEAcPHsTNmzdx7do1LF68GF9//XWf9+Tn52PHjh3w9/fHxx9/DKvVio6ODhgMBoSHh+PEiRPIyckBAAQGBsJisWD27NkAgC1btsBisTj/kpOT7ztmr08++QSff/45ZDIZ3n77bVy6dAldXV1obW3Frl278MwzzwAAcnJyUF5eDgAYMWKES/tlZWX37J+Wlha88soruHnzJqZPnw6z2Yzbt2/j2LFjCA8PR0NDA1asWNHnvbt370ZCQgLOnj2Lzs5OnDx5EiqVCjabDZs3b/bI+wkAM2fOxM8//+zscyIiIqJ/JHrkiYiI6FF1+vRpaf/+/ZLD4Rjw2NevX5f8/PwkAFJBQYFLXU9PjxQfH+82C6a9vV0aOXKkBEBau3atW8wjR45IAKShQ4dKnZ2dzvL58+dLAKTt27e73fMgMa1WqxQYGCgBkDZs2PCPz3r27FkJgBQUFNRn/d1m/LzxxhsSAGnUqFFSR0eHS11VVZVzFs/333/vLO+d8RMaGirZbDaXewoLCyUAUnh4+IC/n72qq6uljRs3us1EIiIiIrobzvghIiISJDc3FzqdziN7/Jw/fx6dnZ0IDg5GamqqS51MJsOqVavc7jEajbhx4wZ8fHz63A9n+vTpCAkJwa1bt1BfX9+vPB4kptFoRFtbG4YMGYJ169Z5pO8BoLKyEgDw6quvws/Pz6UuISEBU6dOBQCcOXPG7d7U1FQoFAqXssmTJwP4a08hh8PhkZxNJhOys7NRXV3tsX4hIiKiwYWnehEREQmSnp6OefPmwdd34L+Of/nlFwCAWq3uM350dLRbWV1dHQCgp6cHCQkJAABJkpz1kiTh5s2bAICmpiZoNJp/zONBYppMJgBAREQEAgMDB7xvevUONI0dO7bP+tjYWJSXlzv78k5qtdqtbOTIkQAAh8OBjo4OBAQEDHjOycnJqKurg1Kp9Fi/EBER0eDCgR8iIiJBEhMTkZiY6JHYvYMpd9s/yN/f363sxo0bAACFQoGnnnrqnvH/Ptvlbh4kZnt7+3218aBsNttd++LO8t7r7vRP+zLd66Syf8PhcMBut3tsRhERERENPhz4ISIiEkSv12P37t3o7Owc8A2eIyIiAABXr17ts/7y5ctuZVFRUQCAoUOH4ujRowOSx4PEfPLJJwEADQ0NA9onf6dWq3H27FlcunSpz/re8r5m94hSWlqKBQsWoKioyG0JHxEREVFfuMcPERGRIFqtFi+//DJ8fAb+67h3wKWhoQHnzp1zqz9w4IBbWVxcHADgjz/+gMFg6Hdbw4YNA/D/WUb/NmZsbCwAwGq14uDBg/1u326331cf9Q4w7d+/363OarU68+297r9Ao9EgKysL8fHxolMhIiIiL8GBHyIiIkEyMjKwf/9+j+zxExsb69yceO3atS7LlUpKSrB37163e1QqFRYtWgTgrw2P+xowqq+vx4cffuhSFh4eDgA4ceKE27KoB4kZERGBhQsXAgBee+01nD9/3uV6u92OkydPurXf1dWF0tLSfvdRWloaAODIkSP44osvnOXd3d3IyMhAW1sbgoODnfn/F0RHR2Pjxo3OwTEiIiKifyKT7txhkYiIiB6avLw8lJeXo7Cw0CODPz/99BOee+45dHV1ISIiAlOmTIHVakVJSQmCgoLQ2toKhULhMljT0tICrVaLS5cuQS6XY/r06YiMjITVaoXZbEZVVRVCQ0NdloqVl5dj2rRpAABfX1/ExMRgyJAhyM3NRVJS0gPF/P333zFx4kRcu3YNQ4cOxbPPPgu1Wo0rV67g2LFjiImJwalTp5zXz5w5E2VlZQAApVKJUaNGQaPRoKCgACaTCWPHjnV7VuCv07l6B8GmTZsGtVqNU6dOOTeY/vTTT11OQEtOTsaPP/6I/Px8rFixwiWW1WpFUFCQ87UnNqY2GAxIT0/H9u3bMWfOnAGPT0RERIMP9/ghIiISpKKiAvv27UNBQYFH4k+ZMgVlZWVISUlBY2MjGhsb4ePjg6SkJOTk5CApKcltwCkkJARGoxHr16/Hl19+idLSUpdZNJGRkViyZInLPVOnTkVRURE++OADmEwmGI1GAP9fevUgMcPCwmA0GpGWlobi4mKXZWIKhcI5m6nXzp07kZOTgwMHDqC1tRVXr151Ptu9ltLt2bMHcXFxyMnJwfHjx3H8+HEAwKhRo/DZZ5/hhRdecLm+N1ZfA3VyuRwymQye/E1NLpfD398fcrncY20QERHR4MIZP0RERIL0fgXLZDKPt1VfX4/Lly8jISEBI0aM6Nc9DocDDQ0N+PXXXxEcHIywsDCEhob+qzweJGZXVxdqa2vR0tICpVKJyMhI574+A8XhcMBsNuPy5cuIiYlxLh8jIiIi8nYc+CEiIhLkzJkz+O233/DSSy95ZINnGnxqamqwZ88epKSkYNy4caLTISIiIi/A/zKJiIgEyc3NhU6nQ3d3t+hUyEuYTCZkZ2ejurpadCpERETkJTjjh4iISJCKigo0NTVBp9Nxxg/1i81mQ3NzM5RKJYYPHy46HSIiIvICHPghIiIi8hJWqxWNjY1QqVTOE8SIiIiI7oU/LxIREQmi1+vh4+ODrq4u0amQlygtLcWECRNQUlIiOhUiIiLyEjzOnYiISBCtVgu73c5lXtRvGo0GWVlZiI+PF50KEREReQku9SIiIiIiIiIiGqT4EyMREZEgeXl5SElJ4ale1G8GgwFRUVE4dOiQ6FSIiIjIS3Dgh4iISJCKigrs27cPPT09olMhLyGXy+Hv7w+5XC46FSIiIvISXOpFREQkSO9XsEwmE50KEREREQ1SnPFDREQkSGVlJYqLiznjh/qtpqYGmZmZuHDhguhUiIiIyEtw4IeIiEiQ3Nxc6HQ67vFD/WYymZCdnY3q6mrRqRAREZGX4FIvIiIiQSoqKtDU1ASdTscj3alfbDYbmpuboVQqMXz4cNHpEBERkRfgf5lERESCJCYm4vDhw1izZg0AYMeOHZgxYwauX7+O2tpazJgxA9988w0AICUlBWlpabzuEb9u+fLl+Pbbb+FwOER/fImIiMhL+IpOgIiI6FGVlpaG7777DhMnTgQAXL16FUajEbdv34bdbofRaERraysA4OLFi2hra+N1vA5lZWWIiYnBiy++KPojTERERF6AS72IiIiIiIiIiAYpLvUiIiIiIiIiIhqk/gcNaHDnCisUNQAAACV0RVh0ZGF0ZTpjcmVhdGUAMjAyMS0wOS0yMVQxNTowNTowMC0wMzowMB1GS2sAAAAldEVYdGRhdGU6bW9kaWZ5ADIwMjEtMDktMjFUMTU6MDQ6NDktMDM6MDCSC9PAAAAAKHRFWHRpY2M6Y29weXJpZ2h0AENvcHlyaWdodCBBcHBsZSBJbmMuLCAyMDIwCrresAAAACB0RVh0aWNjOmRlc2NyaXB0aW9uAEFkb2JlIFJHQiAoMTk5OCmwuur2AAAAAElFTkSuQmCC)\n",
        "\n",
        "<p> Figura - 2 </p>\n",
        "</div>"
      ]
    },
    {
      "cell_type": "markdown",
      "metadata": {
        "id": "c1_OyH_lqAHA"
      },
      "source": [
        "<div align=\"justify\"> \n",
        "\n",
        "O Pyannote pode pular a etapa dessa camada, caso o úsuario queira, isso pode ser configurado num arquivo yml, chamado config, esse arquivo não só configura qual sera o extrator, como todos os outros aspectos de treinamento. (mais adiante isso será melhor explicado). Ao optar por pular esta etapa, o úsuario tem que escolher em que forma o dado de entrada é representado, MFCC, Spectrograma, entre outros. Caso ele queria deixar por conta da rede o processo de extração, ele deve configurar como RawAudio. \n",
        "\n",
        "</div>\n",
        "<br>\n",
        "\n",
        "<div align=\"center\">\n",
        "\n",
        "![WhatsApp Image 2021-09-21 at 15.44.29.jpeg](data:image/jpeg;base64,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)\n",
        "\n",
        "<p> Figura - 3 </p>\n",
        "\n",
        "</div>"
      ]
    },
    {
      "cell_type": "markdown",
      "metadata": {
        "id": "8swBMpXDvtpr"
      },
      "source": [
        "<div align=\"justify\">\n",
        "\n",
        "Todas as etapas que estão presentes na figura (1) são construidas baseadas num modelo generico chamado de PyanNet, este modelo é autoral do desenvolvedor do Pyannote. Dito isso, podemos entrar em detalhes de como é a rede de extração de características.\n",
        "\n",
        "</div>\n"
      ]
    },
    {
      "cell_type": "markdown",
      "metadata": {
        "id": "iWN6urkAxLzz"
      },
      "source": [
        "<div align=\"center\">\n",
        "\n",
        "![image.png](data:image/png;base64,iVBORw0KGgoAAAANSUhEUgAAAjAAAABLCAIAAADh6SoTAAAgAElEQVR4Ae19eVBTyb4/86beu1u9qvvq3blvrvd6RVQeigoESBiUVcAVRBxlGQVkUVFwQRwQVBQiyKagomwqQoAAIQtJ2AIhIYsHBdwFAdkEo6NBBLxOIEx+9ehfnTqVhBBixIXTf6T6e7r7292f0+nP6T7f/h4dGRpQBFAEUARQBFAEPgMEdD6DNqBNQBFAEUARQBFAEZChhIQOAhQBFAEUARSBzwIBlJA+i9uANgJFAEUARQBFACUkdAygCKAIoAigCHwWCKCE9FncBrQRKAIoAigCKAIoIaFjAEUARQBFAEXgs0AAJaTP4jagjUARQBFAEUARQAkJHQMoAigCKAIoAp8FAlogJJFItGEy1NXVabdPYrEYaK6srNSuZlQbigCKAIoAisDnhoAWCKmzs1NnMty4cUO73RsYGACaMzIytKv53bt3ExMTw8PDY2Nj79+/VxSlUunw8PD4+DhIVSH+61//QqaqEP81GeDM6ojj4+PDw8NSqRRkVl98//49MjNSfPfu3UzFsbGx4eHhiYkJUFZ98ddff0VmRoqjo6NAHBkZmZiYUEeUSCTIzOqLkskAl0WKIyMj2h1aqDYUARQBjRGYo4Tk5+f38OFDHA5Hp9PxeHxAQMCDBw9wOByDwYiJiQkMDLx//76FhUVFRcWpU6f27Nlz9+5dHA5XVVUVHR0dFBTU0tKCw+Gqq6tPnDixb9++5uZmHA7HYrGioqL2799/+/ZtCwuLurq6Y8eOhYSENDY24nC4+vr6iIiIgwcP3rx5E4fDcTic8PDww4cPC4VCHA7X0NBw9OjR0NBQPp9vYWHB4/GOHDkSFhbG4/FwOJxAIAgNDf3555+5XC4OhxMKhYcOHYqIiOBwODgcDoKgAwcOREREsNlsCwuLW7duBQcHR0ZG1tbW4nC4pqam/fv3Hz9+vKamBofDNTc3BwUFnTx5srq6GofD3blzZ+/evdHR0ZWVlRYWFvfu3du9e/fp06eZTCYOh7t//35gYGBsbCyDwcDhcA8ePPD39z9z5gydTsfhcI8ePdq1a1dcXByNRrOwsGhtbfXx8YmPj6dQKBYWFm1tbd7e3gkJCWVlZZaWlq2trTt27EhKSiKRSKtXr25tbfXy8kpOTi4pKbGysmpra/P09Dx37hyRSLS2tm5ra/Pw8EhNTS0sLLS1tW1tbd2+ffuFCxcKCgrs7e1bW1t//PHHixcvEggEBweHtrY2Nze39PT0vLw8R0fHtra2LVu2XL58OTc3d+3ata2trZs3b87IyLh+/fr69etbW1udnZ0zMzOvXr26cePGtra2devWpaamavz/QQuiCKAIaBGBuUhI3d3dLi4uWgQRVfXlIiCVSnNzc7/c9qMtRxH4mhCYi4QkkUg6Ozu/pruI9kVjBCQSibW1tcbF0YIoAigCWkRgLhJSf39/cHCwFkFEVX25CPz222+tra1fbvvRlqMIfE0IzEVCev36NdJK4tdff307x8L4+DhyEI+Ojs4xAN7C3R8bG9u0aRMsohEUARSBT4jAXCSkt2/fMhgMGPSQkBAdHZ0/zZmgo6NDo9Hg7stksr/85S9zDYGxsTGAgFQqvXDhAhINNI4igCLwqRDQhJDEYvHxyXD37l2ZTCZn9j04OAhS79y5M9NeDQ8Pg7K3b9+WyWRyZt8jIyMg9datWzPVjMzf3d3t6uoKXwkODj506BA0Z4KNjY0cIS1cuLCkpGTOAAB9++23SEK6du0aPBjQCIoAisAnREATQmpvbwfHg/Lz8xUJSY6fZtS3/v5+oDkzM1ORkEQiEUi9fPnyjNTKZZZIJB0dHfBFlJDmMiFJJBJbW1t4MKARFAEUgU+IwFwkpP7+/n379sGgo4Q0+4QUFRW1ZcsWpWsyoVCYkZFBo9EgCOLz+U5OTvHx8UpzqnlRsS7kCum33357/PgxPBjQCIoAisAnRGAuEpJYLAYrMIA7SkizT0iRkZGurq5KGaWhocHBwSEhIQGkUqnU2tpapTnVvKhYF5KQxsbGNmzY8An/gWjVKAIoAjACc5GQ3r59W15eDkOAEpJSQuJyuQcOHDCYDAcOHIAgiEgkrlmzZsGCBTY2NgQCAYKgpKQkHx8fR0dHXV1dLy+vurq6nJwcPz8/DocDQVBlZeWOHTtIJJJiQZgkYmJijh8/DkGQUCgMCQm5ePHi2bNnv/vuOwMDAxsbm+vXr+/duzczM1PN2iEIiomJwWAwCxcu3LhxI5VKhSAIrgsmMCQhSaXSS5cuwYMBjaAIoAh8QgTmIiF1d3e7ubnBoKOEpJSQwsLCsFgsiURis9m5ubl1dXU2NjaBgYG1tbX79u2zsLCorq4OCwtbsGBBdnY2jUYzNTVNSEig0Wjm5ubXrl2DICghIcHGxoZOpysWhEkiKCjI19dXKBQKBIJNmzYBn0ZWVlbHjh2jUChsNtvR0TEuLk7N2iEIys3NZTKZHA7H19fXw8NDKBTCdU1FSFevXoUHw1SRhw8fXp9joa2tbSo04OsUCkUkEkEQdPPmTZFIBMSbN29CEATEFy9eCIVCCIKeP39OpVJfvnwpFAobGxufP39OoVB++eUXgUBw69atgYEBWLx9+3Z/fz+FQnn16hWfzwcilUp9/fo1j8dramp69uwZhUKBxb6+PgqFIhaLGxoampubYZHL5ba0tPT29lKp1MHBQQ6H09LS0tPTQ6VS37x5w+Fw7ty509PTQ6FQhoaG6uvr7969293dDVLr6+vv3bvX1dVFo9GGhobYbDYQ4Y5PFeHxeHNsmFx/+fLlVGhocH0uEpKcpwaUkBQJqaGhwc7OLjo6Gp7ECwsLjY2Ny8rKIAiiUqkmJibXrl0LCwtzdXUVCARCoXDr1q1hYWFCodDLyyswMJDH47m4uBw9elRpQZgkFAkJuWXH5/MBISlVolg7BEFkMjkoKMjV1XXVqlWWlpZsNhuuC+4LcoUkkUjs7e2n/eckJib+/ve/d54z4d///d/T09NVwzI+Pu7t7U0mk2NjY2NiYshksr+/P5lMjomJiY2NBSKFQomJicHj8WVlZf7+/hQK5fTp02fOnCGRSP7+/lQq9fTp03FxcaWlpf7+/uXl5dHR0fHx8SUlJUA8ceLE2bNni4uL/f396XT6iRMnEhISiESiv78/k8k8fvx4QkJCUVEREKOiohITEwsLC/39/SsqKoBYUFDg7+9fWVkZGRmZnJwMxKqqqsjIyJSUlPz8fH9//+rq6oiIiHPnzsHizz//fP78+Rs3boBUIHp4eEz72QEPD4/vv/9+zgwTZx0dnYaGBtXjZEapahFST0+PyWQA92NGVnYDAwOgLHKXDG7iixcvQCqFQpHJZDOyshscHARli4uLYYXqRPr7+/fu3QvnRAlJkZA4HI6NjU1cXBw8iefl5WEwGLAJRqfTTU1Ns7KywsLCtm3bJpwM27dvP3LkCARB6enpFhYW2dnZ5ubmRCJRaUGYJJCEtHHjxpMnTyolJKVKFGuvqKjAYrE+Pj4pKSkhISGrVq2qra2F64L7giQkNY0aEhMTf/rpJ1jDVx/58ccfpyWk4uJisJf71aMBOshgMKZdDXh6ep48eXKOAAJBkImJyScgpLa2NmBvXVBQIJPJZkRIXV1doOz169dhDoAjfX19IDU7O3umhPTy5UtQdqbvAMRicVZWFtwGlJAUCUkoFHp7e2/ZsqWhoQFYuzGZTAwGk5iYCEFQamqqkZERlUpVpAQIglgs1urVqx0cHFxcXPh8vtKCMEkcPXp0w4YNPB6PyWSuWLHi5MmTYFV0+vRpUC9YISlVolg7kUjEYDBlZWUCgSAwMNDc3HxaQhobG1u3bh08GKaKfHGEVFtbe+nSJfAyT4P5UR1Cam1tzc3N1UA5BEGlpaVXr17VrKy2ShUXF+NwOGDPqY7O4ODgaf3wKhKSUCgMDQ3V1dW1s7OrrKxUpyI4j0Ag2Lx584kTJ+Ar4G2rxgqRetSMU6lULBZbWlqqND9KSP/HQeAcksaE9PbtWyqVCk89KCEpEhIEQTQazcrKysDAwMzMzM3NDYKguLg4XV1dY2Pjf/7zn6dOnYIgSJESwKg9ePDgn/70p7NnzwJRsSBMSCUlJYaGhitXrjQ3N9fX1wdPl9HR0bq6uoaGhhkZGYCQ1Ky9vr7e2dl58eLFmMmgzgpJKpVOuxSQyWRfHCEVFRVhsdjy8nKl88i0F9UhpObm5suXL0+rSmmG8PBwNzc38HpJaYZZuEgkEs3NzcGiX53qiouLu7q64HlDaUSRkKqrqy0tLTMyMtSpQi6PQCBwdnaOiopCXv8QhUg9asYpFIq5uflUB+dRQtICIfX09GzduhUeTzMiJIFAgMfjsVisvr4+FouNjo7m8XgzPStDJpO3b9++bDJ4eHiQSCQ1B4dWsqnvqUEoFJaXl9NoNHji4HA4JSUlbDZ7pi1RUZDL5ZJIJHWe5VUogdsjFAopFAqTyYSvKEaQW3ZSqRSszuHxoDQyI0JKSkry9vZ2dHTEYrEQBF24cAGLxerq6rq6utLpdAiCKBSKi4uLnp6eqalpenp6UVGRn58fsG6/fPnyvn37hEIhUgkyDls//u///m9oaChvMuzevXvPnj1GRkYGBgYxMTE8Hs/Dw+PPf/4zBoPZtm0bi8VSBEH1FXUIiU6nHzt2TLUepalkMtnY2Pj777/HYrHHjh1T7BGZTPb09PTy8lq8eLGjo2NmZqaTk9PChQsDAgK4XC6Px9u9e3dAQMCKFSuWLVsWFxcHNo3j4+ONjIz09PS8vb1ZLBbIFhgYaGxs7OXlVVBQsGbNGj09PQwGc+HCBWC3OSNCOn/+/LTbU3KExOFw3N3d/+u//mvFihX79u3jcDjAchW+d0qHR21trZeX18KFCx0dHS0tLZGEJKewrq7Oz89v0aJFhoaGMTExQqEQhs7AwCAsLMzf35/NZpPJ5I0bN2ZlZYFPqaWlpSmioQjXqlWrFi9evG3bNmNjY5SQpvfUoPEK6UOMGjIyMgwMDNLT0xsaGggEAnjwmdFZmdLS0hUrVgQGBlZWVpaXlx88ePDMmTNK/7cf6aL6hPSRGvDJ1SIJSSKRODg4KCUh5MUZEVJYWNj8+fOvXr0qEAgIBAIGg7l48WJ9fb2vr6+7u3ttbe2aNWu8vb3ZbDaVSi0uLs7Ozl61ahXYz4mNjV27dq1AIEAqQcbDw8NtbW2pVCqZTLa0tExMTORyuatWrXJwcGAymSkpKcbGxjQaLTMz08TEJCcnh06nw88T6iOvDiENDg5WVVWprxPOyePxgoOD169fTyKRampqFHtEIBDmz58fFhbGYrE2bNhgYGCQk5NDJBKNjIwyMjK4XK7lZCgvL09NTV2+fDmBQLh+/fqyZcvS0tLodLq1tXVgYCCHw7G0tLS3t6+urubz+RQKpaioiM/np6SkYLFYBoMx0xVSbGxsVVUVclQoxuUISSgUFhYWYjCY5OTkyspKpT2VGx4CgeDAgQPW1tZ0Oj0lJeW7775DEpKcwoMHD1paWlKp1MuXLxsYGGRkZBAIhL///e9Hjhzh8XhkMhmHwxUWFsbFxf3973/fvXt3RUXFqlWrsrOzFdEAqAK4ampqbGxsgoKCWCyWn5/fvHnzUEL6iIT07NkzjY0aYmNjTU1Na2pq4H+XQCAAZ2XAIwbyQRXkAQ/Ienp6mzZtKi8v9/PzW7t2LXg3AysRCoVKn++Q2oRCYVhYGMxemZmZgYGBcnpghSoiKCEhCUnNz0/MlJCcnZ0FAgEEQREREcuWLdu/f39wcLC7u7u5uXlWVpaxsTFyWTwVIcFKwsLCQJzH49nZ2a1bty54MlhZWfn6+nK5XDs7O+DPory8HIvFEgiEWdiyIxKJGhs1wFt2SntEIBBMTU3BZtrRo0fhvq9ZswaPx3O5XBsbm5iYGPgt48mTJ8PDw9etW8fn88Hu7urVq6uqqmxtbeH/S319/cmTJ7dt27Z+/fpFixZdv359poTEYDBevHihSELIK3KEBEEQk8m0tLTMzc1V2lPF4UGn0+3s7EDveDyevb19VFRUdXV1ampqcnIygUCAFQJTWLB5LhAIXFxcQkJCwAMQhUKBIIjH423YsOH06dPek2HDhg1XrlyxtLSsqKhQRIPL5cJwARIlk8kQBBUXF69cuRIlpI9ISGKxOCcnBx5GM9qyI5FIS5cu1dfX3759e0pKCo/Hg02TlT6o5ufnL1u2LDExkcfjEQgEOp1uZWV1+PBhOcJQ+nyn+NgLTvbU1dUJBIKtW7dqNh2ghIQkpLGxMScnJ3gwTBWZKSEB40MIgg4fPmxsbHz48OHQyYDH43NycmB7RTAMcnJy4BVSTEyMk5MTWCHBSuB3dRwOZ/Xq1a6urkDbkSNHMjMzuVyuvb19UlISBEHg6/L5+fmzQEitra03btyQG8lqijAhKe0RgUDA4XBgezMiImLLli1CoZDP5zs4OMTGxiIJWCAQbNy48dixY4cPH3ZxcQEPAcnJyZaWlkwmE4ZFKBT6+PgAw9G4uDgjIyOw5JrRlp1mRg0wfyjtqeLwqKqqsrGxAZ5KBALBunXroqKiSkpKPD09t2zZcurUKaRC2BRWKBRu3759z549SOggCDpy5Iizs7OjoyN4Hevj4+Pm5sbn8xXRQI6ivLw8MzMz8AKSTCZjMJhPTEgDAwOek+HmzZsymUyLVnavXr0Cmjkcjkwm06KV3cjICNBcXV091bQCrg8NDZHJZDjPjAgJgqC6urr4+Hh3d/e//e1vmzdvhg9vIv8n8INqREQE/OAGQRDYRoiIiJD73yp9vlN87GUymVgsNiMjg0wmm5ubA3cJcqqmFVFCQhKSVCq9cuUKPBimimhMSJcuXcJgMOBhE4KghoaGyspKMzMzPB4P7hSfzy8oKDAxMSktLRUIBDt27LC3t5+KkMDE+uOPP4KVMZimkVMJTEglJSXA4HDa8aA0gzpbdk1NTenp6UqLT3sxKipqw4YNfD5faY+Qs6pSQlq1apWnpyefz6dSqRgMJj09/fz58xgMhkaj8fl8b29vV1fX+vp6mJB4PN6aNWvAYiIjI0NXV1cDQiopKdHAqAHmD6U9VRwe4CTfjh07+Hw+mUxesmQJcssOueQCOd3d3YEtq6mpaXx8PBI6CIIyMzN1dXWtra1ZLJaHh8e8efNOnDihFA3kKGIymaampufOnQPLzQULFnxiQnr8+DGwqCYSidolpJ6eHqAZHI/XIiG9evUKaJ728zY9PT0//vgjPPXMlJDgP1tGRsaSJUsKCwuBJRjyjsLzQmhoKLzxAkGQQCBwdXX18vKS29ZX/XwHaxMKhX5+fj4+PlFRUevXr9dgvw6CoI9NSIrOTGHEPpOIHCEhHRvCo0IuojEh8Xi8ffv26enp/fDDD0ZGRrt27RIKhWlpaUuWLMFgMMbGxtHR0RwOx9XVFbxvNzMzc3R0nIqQIAhiMBj29vYGBgY//PDDihUrUlNTlQ68+vr6LVu2zJ8/38HBobq6eqbIq0NIDAZDM6MGCIKKioqMjY11dXUPHDig2CPkrKqUkGxtbQF6wGcVl8vlcDienp4LFy40NDQ0MjIqKipCwgJB0IkTJ+bPn29mZobBYOCXUjNaIZ07d26mRg1I/lB675QOj+LiYiMjI0NDQ2Nj48WLF09FSBAEkUgkU1NTQ0NDPT09Nzc3NpuNhA7UbmBg4O3tLRQKT5069f333+fl5SlFQw6umJiY+fPnA2tVAwMDlJBmvGWnPiF9iFEDhUKBd//Pnz+/dOnS0tJSFYR08eJFIyMj4OBAMBnS0tIMDAyys7PBHFFSUpKXl6f6+Q4mJAiCsrOzTUxMsFgs2GWe6UQzC4QEm3Rr0LbZKYIkJIlE4ujoKEc/iuKMCEmxF3V1daWlpUgvsTwej0QiwVQhFAqpVGpFRYViWaVXmEwmmUzm8XhKUz/8ojqEpLFRg9Lmqd8jMHUmJiYymUwGg4HUVlFRQSaTwZsk5HUQr66uVpGqmF/uCh6Pn3b3RfEdkpwSQBJy907p8CgrK1PHnFUgEJDJZNVmpYptgCBoWjRYLBaZTAa7oEo1zN7B2K97hfTs2bPdu3fDk86MVkiXLl1asGCBoaEhFoudP3/+zz//zOPxVBBSQ0NDYGCgrq4ubjIUFRUJhcLo6OhFixZhMJiVK1cuWbLk3Llzqp/vkITEZrMtLCwWLVqk/oE+ucH0sVdIMCHJmZYKhcKff/45NjYWtCcjIwMYZVAoFGdn54ULF2Kx2CtXrgCfrbDZdGVl5datW/X09FauXHny5Em5laVc19QUkYT0MYwa1GzG55xNHUIiEokhISGz3wu5Z/lZawCdTheJRPC8oTSiDiHNWoNnoaJZOof09RGSQCC4cePGb7/9JpPJxGIx8iOhMyIksO1Go9FKS0u5XK6at5zFYpFIJGR+sEFMp9ORDyCqn+/UrGvabLNGSIqmpefPn7eysmKxWHw+f/PmzWFhYfX19WvXrg0KCqqvrwf2uDQaDWnlfPz48bVr17LZ7MrKSo1focthgiQk1Suk5ORk4GP0A1dIcg34/EUVhHTs2LFXr16BnXxt3ZGZAsJkMuvr62da6gPzBwcH37hxQ5GH+vv74+Pjf/31V5lMhhISwKe+vh649VGES/UV5b7svj5ColKpOjo6y5YtgyDoA40aPnBYf/Lis0ZIiqalLBbL2to6LS0N2ICVlpYWFRUtWbLE19c3ODh4z549S5cuTU9Ph62cgcvwpUuXRkZGAktWraCHJCSpVKriHdKCBQt0dHSCgoJOnz6N+rIDU4mOjs4333yTkpICQdDFixe1cke+CCUlJSXd3d2K8+nTp091dHT+53/+BxxKRX3ZyWSyoqIiHR2dlStXNjU1KSKm4spXSEj/+Mc/wLs45K+ent6//du/AasHb2/v7du3w6DMdIX0Rfx5VDRydghJqaEtBEFHjx51c3MDh3IEAkF+fr6+vv6ePXuAHXNERATSRR5Yj164cGHr1q2LFi3asWOHZnYccmjIEVJiYiJyqCDjf/zjH3V0dL799lsdHZ01a9bI6fmKRSsrK/idNhIQDAbzzTffgP/Rt99+u2/fvq8YBLmubdmyBZiiyAFiaGgIzy1//etfNTb0kKvuixD/+7//W19fXw4QDAajq6sLYxIaGgpPttNGvkJCCgsLa1IIycnJOjo6f/jDH9zd3Z89e9bR0QFDgxKSUl92Gv8fwDskpaalEASVlZUZGRnp6+sDi+HKykosFgu7FQd2wPCxG2AnDd4b5eTkmJmZgbMpGrcNFEQS0tjYmIODg8J4+f8X5s+f/8033/z5z3/eunWrp6fnB9b7BRV3cXEJDw9XCouOjs7vfvc7PT09MpmsmaeGLwgHZFPDw8MvXbqkiAnYffnjH/+4atUq4LEeWerrji9dujQ7O1sRkzNnzoD5dufOna9fv4Yn22kjXyEhKTX7plKp8+bNa2lpkclkz549CwgIgKFBCeljEJJS01Kw4nF3d8fhcHV1deC/mp6ebmBggMFgTE1NraysGAwGkpCOHDmyZMmSH374YfHixQEBAVMZUM3ob48kJNWfn7C1tfX29h4ZGdHKO6SZupeeUae0m1nFO6T//M//PHfunFQqLSoqCg4O1m69M9LG5/OBG0k4MqPiM81Mo9GUGjU8ffr0d7/7XUVFhRbfIX3+ZycAelMZNRCJxH/+85/379+Hp1k1I3OFkEZHR2FEBgcHkd/CQAlJu4SE/J8rmpZyudxNmzbJHa0AJh4MBkOpEV1NTQ2RSIQtpJH6NYsjCUm1L7uRkREwbLRCSDP1VaNZ77RSSgUhwZg8efIkPz9fK9VppgR2kgI+Gom0qtdMoepSUxk1SCSSsbExME60ZdQAm6qqbtInT52KkJDzLTzxqhOZK4SExGJoaIhEIsFXUEL6eIQk94fJy8szNTUF3rTkkmZTRBLSx/D2PVVfYEKqra318fExMDDQ19cPCQlpaGi4evWqn58fcHleUVGxY8eOsrIyFW6wDQwMEhMTIyIiDAwMlixZ4uXlpYFL76naCUGQCkKC/zi3b9/WilEDsAXw8PBYtGiRjY0NkUiEIIjNZsv5sVb09wgTEuxPkkwme3l5/fTTT4sXL7a0tCwqKoIgqKamxt3dHTjP9vLySktLU9FxFUmlpaU9PT1w95VGtE5Iap6dUPQoj/QQ/zHOTgCgpiIkpeCoc3EuElJPT4+HhweMDkpIs0ZIXC6XSqV+vOOcKmYTZJIcIYHPa8HjQWlEuyskNpt99epVDodDoVAsLS1TUlKYTKaFhUVWVhYEQbGxsQ4ODvX19UqdQ8O+nIuKijAYTH5+fkNDw/Xr19U5RIkEQXVcHUJiMplyK13VOqdKJRAIf/vb3/bu3ctisfz9/UHfFf1YK/p7hI8AwsxEIBD+8Y9/hIaG1tXV7dy5083NTSAQBAUF2draMhiMCxcufP/99xq3OSkpCTg8UzpCwEWtE5I6ZycUPcrLeYv/GGcnwN2cJUIaHR2tmQzAu60Wfdm9f/8eaB4YGNCuL7uxsTGgua+vT8WIkclkH+KpYao/1Rd0/WNb2X3+UCAJaTa/GAuvkIRC4ZUrV3bu3Oni4mJgYACOl+7du3fnzp0cDmfdunXgO1uKjr2RvpxpNJqRkZGvr+/169e18moNeePUISSxWKwVowYCgWBsbAzc/QEXfIWFhXZ2dnJ+rBX9PbJYLHAmHUlIsJvwxMREe3t7FotlZ2cHPAeCbBoT0pkzZ2pqalTPLVonJHXOTii6DK+urv7YZyfAaJklQpIDXYuEJKdZi77s5DSrEPv6+vz9/eEMwcHB+vr6B+dM+MMf/kCj0eDuy2Syv/zlL1u3bp0zABzU0dGBN/1VGzXAKGl3hXTx4kVDQ8OIiIjU1FQnJ6egoCAIgggEgoWFRWJiooWFRXl5uVLn0HKeykpKSgICAkxMTMzMzLR4TkvNLbvCwsL9+9z3uKkAABC6SURBVPcjaUyzOPJjE8C3dG5urqIfa0V/j1VVVYqEBLsJT0pKsre3Bx+hAN/mEAgEa9eu1ZiQaDTa8+fP4SGhNKJdQlLz7ISiy3AOh4O0DBIIBFo/O4ESkkwkEoEDEB/4CfPBwcHc3Fx4PJHJ5ANzLDx8+BDuvkwmO3PmzBwD4MDExARAQCKR2NvbI9FQGtcuIUVGRq5fv57P51dXV5uamgJC4vF4Li4u+vr6fn5+4BOoPj4+co69kYTEnwwQBNXW1q5evToxMVEzPlBaSp0VUnt7u2b+5uVqJBAICxYsACdtExIScDhcZWWll5eXnB9rRX+PDQ0N0xISm83etWuXq6srh8MpKChYsGCBxoSk2ecn5DqrpjijsxOKLsMhCEISUkNDg9bPToCOoCuk/6OkDySkoaGhkpISpfMOenGuISCVSpEfx5qq+9olpKKioqVLlxpNBkNDQ0BIEASlpKTMnz//2rVr4N+u2g32jRs3DAwMzM3NV65caWVlpZUTWvB0qQ4h3bp1C3wLHC6lWYRAIAC7fxMTkwULFoBPASn6sVb09wjv1MERJGGDFRKHwykvL7e1tZ03b56ZmZmRkVF0dLRm7SSRSL29vVONEHBduyskNc9OKHUZjiSkj3F2AmCIEpIWCKm3t9fT01P1wEJT5wgCUqn00qVL03ZWK4SEnAe5XG5paamcJcKJEyfWr1+P9Hmo1Dk0rKehoYFEItFoNKXm8nA2DSLqEFJFRcXx48c1UC5XBLAI+Cg70nRbqR9rDfw98vl8YEdDp9OxWKzG33BKSkqqr69XPVS0RUhIiNQ8O6HoMhypROtnJ4BylJC0QEhyRg2qRxia+nUjMDY2tmHDhmn7qHVCQk4WYNvNzc1NT09P4+lSTuEHiuoQkrY+P4Fc1nxgs5UWLyoqWr58uZGR0fz58z09PYFtvdKcqi/GxcWxWCzVQ+VjEJJcqz6TsxOgVSghaYGQ+vr6/Pz8VA8sNHWOIPCZfH5CKBSWl5fD3ivk5qDZF9UhpIKCAq34suPxeHJu77XeXx6PR6PRkMsvDaqgUqnANljFX2MWCOkzOTsBAPw0hPTmzZuLk6G9vV0mk7W3t/8fLejo5Ofny2Syzs5OIALf7HLi8PAwKNva2qp4I0dGRkDqo0ePZDJZf38/UAUcMA8MDAAxIyNDJpM3avjXv/4Fys7UQcXg4GBeXp5iY9ArcxABiURia2s7bcc/9gpJg/nxoxZRh5Da29sLCgo+ajM+K+WzadTwWXVcRWM+DSHJ/V1nREhyZVWLMyIk1apUpL5586a4uFhFhllIamxsxOFwZmZm034UGTSmo6OjsbFxFhr24dUNDQ3V1dW9e/dOJpONj497eXmVlZXNWstnWpFUKkV+HGuq4omJiTo6OsZzJujo6KSnp0+FBrje2NgYEBCAx+ODgoKqq6udnZ1zc3NjYmL2799fVVXl7Ox848aN06dP79+/v7Ky0tnZOT8/Pzo6OiQkpKKiwtnZuaCgAIhMJhOIJ0+ePHToEIPBcHZ2LioqioqKOnToUHl5uaJYUlISGRl55MgRKpXq7OxcWloaERGBFMPDw8PCwshksrOzc1lZ2c+ToaysDBbDw8NLS0udnZ3JZHJYWFhERAQQqVTqkSNHYJFGo4WGhkZGRhYXFzs7O6sGRCaTeXh4/Md//MecGSbGOjo6as5g00IHMij31KC68JdOSL29vV5eXqr7+FFTJyYmTpw4cerUKdj4eNrqMjIygoKC1M8/rULVGT6kukePHjk5OfX394Mqent7h4aGVFf3CVOlUqlSb7xyTerv7+fNsaDUkagcLK9fv+7t7W1ra3v37l1zc7OcKBaLe3p6njx5Mjo62tLSghSbm5uB2N7ePjIy0tzcPDg42N3drVRsaWl58+ZNV1dXR0fH8PBwc3OzUrGzs/Pt27fNzc1DQ0NPnz4FYktLCywODQ01Nze/ffu2s7Pz6dOnU4kdHR1dXV1v3rxpaWkZHh6GxebmZrnuK4rt7e1zbJjw3r59q4iDxlfmIiF9cqMGIpG4aNGipUuX+vr6vnjxAhw4X7Zs2e7du8EmdWFhoa2traGhoa+vb29vb1dXl7W19YIFC5ycnLKzs4uKioBz2ImJieTk5NraWolEEhsbe/r0aWtr6yNHjvT09Pj7+xsaGjo6OnK5XLnBIZf64sWLw4cP37p1SyaT1dbWRkZG3r9/H1ldeXl5RESEh4eHk5PT0NBQZGSkqampiYlJUlIS+EpmT09PQEDA8uXL7e3ta2pqDh8+/N1339na2oaEhLx+/frMmTN8Pn9iYqKsrGz16tXLly+PiIh48+YNaDMej7eysjI1NS0sLJRr5+yIY2NjGzdunJ260FpQBFAEVCMwFwmpr6/P19dXNS4fNXVwcHDPnj0nT57s6+u7c+eOra1tbW3t6OhoVFTUwYMHpVJpU1PTixcv3r17FxUVdfjw4ffv3ycmJnp7e3d2dg4ODsbFxUVFRU1MTEil0l27dt24ceP9+/cbN27ctm3b69evh4aGfvrpp7i4uNHRUQaD4eTkhPSlNDo6qpial5cHzmna2dlVVVVJJBJkdZcuXdLX129sbJRKpSMjI42Nje/evevp6dmwYQODwRgZGdm+fXtERMTIyAh4WObz+TY2Njdv3hwYGJBIJB4eHiQS6fbt21gstqamZmBgwNXVNSYm5t27d5s2bXJ3d3/x4gWTybS2tka286Pij1SuplEDsggaRxFAEfhICMxFQhocHCQQCB8JUHXUTkxMhIWFpaSkyGSyrKwsLBabkJCQmJh46NAhBweH169fd3d3x8fH79mzZ9OmTRs3bhwZGUHuoSklJDc3N3Da9/Hjx8bGxlFRUYmJiXg83tzcnM1mw61SmiqRSEJDQ+fNm3f27FmwK4isLj093d/fXyqVymSyiYkJLpcbHh4eEBBgamqanJz86NEja2vrzs5OuArklt34+DggpIyMjJ07d46Pj8tkMhKJ5Ozs/OrVq61bt4LXS/39/Y6OjjM1ToFr/JCIRCKxsbH5EA1oWRQBFAFtITAXCenNmzdEIlFbCGqgB0lIaWlp1tbWaWlpFyZDcXFxd3e3o6NjZGQkk8lMSkratGnT0NAQkiHi4+PhFZKvry9YIW3btq28vFwmk929e9fExASPxwOFmZmZyOPlSlPHx8fDw8P/+te/wp+JQlaXnp4eEhICiKq2thaHw2VlZVVVVXl5ecXHx9+9e9fOzg5ZhVJCSktLCwgIAKxGp9M3btwoEongNg8MDKxdu/bevXsagPmBRaRSKdKP1AdqQ4ujCKAIfAgCmhDS+Ph492QAX2GSs/OWS51R46RSKdAMPgImZ/YNpw4PD89IrVzm3t7eHTt2yF2cTRFJSHV1dba2tt3d3aABv/76a2trq62t7dOnT6VSaUxMjIODw9DQ0LVr13x8fMAK4/Llyz4+PhKJRCQSWVpayhHSL7/84ujoCH/waXx8HGkKoTSVSCQ6OTnRaDQrK6vbt2/LZDJkdUhCysnJ8fb2Hh8ff/36tb29fVxc3C+//LJmzRrYanF8fPzJkyd2dnZPnz4FVnZghVRZWWlra9vX1zc+Pn7s2LE9e/aMjo5+JoSUmpo6m3cfrQtFAEVgKgQ0ISQ5XXKEJJf6IaIcIX2IKmRZiUTS0dGBvDLLcSQhSSSSs2fPLl++fP369atXrz5+/Pjw8LC/v7+RkZGtra2dnR1YIT1+/Nja2nrZsmUpKSlPnjyxsLBYtWqVg4ODiYmJHCHJZDI2m21mZmZnZ2dvb79582Y5F8VyqXV1dVZWVsD2IScnZ9OmTS9fvkRWhySkR48emZubW00GHA4XHx8vk8lqamqMjY3t7Oysra3z8vJGR0f37t2rr6/v7u7+8uVLQEjv3r0LDQ01NDS0sLBYvXr148eP379//zkQ0tjYmDrmvLM8QtDqUATmJgJzkZD6+vq8vb0/q/sNrEth8+iJiYmenh4Vdrfv37/v7OwEZ32UdmR8fLyrq+v58+fI5RGcU3UqnE1p5P379x0dHfB3rEEeYLgoFouVFoEvvnz5squrC6zz4IufNqLm5yc+bSPR2lEE5ggCc5GQ3rx5U1BQMEduMNpN1QhIJBIrKyvVedBUFAEUgdlBYI4S0qc69TI7NxWtRX0EpFIp6kdKfbjQnCgCHxWBuUhIvb29O3fu/Kiwosq/FASkUun58+e/lNai7UQR+LoRmIuEJJFISktLxWIxk8lsamp68uQJkUgUi8UMBqOpqamtra24uHhwcJDBYDQ3N7e2tgKRTqe3tLS0traWlJSIxeLy8vI7d+48fvwYqKLRaHfu3Hn06BGJRBocHKTRaHfv3n348CEQqVTqvXv3Hj58WFZWJhaLKRTK/fv3Hzx4QCaTxWIxmUy+PxkoFMrg4CCZTH7w4MH9+/eBWFZW9vDhw3v37lGpVLFYTCKRHj16dPfuXRqNBot37twpLy8fHBwsLS19/PgxLJaUlLS2tra0tNDpdLFYXFxc3NbW1tzczGAwYLGpqYnJZA4ODhKJxCdPnsBiUVFRe3v77du3KyoqxGJxYWFhR0fHrVu3KisrYbGxsbGqqkosFhcUFHR2dsJiYWHh06dPIQiqrq5+/fp1QUFBV1fXzZs3a2pqXr16BYssFuuXX34pKCjo7u4WCoVALCws7OnpEQgEtbW1L1++LCgo6O3t5fP5dXV1L168gEU2my0SiQoKCvr6+ng8HhALCwufPXvW0NBQX1///PnzgoKC/v5+LpfL4XAGBgZgkcvl9vf3FxQUDAwM1NTU7Nq16+v+k6O9QxH4UhCYi4T04sWL/fv3i0SirKys6urq27dvnz17ViQSZWZm1tTU3Lp1KyEhQSQSXblyhcViNTY2JiYmArG2tvbmzZtJSUkikejy5ct1dXU3b95MTk4WiUTp6elsNlsoFKakpIhEoosXL9bX1wsEgnPnzgGRw+HweLzz58+LRKILFy5wuVwej5eamioSiVJTUxsmQ1pamkgkOn/+PI/H43A4Fy5cACKfz6+vr7948aJIJDp37pxAIKivr7906ZJIJEpOThYKhWw2Oz09XSQSJSUl3bx5s7a29vLly0CEIIjFYl25ckUkEiUmJjY2NrJYrIyMDJFIdPbs2Vu3btXU1GRmZopEovj4+Nu3b1dVVWVlZQGxqampsrIyOztbJBLFxcU1NzdXVlbm5OSIRCI8Ht/S0sJkMq9evQrEO3fuMBiMa9euDQwM4PH4u3fv0un069ev9/f34/H4e/fu0en03NzcZ8+e4fH4+/fv02i0GzduAPHBgwdUKjUvL6+3txePxz98+JBCoeTn5/f09ODx+EePHlEoFAKB0N3djcfjHz9+XFZWBmgMj8e3traSSCRAgXg8vq2trbS0tKioqLOzE4/HP3nypLS0lEgkdnR04PH49vb24snQ3t6Ox+M7OjqIRCKZTP5S/q5oO1EEvm4EtEBIo6OjpMmAPB2pFdTev38PNHd1dWlFIaoERQBFAEUAReCzRUALhPTZ9g1tGIoAigCKAIrAF4QASkhf0M1Cm4oigCKAIvA1I4AS0td8d9G+oQigCKAIfEEIoIT0Bd0stKkoAigCKAJfMwIoIX3NdxftG4oAigCKwBeEAEpIX9DNQpuKIoAigCLwNSOAEtLXfHfRvqEIoAigCHxBCKCE9AXdLLSpKAIoAigCXzMCKCF9zXcX7RuKAIoAisAXhMD/Ay2CVJC0qJKdAAAAAElFTkSuQmCC)\n",
        "\n",
        "  <p> Figura - 4 </p>\n",
        "\n",
        "</div>"
      ]
    },
    {
      "cell_type": "markdown",
      "metadata": {
        "id": "3mQaadoAxW13"
      },
      "source": [
        "<div align=\"center\">\n",
        "\n",
        "</div>"
      ]
    },
    {
      "cell_type": "markdown",
      "metadata": {
        "id": "GhcRRcGGxcJf"
      },
      "source": [
        "<div align=\"justify\">\n",
        "\n",
        "A figura (4) é o modelo PyanNet, que foi apresentado acima, ele é um modelo generico, e por isso inclui no começo a parte de \"feature extraction\". Como dito anteriormente, cada etapa do pipeline é um modelo PyanNet, e essa camada de \"feature extraction\" está presente quando há o treino individual de cada modelo. Basicamente, essa etapa é composta por um SincConv, que é uma camada de convolução com filtros Sinc. Para quem não lembra sinc é :\n",
        "\n",
        "</div>\n",
        "\n",
        "<br>\n",
        "\n",
        "<div align=\"center\"> <img src=\"https://wikimedia.org/api/rest_v1/media/math/render/svg/5b9be54eeed00897083b107d3c6e47b4ffc193f1\"/> <p>Figura - 5 </p></div>\n",
        "\n",
        "\n",
        "<div align=\"justify\">\n",
        "\n",
        "Além da camada SincConv, o \"feature extraction\" possui um conjunto de camadas convolucionais. Essa parte que acabamos de descrever da rede PyanNet é a mesma que marcamos na figura (2).\n",
        "\n",
        "Se o úsuario optar por usar MFCC ou outro tipo de representação, a api Pyannote usa da framework librosa para calcular essas representações.\n",
        "\n",
        "</div>"
      ]
    },
    {
      "cell_type": "markdown",
      "metadata": {
        "id": "ewr57wfG1mXb"
      },
      "source": [
        "## A camada de detecção de falante\n",
        "\n",
        "<div align=\"center\">\n",
        "\n",
        "![sad.png](data:image/png;base64,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)\n",
        "\n",
        "<p>Figura - 6 </p>\n",
        "\n",
        "</div>"
      ]
    },
    {
      "cell_type": "markdown",
      "metadata": {
        "id": "FJQl_r683eDc"
      },
      "source": [
        "<div align=\"justify\">\n",
        "\n",
        "Esta etapa do pipeline é o de detecção de falante, ela consiste em avaliar se naquele momento do audio houve fala. A camada é uma classificação binária, onde y é a saida da rede, y está no intervalo [0,1], onde 0 é não houve fala e 1 quando há fala. \n",
        "\n",
        "O Pyannote disponibiliza alguns modelos pré-treinados dessa rede, eles podem ser visualizados como se segue.\n",
        "</div>"
      ]
    },
    {
      "cell_type": "markdown",
      "metadata": {
        "id": "pvihnUli-j92"
      },
      "source": [
        "<div align=\"justify\">\n",
        "\n",
        "Como mencionado anteriormente, cada modelo quando treinado precisa de um arquivo config.yml, nele é definido todos os quesitos de treinamento, como qual sera o dado que vai entrar na rede, qual é a arquitetura da rede, qual é o otimizador de treinamento, o processo de data augmentation e a tarefa em questão. \n",
        "<br>\n",
        "\n",
        "</div>"
      ]
    },
    {
      "cell_type": "markdown",
      "metadata": {
        "id": "LcCUA4Bnkr3t"
      },
      "source": [
        "### Como treinar a camada"
      ]
    },
    {
      "cell_type": "markdown",
      "metadata": {
        "id": "JXNOCziHhk48"
      },
      "source": [
        "Vamos começar então verificando o arquivo de configuração."
      ]
    },
    {
      "cell_type": "code",
      "metadata": {
        "id": "XU3jVtrHoXd4"
      },
      "source": [
        "!export EXP_DIR=\"./drive/MyDrive/TutorialPyannote/tutorials/models/speech_activity_detection\" && cat ${EXP_DIR}/config.yml\n"
      ],
      "execution_count": null,
      "outputs": []
    },
    {
      "cell_type": "markdown",
      "metadata": {
        "id": "WOkKlg52pWzK"
      },
      "source": [
        "O arquivo tutorials, que foi solicitado para baixar, possui todas as pastas de cada camada do modelo. Individualmente cada camada tem o seu próprio arquivo **config.yml**, que vai configurar o modelo e os hiperparâmetros.\n",
        "\n"
      ]
    },
    {
      "cell_type": "code",
      "metadata": {
        "id": "05DKo-lz6IZz"
      },
      "source": [
        "!pyannote-audio sad train --subset=train --from=0 --to=1 /content/drive/MyDrive/TutorialPyannote/tutorials/models/speech_activity_detection AMI.SpeakerDiarization.MixHeadset"
      ],
      "execution_count": null,
      "outputs": []
    },
    {
      "cell_type": "markdown",
      "metadata": {
        "id": "sqOV4h-kqRsf"
      },
      "source": [
        "Para se treinar um modelo designado a uma atividade do pipeline, usamos o seguinte comando: \n",
        "\n",
        "```\n",
        "pyannote-audio tarefa train --subset=train --from=\"epoca inicial\" --to=\"epoca final\" local_do_arquivo_config.yml protocolo\n",
        "\n",
        "```\n",
        "\n"
      ]
    },
    {
      "cell_type": "markdown",
      "metadata": {
        "id": "zcjSGgTTq7Rw"
      },
      "source": [
        "O protocolo é como definimos o banco de dados usado, ele é configurado no arquivo database.yml."
      ]
    },
    {
      "cell_type": "code",
      "metadata": {
        "id": "9CQF3A5Yq3w-"
      },
      "source": [
        "!cd ./drive/MyDrive/TutorialPyannote && cat database.yml"
      ],
      "execution_count": null,
      "outputs": []
    },
    {
      "cell_type": "markdown",
      "metadata": {
        "id": "1Yiv4rrjtGa2"
      },
      "source": [
        "O arquivo database.yml possui a seguinte cara:"
      ]
    },
    {
      "cell_type": "markdown",
      "metadata": {
        "id": "B5lQ8lC7rPjZ"
      },
      "source": [
        "\n",
        "\n",
        "```\n",
        "Databases:\n",
        "  NAME_OF_PROTOCOL:local_to_the_wav_files\n",
        "\n",
        "Protocols:\n",
        "  NAME_OF_PROTOCOL:\n",
        "    Task:\n",
        "      Name_of_set_of_audios:\n",
        "        subset_step(train or development or test):\n",
        "          uri: local_to_the_.lst_file\n",
        "          annotation: local_to_the_.rttm_file\n",
        "          annotated: local_to_the_.uem_file\n",
        "\n",
        "\n",
        "```\n",
        "\n"
      ]
    },
    {
      "cell_type": "markdown",
      "metadata": {
        "id": "Q2BE1h0BtK1p"
      },
      "source": [
        "**Databases:** é onde você vai escrever o nome do seu protocolo, ou melhor, do seu conjunto de dados, por exemplo VALE.\n",
        "\n",
        "**Protocols:** é onde todos os procolos serão configurados, com diretórios para os locais dos arquivos necessários, identificando também o passo (treino, validação ou teste).\n",
        "\n",
        "**Task:** é a atividade, por exemplo SpeakerDiarization.\n",
        "\n",
        "**Name_of_set_of_audios:** é o nome que você escolhe pro conjunto de áudios que vai trabalhar. Exemplo: Cambio\n",
        "\n",
        "**subset_step:** o mais intuitivo, é qual etapa você vai realizar, treino, validação ou teste.\n",
        "\n",
        "**uri:** é o local do arquivo que possui a listagem dos áudios.\n",
        "\n",
        "**annotation:** é o arquivo .rttm, esse arquivo possui todas rotulações necessárias. Ou seja, ele mapeia o nome do áudio, o intervalo de tempo e o rotulo para aquele intervalo.\n",
        "\n",
        "**annotated:** é o arquivo .uem, que diz quanto do áudio foi rotulado, por exemplo se o áudio tem 40 segundos e nesse arquivo possui : ... 0 40 ..., significa que todo áudio foi rotulado.\n",
        "\n",
        "\n",
        "mais sobre o arquivo database.yml pode ser encontrado [aqui](https://github.com/pyannote/pyannote-database#preprocessors)"
      ]
    },
    {
      "cell_type": "markdown",
      "metadata": {
        "id": "MlKDg23Zu54u"
      },
      "source": [
        "#### O arquivo .lst"
      ]
    },
    {
      "cell_type": "markdown",
      "metadata": {
        "id": "dzA_D9Tsu9t2"
      },
      "source": [
        "O arquivo .lst, assim como mencionado é um arquivo que contem uma lista do nome dos áudios a serem utilizados no processo em questão (treino, validação ou teste). "
      ]
    },
    {
      "cell_type": "markdown",
      "metadata": {
        "id": "jA6XKLHyvIGh"
      },
      "source": [
        "**.lst :**\n",
        "\n",
        "\n",
        "```\n",
        "1 ACV0045\n",
        "2 ACV0089\n",
        "3 ACV2345\n",
        ".\n",
        ".\n",
        ".\n",
        "```\n",
        "\n"
      ]
    },
    {
      "cell_type": "markdown",
      "metadata": {
        "id": "Yw9FpT8Wvg-b"
      },
      "source": [
        "#### O arquivo .uem"
      ]
    },
    {
      "cell_type": "markdown",
      "metadata": {
        "id": "ylbW5bVnvjAR"
      },
      "source": [
        "O arquivo .uem contem o intervalo de tempo que o áudio foi rotulado."
      ]
    },
    {
      "cell_type": "markdown",
      "metadata": {
        "id": "VxiLH4dSv8xA"
      },
      "source": [
        "\n",
        "**.uem :**\n",
        "```\n",
        "1 ACV0045 1 0.000 40.000\n",
        "2 ACV0089 1 0.000 60.000\n",
        "3 ACV2345 1 0.000 90.000\n",
        "4 NAME_OF_FILE 1 start_time end_time\n",
        ".\n",
        ".\n",
        ".\n",
        "\n",
        "```\n",
        "\n"
      ]
    },
    {
      "cell_type": "markdown",
      "metadata": {
        "id": "eRlY_vPVwU9X"
      },
      "source": [
        "#### O arquivo .rttm"
      ]
    },
    {
      "cell_type": "markdown",
      "metadata": {
        "id": "L9zDXpgFwY_G"
      },
      "source": [
        "O arquivo .rttm contém as anotações dos áudios nos determinados intervalos de tempo que contém alguma fala."
      ]
    },
    {
      "cell_type": "markdown",
      "metadata": {
        "id": "WYjiLulnwgZ0"
      },
      "source": [
        "**.rrtm :**\n",
        "\n",
        "\n",
        "\n",
        "```\n",
        "1 SPEAKER ACV0045 1 2.450 1.560 <NA> <NA> MM <NA> <NA>\n",
        "2 SPEAKER ACV0045 1 4.010 5.424 <NA> <NA> CC <NA> <NA>\n",
        "3 SPEAKER NAME_OF_AUDIO 1 start_time duration <NA> <NA> rotulo <NA> <NA>\n",
        ".\n",
        ".\n",
        ".\n",
        "\n",
        "```\n",
        "\n"
      ]
    },
    {
      "cell_type": "markdown",
      "metadata": {
        "id": "2XYWM-4ixS5D"
      },
      "source": [
        "### Como validar a camada"
      ]
    },
    {
      "cell_type": "markdown",
      "metadata": {
        "id": "1qyjy2bpxXkD"
      },
      "source": [
        "Agora que você treinou, e sabe como funciona os arquivos necessários para esta etapa, basta aplicar a validação na nossa camada."
      ]
    },
    {
      "cell_type": "code",
      "metadata": {
        "id": "L8pNGyGpx-_z"
      },
      "source": [
        "!pyannote-audio sad validate --subset=development --from=0 --to=1 /content/drive/MyDrive/TutorialPyannote/tutorials/models/speech_activity_detection/AMI.SpeakerDiarization.MixHeadset.train AMI.SpeakerDiarization.MixHeadset"
      ],
      "execution_count": null,
      "outputs": []
    },
    {
      "cell_type": "markdown",
      "metadata": {
        "id": "4CosQykEyuIC"
      },
      "source": [
        "### Como testar a camada"
      ]
    },
    {
      "cell_type": "markdown",
      "metadata": {
        "id": "DH8C7SBJ6zbj"
      },
      "source": [
        "Após validar a camada, podemos agora aplicar sobre os dados de teste."
      ]
    },
    {
      "cell_type": "code",
      "metadata": {
        "id": "Xud56MT3yvk-"
      },
      "source": [
        "!pyannote-audio sad apply --subset=test /content/drive/MyDrive/TutorialPyannote/tutorials/models/speech_activity_detection/AMI.SpeakerDiarization.MixHeadset.train/validate_detection_fscore/AMI.SpeakerDiarization.MixHeadset.development AMI.SpeakerDiarization.MixHeadset\n"
      ],
      "execution_count": null,
      "outputs": []
    },
    {
      "cell_type": "code",
      "metadata": {
        "id": "Wj-XS2Nm_gRH"
      },
      "source": [
        "!cd /content/drive/MyDrive/TutorialPyannote/tutorials/models/speech_activity_detection/train/AMI.SpeakerDiarization.MixHeadset.train/validate_detection_fscore/AMI.SpeakerDiarization.MixHeadset.development/apply/0010 && cat AMI.SpeakerDiarization.MixHeadset.test.eval"
      ],
      "execution_count": null,
      "outputs": []
    },
    {
      "cell_type": "markdown",
      "metadata": {
        "id": "7HGD-lTGB284"
      },
      "source": [
        "## A camada de Detecção de mudança de falante e de Sobreposição de falante\n",
        "<div align='center'>\n",
        "\n",
        "![middle_layer.png](data:image/png;base64,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)\n",
        "\n",
        "Figura - 7\n",
        "</div>"
      ]
    },
    {
      "cell_type": "markdown",
      "metadata": {
        "id": "FTB0PMo2v0kR"
      },
      "source": [
        "Na seção passada abordamos tudo que era necessário para se entender o processe de treinamento, validação e teste da rede. A partir de agora, precisamos apenas reproduzir os comandos."
      ]
    },
    {
      "cell_type": "markdown",
      "metadata": {
        "id": "66ANKT6NwXDA"
      },
      "source": [
        "### Speaker Change Detection"
      ]
    },
    {
      "cell_type": "markdown",
      "metadata": {
        "id": "8CI31QhDBq8n"
      },
      "source": [
        "Está camada é responsável por captar mudanças de oradores durante o áudio. A saida é binária, y está no intervalo [0,1], onde 1 é quando há troca de orador e 0 quando não há."
      ]
    },
    {
      "cell_type": "code",
      "metadata": {
        "id": "B13ADnOoBnot"
      },
      "source": [
        "!cd /content/drive/MyDrive/TutorialPyannote/tutorials/models/speaker_change_detection && cat config.yml"
      ],
      "execution_count": null,
      "outputs": []
    },
    {
      "cell_type": "markdown",
      "metadata": {
        "id": "qWoFE5C9wiYq"
      },
      "source": [
        "<div align='justify'> \n",
        "\n",
        "Uma coisa importante nessa etapa, o Pyannote por default não trata a detecção de mudança de falante considerando os momentos de silêncio nos audios. Ou seja, por padrão ele apenas encontra esses momentos quando a troca de falante é de forma direta. \n",
        "\n",
        "Abaixo exemplifico essas duas situações.\n",
        "\n",
        "</div>\n",
        "\n",
        "<lu> <b>Falantes sem silêncio entre eles</b> \n",
        "\n",
        "<li> falante1 :  0s a 10s </li>\n",
        "<li> falante2 : 10s a 15s </li>\n",
        "\n",
        "</lu>\n",
        "\n",
        "<lu> <b>Falantes com silêncio entre eles</b> \n",
        "\n",
        "<li> falante1 :  0s a 10s </li>\n",
        "<li> silêncio : 10s a 15s </li>\n",
        "<li> falante2 : 15s a 20s </li>\n",
        "</lu>\n",
        "\n",
        "<div align='justify'> \n",
        "\n",
        "  Devido a isso, quando é necessário considerar o silêncio marcamos a tag <b>non_speech:</b> como true, ou false caso contrário.\n",
        "\n",
        "</div>"
      ]
    },
    {
      "cell_type": "markdown",
      "metadata": {
        "id": "ihWp2Th7oGrr"
      },
      "source": [
        "Treinando o modelo."
      ]
    },
    {
      "cell_type": "code",
      "metadata": {
        "id": "ElK2GivHwjsb"
      },
      "source": [
        "!pyannote-audio scd train --subset=train --to=1 /content/drive/MyDrive/TutorialPyannote/tutorials/models/speaker_change_detection AMI.SpeakerDiarization.MixHeadset"
      ],
      "execution_count": null,
      "outputs": []
    },
    {
      "cell_type": "markdown",
      "metadata": {
        "id": "vIw54d-poAUb"
      },
      "source": [
        "Validando o modelo."
      ]
    },
    {
      "cell_type": "code",
      "metadata": {
        "id": "zU3JpcPizZXT"
      },
      "source": [
        "!pyannote-audio scd validate --subset=development --from=0 --to=1 /content/drive/MyDrive/TutorialPyannote/tutorials/models/speaker_change_detection/train/AMI.SpeakerDiarization.MixHeadset.train AMI.SpeakerDiarization.MixHeadset"
      ],
      "execution_count": null,
      "outputs": []
    },
    {
      "cell_type": "markdown",
      "metadata": {
        "id": "B57DthK0oN12"
      },
      "source": [
        "Testando o modelo."
      ]
    },
    {
      "cell_type": "code",
      "metadata": {
        "id": "2XKWBZHX1oYG"
      },
      "source": [
        "!pyannote-audio scd apply --subset=test  ./drive/MyDrive/TutorialPyannote/tutorials/models/speaker_change_detection/train/AMI.SpeakerDiarization.MixHeadset.train/validate_segmentation_fscore/AMI.SpeakerDiarization.MixHeadset.development AMI.SpeakerDiarization.MixHeadset\n"
      ],
      "execution_count": null,
      "outputs": []
    },
    {
      "cell_type": "markdown",
      "metadata": {
        "id": "PEUDPssLpJds"
      },
      "source": [
        "Visualizando a saida do processo de teste."
      ]
    },
    {
      "cell_type": "code",
      "metadata": {
        "id": "pPWA8CfZ11DL"
      },
      "source": [
        "!cd /content/drive/MyDrive/TutorialPyannote/tutorials/models/speaker_change_detection/train/AMI.SpeakerDiarization.MixHeadset.train/validate_segmentation_fscore/AMI.SpeakerDiarization.MixHeadset.development/apply/0001 && cat AMI.SpeakerDiarization.MixHeadset.test.rttm"
      ],
      "execution_count": null,
      "outputs": []
    },
    {
      "cell_type": "markdown",
      "metadata": {
        "id": "R-V4ihlJ83fw"
      },
      "source": [
        "### Speaker overlap detection"
      ]
    },
    {
      "cell_type": "markdown",
      "metadata": {
        "id": "kYqMYzc1CxJB"
      },
      "source": [
        "Nesta etapa o modelo precisa detectar se há sobreposição de oradores em determinado momento do áudio. A saida é y, onde y está no intervalo [0,1]. 1 quando há sobreposição e 0 quando não há."
      ]
    },
    {
      "cell_type": "code",
      "metadata": {
        "id": "Hz6gL7of9No_"
      },
      "source": [
        "!cd /content/drive/MyDrive/TutorialPyannote/tutorials/models/overlap_detection && cat config.yml"
      ],
      "execution_count": null,
      "outputs": []
    },
    {
      "cell_type": "markdown",
      "metadata": {
        "id": "JKAwFYmso03H"
      },
      "source": [
        "Treinando o modelo."
      ]
    },
    {
      "cell_type": "code",
      "metadata": {
        "id": "pqi501DU87bC"
      },
      "source": [
        "!pyannote-audio ovl train --subset=train --to=1 /content/drive/MyDrive/TutorialPyannote/tutorials/models/overlap_detection AMI.SpeakerDiarization.MixHeadset"
      ],
      "execution_count": null,
      "outputs": []
    },
    {
      "cell_type": "markdown",
      "metadata": {
        "id": "lmgSLK99o2k2"
      },
      "source": [
        "Validando o modelo."
      ]
    },
    {
      "cell_type": "code",
      "metadata": {
        "id": "87OhgbDj9UZv"
      },
      "source": [
        "!pyannote-audio ovl validate --subset=development --from=0 --to=1 /content/drive/MyDrive/TutorialPyannote/tutorials/models/overlap_detection/train/AMI.SpeakerDiarization.MixHeadset.train AMI.SpeakerDiarization.MixHeadset"
      ],
      "execution_count": null,
      "outputs": []
    },
    {
      "cell_type": "markdown",
      "metadata": {
        "id": "NikkN7v7o6_4"
      },
      "source": [
        "Testando o modelo."
      ]
    },
    {
      "cell_type": "code",
      "metadata": {
        "id": "s3PGQ1aK9daL"
      },
      "source": [
        "!pyannote-audio ovl apply --subset=test ./drive/MyDrive/TutorialPyannote/tutorials/models/overlap_detection/train/AMI.SpeakerDiarization.MixHeadset.train/validate_detection_fscore/AMI.SpeakerDiarization.MixHeadset.development  AMI.SpeakerDiarization.MixHeadset\n"
      ],
      "execution_count": null,
      "outputs": []
    },
    {
      "cell_type": "markdown",
      "metadata": {
        "id": "EYoEM0AXpGOA"
      },
      "source": [
        "Visualizando a saida do processo de teste."
      ]
    },
    {
      "cell_type": "code",
      "metadata": {
        "id": "QvjVKuIb9pzm"
      },
      "source": [
        "!cd /content/drive/MyDrive/TutorialPyannote/tutorials/models/overlap_detection/train/AMI.SpeakerDiarization.MixHeadset.train/validate_detection_fscore/AMI.SpeakerDiarization.MixHeadset.development/apply/0001 && cat AMI.SpeakerDiarization.MixHeadset.test.rttm"
      ],
      "execution_count": null,
      "outputs": []
    },
    {
      "cell_type": "markdown",
      "metadata": {
        "id": "qTVJsnoyHgv9"
      },
      "source": [
        "Obs: Se não mostrar nada é porque não houve detecção."
      ]
    },
    {
      "cell_type": "markdown",
      "metadata": {
        "id": "Rph9RjoK_DkV"
      },
      "source": [
        "## Speaker Embedding\n",
        "\n",
        "<div align='center'>\n",
        "\n",
        "![embedding.png](data:image/png;base64,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)\n",
        "\n",
        "Figura - 8\n",
        "</div>"
      ]
    },
    {
      "cell_type": "markdown",
      "metadata": {
        "id": "zJAM77h__HWR"
      },
      "source": [
        "<div align='justify'>\n",
        "\n",
        "Nesta camada do modelo a etapa de Pooling é adicionado ao PyanNet (figura 4). Ela é responsável por coletar caractéristicas especificas de cada grupo de orador presente em determinado áudio. Assim, a etapa de clustering pode utilizar as saidas desta camada para decidir a que grupo pertence determinada faixa de audio.\n",
        "\n",
        "**Embeddinsg** : Usamos os embeddings porque eles são ricos de informação do dado de entrada, e além disso são formas de representar dados de alta dimensionalidade em vetores contínuos de baixa dimensionalidade, o que diminui a computação. \n",
        "</div>"
      ]
    },
    {
      "cell_type": "code",
      "metadata": {
        "id": "h7iPKWw6H_Vd"
      },
      "source": [
        "!  cd /content/drive/MyDrive/TutorialPyannote/tutorials/models/speaker_embedding && cat config.yml"
      ],
      "execution_count": null,
      "outputs": []
    },
    {
      "cell_type": "markdown",
      "metadata": {
        "id": "Qkjwbf2mphPJ"
      },
      "source": [
        "Treinando o modelo."
      ]
    },
    {
      "cell_type": "code",
      "metadata": {
        "id": "q8U_Ivk5_GWX"
      },
      "source": [
        "!pyannote-audio emb train --subset=train --to=1 tutorials/models/speaker_embedding AMI.SpeakerDiarization.MixHeadset "
      ],
      "execution_count": null,
      "outputs": []
    },
    {
      "cell_type": "markdown",
      "metadata": {
        "id": "NBHGfDh_pi7w"
      },
      "source": [
        "Validando o modelo."
      ]
    },
    {
      "cell_type": "code",
      "metadata": {
        "id": "hFuMPh8aGxPk"
      },
      "source": [
        "!pyannote-audio emb validate --subset=development --to=1 /content/drive/MyDrive/TutorialPyannote/tutorials/models/speaker_embedding/train/AMI.SpeakerDiarization.MixHeadset.train AMI.SpeakerDiarization.MixHeadset"
      ],
      "execution_count": null,
      "outputs": []
    },
    {
      "cell_type": "markdown",
      "metadata": {
        "id": "T8eKqTBRpsIS"
      },
      "source": [
        "Testando o modelo."
      ]
    },
    {
      "cell_type": "code",
      "metadata": {
        "id": "OvhT60UGIvl1"
      },
      "source": [
        "!pyannote-audio emb apply --subset=test  /content/drive/MyDrive/TutorialPyannote/tutorials/models/speaker_embedding/train/AMI.SpeakerDiarization.MixHeadset.train/validate_diarization_fscore/AMI.SpeakerDiarization.MixHeadset.development AMI.SpeakerDiarization.MixHeadset"
      ],
      "execution_count": null,
      "outputs": []
    },
    {
      "cell_type": "markdown",
      "metadata": {
        "id": "5XPSBmiRKQJq"
      },
      "source": [
        "A etapa de teste do speaker embedding não retorna nenhum arquivo de visualização, apenas um arquivo de metadata.yml."
      ]
    },
    {
      "cell_type": "code",
      "metadata": {
        "id": "jeBL_510Kdp9"
      },
      "source": [
        "!cd /content/drive/MyDrive/TutorialPyannote/tutorials/models/speaker_embedding/train/AMI.SpeakerDiarization.MixHeadset.train/validate_diarization_fscore/AMI.SpeakerDiarization.MixHeadset.development/apply/0001 && cat metadata.yml"
      ],
      "execution_count": null,
      "outputs": []
    },
    {
      "cell_type": "markdown",
      "metadata": {
        "id": "H1CmncGqABFH"
      },
      "source": [
        "## Como usar as redes treinadas para avaliar um áudio."
      ]
    },
    {
      "cell_type": "markdown",
      "metadata": {
        "id": "UkJxni2cKrdL"
      },
      "source": [
        "<div align=\"justify\">\n",
        "\n",
        "Agora que nós temos entendimento de como funciona cada camada do pipeline, e treinamos cada uma delas, podemos então usar as redes para visualizar graficamente como elas respondem a áudios do teste. \n",
        "\n",
        "</div>"
      ]
    },
    {
      "cell_type": "markdown",
      "metadata": {
        "id": "zqIUjEoJDfFs"
      },
      "source": [
        "### O arquivo de teste"
      ]
    },
    {
      "cell_type": "markdown",
      "metadata": {
        "id": "wyrGTb6lBw1R"
      },
      "source": [
        "<div align='justify'>\n",
        "\n",
        "Uma coisa intrigante que descobri enquanto escrevia este tutorial, é que se você importar as bibliotecas antes de ir para o diretorio do arquivo database.yml, é que ele não vai reconhecer o diretório. Por isso esta etapa de ir para o diretório antes de importar é estremamente importante. *Faça o teste, troque a ordem das coisas, provavelmente vai lançar umerro*.\n",
        "\n",
        "</div>"
      ]
    },
    {
      "cell_type": "code",
      "metadata": {
        "id": "HCsatFu3GOu1"
      },
      "source": [
        "%cd drive/MyDrive/TutorialPyannote/"
      ],
      "execution_count": null,
      "outputs": []
    },
    {
      "cell_type": "markdown",
      "metadata": {
        "id": "D8XObmdBHBqs"
      },
      "source": [
        "Agora vamos importar os arquivo e carregar o protocolo que vai usar o pre-processador de encontrar o arquivo de áudio."
      ]
    },
    {
      "cell_type": "code",
      "metadata": {
        "id": "lFFwsd0VBz96"
      },
      "source": [
        "from pyannote.database import get_protocol\n",
        "from pyannote.database import FileFinder\n",
        "from pyannote.database import Protocol\n"
      ],
      "execution_count": null,
      "outputs": []
    },
    {
      "cell_type": "code",
      "metadata": {
        "id": "J2bzKCl-CNjT"
      },
      "source": [
        "preprocessor = {'audio':FileFinder()}\n",
        "protocol = get_protocol('AMI.SpeakerDiarization.MixHeadset',preprocessors=preprocessor)\n",
        "\n",
        "\n"
      ],
      "execution_count": null,
      "outputs": []
    },
    {
      "cell_type": "markdown",
      "metadata": {
        "id": "8lsSTqFzCOH0"
      },
      "source": [
        "E vamos puxar um arquivo para testar as redes treinadas até aqui."
      ]
    },
    {
      "cell_type": "code",
      "metadata": {
        "id": "EdIgzTQyCSrW"
      },
      "source": [
        "test_file = next(protocol.test())"
      ],
      "execution_count": null,
      "outputs": []
    },
    {
      "cell_type": "markdown",
      "metadata": {
        "id": "hYw4UucFrAVo"
      },
      "source": [
        "Caso algum erro ocorra, reinicie o tempo de execução, e rode desde o começo desta seção, na ordem original."
      ]
    },
    {
      "cell_type": "markdown",
      "metadata": {
        "id": "H0GS7W0zDky4"
      },
      "source": [
        "### Configuração "
      ]
    },
    {
      "cell_type": "code",
      "metadata": {
        "id": "RxK_se5pDpwO"
      },
      "source": [
        "from pyannote.audio.features import Pretrained\n",
        "import torch\n",
        "from pyannote.audio.utils.signal import Binarize\n",
        "from pyannote.core import Segment, notebook\n",
        "from pyannote.audio.utils.signal import Peak\n",
        "import numpy as np\n",
        "from matplotlib import pyplot as plt\n",
        "from scipy.sparse import dia\n",
        "from pyannote.core import SlidingWindowFeature\n",
        "\n",
        "#função auxiliar que vai aplicar uma escala na pontuação para visualização dos dados\n",
        "plot_ready = lambda scores: SlidingWindowFeature(np.exp(scores.data[:,1:]),scores.sliding_window)"
      ],
      "execution_count": null,
      "outputs": []
    },
    {
      "cell_type": "markdown",
      "metadata": {
        "id": "0XAFWTpaBIq_"
      },
      "source": [
        "### Speech Activity Detection "
      ]
    },
    {
      "cell_type": "markdown",
      "metadata": {
        "id": "g8FztE6EChj5"
      },
      "source": [
        "A seguinte linha de código carrega a rede neural treinada para detecção de atividade de voz."
      ]
    },
    {
      "cell_type": "code",
      "metadata": {
        "id": "wn5JtZjHAIvU"
      },
      "source": [
        "sad = Pretrained(\"/content/drive/MyDrive/TutorialPyannote/tutorials/models/speech_activity_detection/train/AMI.SpeakerDiarization.MixHeadset.train/validate_detection_fscore/AMI.SpeakerDiarization.MixHeadset.development\")\n"
      ],
      "execution_count": null,
      "outputs": []
    },
    {
      "cell_type": "markdown",
      "metadata": {
        "id": "LZlFkSpWD9m4"
      },
      "source": [
        "Agora que temos nosso modelo, basta que aplicamos o arquivo teste."
      ]
    },
    {
      "cell_type": "code",
      "metadata": {
        "id": "4Q7JU_tlEDPf"
      },
      "source": [
        "sad_scores = sad(test_file)"
      ],
      "execution_count": null,
      "outputs": []
    },
    {
      "cell_type": "markdown",
      "metadata": {
        "id": "P4YnVnLUES3-"
      },
      "source": [
        "Precisamos de uma instancia de um Binarize, uma classe que auxilia na leitura dos scores, nos gerando os momentos em que houve fala ou não. Para isso precisamos verificar o conteudo do arquivo gerado pela validação, ele nos indica os parâmetros para a classe Binarize."
      ]
    },
    {
      "cell_type": "code",
      "metadata": {
        "id": "wgErs1TiRWkv"
      },
      "source": [
        "%cat /content/drive/MyDrive/TutorialPyannote/tutorials/models/speech_activity_detection/train/AMI.SpeakerDiarization.MixHeadset.train/validate_detection_fscore/AMI.SpeakerDiarization.MixHeadset.development/params.yml"
      ],
      "execution_count": null,
      "outputs": []
    },
    {
      "cell_type": "code",
      "metadata": {
        "id": "HwBlrZ6KEc7Z"
      },
      "source": [
        "binarize = Binarize(offset=0.9918,onset=0.9918,log_scale=True,min_duration_off=0.1,min_duration_on=0.1)"
      ],
      "execution_count": null,
      "outputs": []
    },
    {
      "cell_type": "markdown",
      "metadata": {
        "id": "zywl2ivPEy6l"
      },
      "source": [
        "Agora conseguimos ter os momentos onde há fala no arquivo de teste."
      ]
    },
    {
      "cell_type": "code",
      "metadata": {
        "id": "ttBLRiIFE27p"
      },
      "source": [
        "speech = binarize.apply(sad_scores,dimension=1)"
      ],
      "execution_count": null,
      "outputs": []
    },
    {
      "cell_type": "markdown",
      "metadata": {
        "id": "hhTW1QZ6N7ZB"
      },
      "source": [
        "Vamos visualizar como fica os momentos preditos de fala de acordo com a referência."
      ]
    },
    {
      "cell_type": "code",
      "metadata": {
        "id": "KNenid5dN615"
      },
      "source": [
        "\n",
        "fig,ax = plt.subplots(nrows=3)\n",
        "fig.set_figheight(3*2)\n",
        "#plotanto a referencia\n",
        "notebook.plot_annotation(test_file['annotation'],ax=ax[0],time=False)\n",
        "ax[0].text(notebook.crop.start+0.5,0.1,'reference',fontsize=14)\n",
        "#plotando a pontuação\n",
        "notebook.plot_feature(plot_ready(sad_scores),ax=ax[1],time=False)\n",
        "#plotando a predição\n",
        "notebook.plot_timeline(speech,ax=ax[2])\n",
        "ax[2].text(notebook.crop.start+0.5,0.1,'predict speech moments', fontsize=12);\n"
      ],
      "execution_count": null,
      "outputs": []
    },
    {
      "cell_type": "markdown",
      "metadata": {
        "id": "M0Ry4pYLPIO7"
      },
      "source": [
        "O resultado não está bom, mas isso é porque o modelo foi treinado apenas por 1 época. Já que um treino maior demandaria muito mais tempo."
      ]
    },
    {
      "cell_type": "markdown",
      "metadata": {
        "id": "CJrQEr58BLvW"
      },
      "source": [
        "### Speaker Change Detection"
      ]
    },
    {
      "cell_type": "markdown",
      "metadata": {
        "id": "gBSbkJOUC0bk"
      },
      "source": [
        "A seguinte linha de código carrega a rede neural treinada para detectar mudança de orador."
      ]
    },
    {
      "cell_type": "code",
      "metadata": {
        "id": "ybiE5OINBNg_"
      },
      "source": [
        "scd = Pretrained(\"/content/drive/MyDrive/TutorialPyannote/tutorials/models/speaker_change_detection/train/AMI.SpeakerDiarization.MixHeadset.train/validate_segmentation_fscore/AMI.SpeakerDiarization.MixHeadset.development\")\n"
      ],
      "execution_count": null,
      "outputs": []
    },
    {
      "cell_type": "markdown",
      "metadata": {
        "id": "8qdTK4HbFjDV"
      },
      "source": [
        "Podemos coletar os scores"
      ]
    },
    {
      "cell_type": "code",
      "metadata": {
        "id": "ifytVqXXFqfi"
      },
      "source": [
        "scd_scores = scd(test_file)"
      ],
      "execution_count": null,
      "outputs": []
    },
    {
      "cell_type": "markdown",
      "metadata": {
        "id": "TheojqE0FtDK"
      },
      "source": [
        "Assim como no Speech Activity Detection, temos que utilizar de uma classe para ler os scores e nos retornar a informação. A classe usada para essa rede é a Peak. Para configurar a classe usamos os parâmetros disponibilizados pelo procedimento de validação."
      ]
    },
    {
      "cell_type": "code",
      "metadata": {
        "id": "ezp15CheIAyE"
      },
      "source": [
        "%cat /content/drive/MyDrive/TutorialPyannote/tutorials/models/speaker_change_detection/train/AMI.SpeakerDiarization.MixHeadset.train/validate_segmentation_fscore/AMI.SpeakerDiarization.MixHeadset.development/params.yml"
      ],
      "execution_count": null,
      "outputs": []
    },
    {
      "cell_type": "code",
      "metadata": {
        "id": "deHwifL_GH8y"
      },
      "source": [
        "peak = Peak(alpha=0.9918,min_duration=0.1,log_scale=True)"
      ],
      "execution_count": null,
      "outputs": []
    },
    {
      "cell_type": "markdown",
      "metadata": {
        "id": "Gi38mUOLGMUE"
      },
      "source": [
        "Com ela podemos então ter as informações de detecção de mudança de orador."
      ]
    },
    {
      "cell_type": "code",
      "metadata": {
        "id": "1ZVCBGy3GRAi"
      },
      "source": [
        "partition = peak.apply(scd_scores,dimension=1)"
      ],
      "execution_count": null,
      "outputs": []
    },
    {
      "cell_type": "markdown",
      "metadata": {
        "id": "nVmlDnCEJtYm"
      },
      "source": [
        "Assim como na rede de detecção de fala, aqui também podemos visualizar as predições de troca de falante."
      ]
    },
    {
      "cell_type": "code",
      "metadata": {
        "id": "dR8V_sPVJ0dW"
      },
      "source": [
        "\n",
        "fig,ax = plt.subplots(nrows=3)\n",
        "fig.set_figheight(3*2)\n",
        "#plotanto a referencia\n",
        "notebook.plot_annotation(test_file['annotation'],ax=ax[0],time=False)\n",
        "ax[0].text(notebook.crop.start+0.5,0.1,'reference',fontsize=14)\n",
        "#plotando a pontuação\n",
        "notebook.plot_feature(plot_ready(scd_scores),ax=ax[1],time=False)\n",
        "#plotando a predição\n",
        "notebook.plot_timeline(partition,ax=ax[2])\n",
        "ax[2].text(notebook.crop.start+0.5,0.1,'predict speech moments', fontsize=12);"
      ],
      "execution_count": null,
      "outputs": []
    },
    {
      "cell_type": "markdown",
      "metadata": {
        "id": "FHVLSludKhCD"
      },
      "source": [
        "Assim como falamos na seção passada, o resultado evidentemente não é bom, ele não identificou nenhuma troca de orador, e baseado na referência há pelo menos 9 trocas. \n",
        "\n",
        "É obvio que o motivo deste resultado é devido ao pouco tempo de treinamento."
      ]
    },
    {
      "cell_type": "markdown",
      "metadata": {
        "id": "bJmZekRbBV9T"
      },
      "source": [
        "### Overlap Detection"
      ]
    },
    {
      "cell_type": "markdown",
      "metadata": {
        "id": "rZied5B8C45l"
      },
      "source": [
        "A seguinte linha de código carrega a rede neural treinada para detectar sobreposição de oradores."
      ]
    },
    {
      "cell_type": "code",
      "metadata": {
        "id": "yaK52IjdBYWF"
      },
      "source": [
        "olp = Pretrained(\"/content/drive/MyDrive/TutorialPyannote/tutorials/models/overlap_detection/train/AMI.SpeakerDiarization.MixHeadset.train/validate_detection_fscore/AMI.SpeakerDiarization.MixHeadset.development\")"
      ],
      "execution_count": null,
      "outputs": []
    },
    {
      "cell_type": "markdown",
      "metadata": {
        "id": "WCDU-YtQHO5h"
      },
      "source": [
        "Basta aplicar a rede no dado de teste, como já foi feito nos outros casos."
      ]
    },
    {
      "cell_type": "code",
      "metadata": {
        "id": "TsoKKkaEHV6K"
      },
      "source": [
        "olp_scores = olp(test_file)"
      ],
      "execution_count": null,
      "outputs": []
    },
    {
      "cell_type": "markdown",
      "metadata": {
        "id": "6zirmPAKHDnb"
      },
      "source": [
        "Para esse caso, usamos também a classe Binarize para leitura dos scores. E novamente necessitamos de verificar os parâmetros."
      ]
    },
    {
      "cell_type": "code",
      "metadata": {
        "id": "CW6jxznRMIm7"
      },
      "source": [
        "%cat /content/drive/MyDrive/TutorialPyannote/tutorials/models/overlap_detection/train/AMI.SpeakerDiarization.MixHeadset.train/validate_detection_fscore/AMI.SpeakerDiarization.MixHeadset.development/params.yml"
      ],
      "execution_count": null,
      "outputs": []
    },
    {
      "cell_type": "code",
      "metadata": {
        "id": "6p_QITPcHGr_"
      },
      "source": [
        "binarize = Binarize(offset=0.62, onset=0.62, log_scale=True, \n",
        "                    min_duration_off=0.1, min_duration_on=0.1)"
      ],
      "execution_count": null,
      "outputs": []
    },
    {
      "cell_type": "markdown",
      "metadata": {
        "id": "5rooyBmyHb-F"
      },
      "source": [
        "E conseguimos agora então, ter a informação das regiões de troca de orador."
      ]
    },
    {
      "cell_type": "code",
      "metadata": {
        "id": "YGoz1eFMHe-x"
      },
      "source": [
        "overlap = binarize.apply(olp_scores, dimension=1)"
      ],
      "execution_count": null,
      "outputs": []
    },
    {
      "cell_type": "markdown",
      "metadata": {
        "id": "ZGCaSllLM9Ux"
      },
      "source": [
        "E novamente vamos visualizar como ficou a predição de sobreposição."
      ]
    },
    {
      "cell_type": "code",
      "metadata": {
        "id": "LUfy535rMbwS"
      },
      "source": [
        "\n",
        "fig,ax = plt.subplots(nrows=3)\n",
        "fig.set_figheight(3*2)\n",
        "#plotanto a referencia\n",
        "notebook.plot_annotation(test_file['annotation'],ax=ax[0],time=False)\n",
        "ax[0].text(notebook.crop.start+0.5,0.1,'reference',fontsize=14)\n",
        "#plotando a pontuação\n",
        "notebook.plot_feature(plot_ready(olp_scores),ax=ax[1],time=False)\n",
        "#plotando a predição\n",
        "notebook.plot_timeline(overlap,ax=ax[2])\n",
        "ax[2].text(notebook.crop.start+0.5,0.1,'predict speech moments', fontsize=12);"
      ],
      "execution_count": null,
      "outputs": []
    },
    {
      "cell_type": "markdown",
      "metadata": {
        "id": "zovlu-teQn-_"
      },
      "source": [
        "<div align='justify'>\n",
        "\n",
        "Logicamente, a predição está 100% correta, pois não foi identificado sobreposição, quando há sobreposição os labels são paralelos. \n",
        "\n",
        "Outra observação é que os dados da VALE não possuem sobreposição como rótulo, não adotamos essa politica, na realiade, eles são classificados como uma nova classe.\n",
        "\n",
        "</div>"
      ]
    },
    {
      "cell_type": "markdown",
      "metadata": {
        "id": "6ga6NS7WSCmF"
      },
      "source": [
        "### Speaker Embeddings"
      ]
    },
    {
      "cell_type": "markdown",
      "metadata": {
        "id": "KBK1W6ewSL6m"
      },
      "source": [
        "<div align='justify'>\n",
        "\n",
        "A etapa do Speaker Embeddings é relativamente mais complicada do que as anteriores. \n",
        "\n",
        "Começamos puxando o modelo salvo, como nas outras etapas.\n",
        "</div>"
      ]
    },
    {
      "cell_type": "code",
      "metadata": {
        "id": "zgMyU08jSH5s"
      },
      "source": [
        "emb = Pretrained(\"/content/drive/MyDrive/TutorialPyannote/tutorials/models/speech_activity_detection/train/AMI.SpeakerDiarization.MixHeadset.train/validate_detection_fscore/AMI.SpeakerDiarization.MixHeadset.development\")"
      ],
      "execution_count": null,
      "outputs": []
    },
    {
      "cell_type": "markdown",
      "metadata": {
        "id": "tCvZVMUATmiu"
      },
      "source": [
        "Coletamos os embeddings."
      ]
    },
    {
      "cell_type": "code",
      "metadata": {
        "id": "FB3rcaeGTcT9"
      },
      "source": [
        "embeddings = emb(test_file)"
      ],
      "execution_count": null,
      "outputs": []
    },
    {
      "cell_type": "markdown",
      "metadata": {
        "id": "c7xzRnlZT6bs"
      },
      "source": [
        "<div align='justify'> \n",
        "\n",
        "Nós queremos coletar os embeddings de cada segmento de fala que foi previsto pelo modelo, de forma a predizer o orador naquele momento, para tal, vamos utilizar das predições da subrede SAD (Speech Activity Detection) e a SCD (Speaker Change Detection), para definir esses segmentos de fala.\n",
        "\n",
        "</div>"
      ]
    },
    {
      "cell_type": "code",
      "metadata": {
        "id": "IXtI1Rk2TvEh"
      },
      "source": [
        "segments_of_speech = partition.crop(speech);"
      ],
      "execution_count": null,
      "outputs": []
    },
    {
      "cell_type": "markdown",
      "metadata": {
        "id": "h_BpWDxlUilL"
      },
      "source": [
        "<div align='justify'> \n",
        "\n",
        "O código acima utiliza da partição calculada pela rede SCD, com os momentos de troca de oradores, e faz a \"interseção\" inteligente com os segmentos de fala presente em speech, de forma a originar como saída todos os segmentos de falas, com seus respectivos diferentes oradores.\n",
        "\n",
        "Agora podemos separar os embeddings de cada segmento de fala que encontramos.\n",
        "</div>"
      ]
    },
    {
      "cell_type": "code",
      "metadata": {
        "id": "ErmtiGgUUh0D"
      },
      "source": [
        "def EmbeddingCropSegments(segments_of_speech,test_file,emb):\n",
        "  X,Y = [],[]\n",
        "  \n",
        "  embeddings = emb(test_file)\n",
        "  for segment in segments_of_speech:\n",
        "    #Cortar os embeddings do segmento atual de acordo com 3 possíveis modos\n",
        "    #Center é o melhor, entretanto pode retornar resultados vazios\n",
        "    #Por isso vamos passar por todos os modos de corte, e então escolher o que for\n",
        "    #Diferente de vazio.\n",
        "\n",
        "    embeddings_mode_crop = {mode:embeddings.crop(segment,mode=mode) for mode in ['center','loose','strict']}\n",
        "\n",
        "    if len(embeddings_mode_crop['center'])>0 :\n",
        "      x = embeddings_mode_crop['center']\n",
        "    elif len(embeddings_mode_crop['loose']) > 0:\n",
        "      x = embeddings_mode_crop['loose']\n",
        "    else :\n",
        "      x = embeddings_mode_crop['strict']\n",
        "\n",
        "    #vamos manter o rotulo do embedding (sua categoria) de acordo com o previsto pro segmento\n",
        "\n",
        "    y=test_file['annotation'].argmax(segment)\n",
        "\n",
        "    #infelizmente o modelo pode prever segmentos que não estão presentes no audio\n",
        "  \n",
        "    if y is not None:\n",
        "      #calcula a média dos embeddings pelo eixo das linhas\n",
        "      X.append(np.mean(x,axis=0))\n",
        "      Y.append(y)\n",
        "  \n",
        "  return X,Y"
      ],
      "execution_count": null,
      "outputs": []
    },
    {
      "cell_type": "code",
      "metadata": {
        "id": "gmpH7wb0bXWg"
      },
      "source": [
        "X,Y = EmbeddingCropSegments(segments_of_speech,test_file,emb)"
      ],
      "execution_count": null,
      "outputs": []
    },
    {
      "cell_type": "markdown",
      "metadata": {
        "id": "QZP2lIs-bwnD"
      },
      "source": [
        "Temos então os embeddings por segmentos, e podemos visualizar eles como o TSNE."
      ]
    },
    {
      "cell_type": "code",
      "metadata": {
        "id": "i-xgi8Z4brJJ"
      },
      "source": [
        "from sklearn.manifold import TSNE"
      ],
      "execution_count": null,
      "outputs": []
    },
    {
      "cell_type": "markdown",
      "metadata": {
        "id": "1ukvXt4JdoJG"
      },
      "source": [
        "A função abaixo é responsável por plotar os embeddings calculados pelos segmentos"
      ]
    },
    {
      "cell_type": "code",
      "metadata": {
        "id": "GXKqdHF9b65d"
      },
      "source": [
        "def plotEmbeddings(X,y_true):\n",
        "  #instancia o TSNE para converter os embeddings para visualização\n",
        "  tsne = TSNE(n_components=2, metric='cosine')\n",
        "\n",
        "  X_2d = tsne.fit_transform(X)\n",
        "\n",
        "  plt.scatter(*X_2d.T, c=y_true)\n",
        "  plt.title(\"Embeddings\")\n",
        "  plt.show()\n",
        "  "
      ],
      "execution_count": null,
      "outputs": []
    },
    {
      "cell_type": "markdown",
      "metadata": {
        "id": "8GDw1ZK9in1z"
      },
      "source": [
        "Vamos tentar plotar os embeddings, se der erro e o gráfico ficar em branco é que não houve embeddings para ser plotado. Isso pode acontecer pois estamos treinando os modelos apenas por 1 época, o que pode não ser suficiente para ele aprender as tarefas."
      ]
    },
    {
      "cell_type": "code",
      "metadata": {
        "id": "Q94oaDYh_M5N"
      },
      "source": [
        "_,y_true = np.unique(Y,return_inverse=True)"
      ],
      "execution_count": null,
      "outputs": []
    },
    {
      "cell_type": "markdown",
      "metadata": {
        "id": "t6NF6eQriuSV"
      },
      "source": [
        "<div align='justify'>\n",
        "\n",
        "Para mostrar melhor o funcionamento desses passos, e como os embeddings se parecem com o TSNE, vou pegar emprestado uns modelos pretreinados disponíveis do pyannote. Essa etapa é para visualizarmos melhor os modelos, pois como os treinos são de poucas épocas, é possível que eles não consigam prever nenhuma fala no áudio de teste.\n",
        "\n",
        "</div>"
      ]
    },
    {
      "cell_type": "markdown",
      "metadata": {
        "id": "zpHW7iHjs7Fk"
      },
      "source": [
        "#### Aproveitando modelos pretreinados"
      ]
    },
    {
      "cell_type": "code",
      "metadata": {
        "id": "IIevZo0afros"
      },
      "source": [
        "torch.hub.list('pyannote/pyannote-audio')"
      ],
      "execution_count": null,
      "outputs": []
    },
    {
      "cell_type": "markdown",
      "metadata": {
        "id": "VNrmmu2Fjd1Z"
      },
      "source": [
        "<div align='justify'>\n",
        "\n",
        "Se o leitor olhar com atenção temos modelos pretreinados para cada etapa do pipeline. \n",
        "\n",
        "Vamos usar agora esses modelos pretreinados para mostrar o funcionamento. \n",
        "\n",
        "</div>\n"
      ]
    },
    {
      "cell_type": "code",
      "metadata": {
        "id": "k6knmYuVjLQn"
      },
      "source": [
        "emb2 = torch.hub.load('pyannote/pyannote-audio','emb_voxceleb')"
      ],
      "execution_count": null,
      "outputs": []
    },
    {
      "cell_type": "code",
      "metadata": {
        "id": "pHJpFoLzkgsw"
      },
      "source": [
        "sad2 = torch.hub.load('pyannote/pyannote-audio','sad_ami')"
      ],
      "execution_count": null,
      "outputs": []
    },
    {
      "cell_type": "code",
      "metadata": {
        "id": "9nzl29Y_kmen"
      },
      "source": [
        "scd2 = torch.hub.load('pyannote/pyannote-audio','scd_ami')"
      ],
      "execution_count": null,
      "outputs": []
    },
    {
      "cell_type": "markdown",
      "metadata": {
        "id": "pHknOj84liwr"
      },
      "source": [
        "Agora podemos refazer os processos."
      ]
    },
    {
      "cell_type": "markdown",
      "metadata": {
        "id": "QlWnuqX2l659"
      },
      "source": [
        "##### SPEECH"
      ]
    },
    {
      "cell_type": "code",
      "metadata": {
        "id": "vlaIDkcbkqxz"
      },
      "source": [
        "sad_scores2 = sad2(test_file)\n",
        "\n",
        "binarize = Binarize(log_scale=True) #usar parametros default\n",
        "\n",
        "speech = binarize.apply(sad_scores2,dimension=1)"
      ],
      "execution_count": null,
      "outputs": []
    },
    {
      "cell_type": "markdown",
      "metadata": {
        "id": "1YiWF6kcmEK7"
      },
      "source": [
        "##### CHANGE SPEAKER"
      ]
    },
    {
      "cell_type": "code",
      "metadata": {
        "id": "eI5IpPrEl9TF"
      },
      "source": [
        "scd_scores2 = scd2(test_file)\n",
        "\n",
        "peak = Peak() #usar parametros default\n",
        "\n",
        "partition = peak.apply(scd_scores2)"
      ],
      "execution_count": null,
      "outputs": []
    },
    {
      "cell_type": "markdown",
      "metadata": {
        "id": "43qftmdsmhaN"
      },
      "source": [
        "##### VISUALIZATION"
      ]
    },
    {
      "cell_type": "code",
      "metadata": {
        "id": "mUgSo3v-mceI"
      },
      "source": [
        "fig,ax = plt.subplots(nrows=3)\n",
        "fig.set_figwidth(10)\n",
        "fig.set_figheight(10)\n",
        "notebook.plot_annotation(test_file['annotation'],ax=ax[0])\n",
        "ax[0].text(notebook.crop.start+0.5,0.1,'reference')\n",
        "\n",
        "notebook.plot_timeline(speech,ax=ax[1])\n",
        "ax[1].text(notebook.crop.start+0.5,0.1,'segments predict')\n",
        "\n",
        "notebook.plot_timeline(partition, ax=ax[2])\n",
        "ax[2].text(notebook.crop.start+0.5,0.1,'changes predict');"
      ],
      "execution_count": null,
      "outputs": []
    },
    {
      "cell_type": "markdown",
      "metadata": {
        "id": "eTkmMZyzpaul"
      },
      "source": [
        "<div align='justify'>\n",
        "\n",
        "Podemos ver que o modelo que ja foi treinado anteriormente em algum conjunto de dados, respondeu melhor do que um modelo treinado por apenas uma epoca nos nossos dados. Entretanto ele ainda não é o melhor modelo para predizer em nossos dados, é necessário uma etapa de ajuste com os dados que estamos usando.\n",
        "\n",
        "</div>"
      ]
    },
    {
      "cell_type": "markdown",
      "metadata": {
        "id": "ki975Veypv3V"
      },
      "source": [
        "##### EMBEDDINGS"
      ]
    },
    {
      "cell_type": "code",
      "metadata": {
        "id": "UaMj333LrHHJ"
      },
      "source": [
        "segments_of_speech = partition.crop(speech)"
      ],
      "execution_count": null,
      "outputs": []
    },
    {
      "cell_type": "code",
      "metadata": {
        "id": "We410yrUnOCg"
      },
      "source": [
        "X,Y = EmbeddingCropSegments(segments_of_speech,test_file,emb)"
      ],
      "execution_count": null,
      "outputs": []
    },
    {
      "cell_type": "code",
      "metadata": {
        "id": "VcW0rXSBrRXq"
      },
      "source": [
        "_,y_true = np.unique(Y,return_inverse=True)\n",
        "\n",
        "plotEmbeddings(X,y_true)"
      ],
      "execution_count": null,
      "outputs": []
    },
    {
      "cell_type": "markdown",
      "metadata": {
        "id": "uXBjoPIBrwCU"
      },
      "source": [
        "Agora podemos ver os embeddings, afinal, conseguimos prever alguns segmentos de fala no audio de teste, utilizando os modelos pretreinados."
      ]
    },
    {
      "cell_type": "markdown",
      "metadata": {
        "id": "sVqe-vAIso-H"
      },
      "source": [
        "## Finetune, ajustando modelos pretreinados "
      ]
    },
    {
      "cell_type": "markdown",
      "metadata": {
        "id": "3NvnsVThuPBX"
      },
      "source": [
        "<div align='justify'>\n",
        "\n",
        "Vimos anteriormente como treinar os modelos do pipeline do zero com nossos dados, e vimos que um treino de uma época trouxe resultados nada satisfatório ao nosso experimento. Entretanto quando usamos os modelos pretreinados, mesmo sem treinar eles aos nossos dados, vimos que eles trouxeram respostas razoáveis para o experimento.\n",
        "\n",
        "\n",
        "Como podemos utilizar esses modelos pretreinados de forma otima com nossos dados? O finetune (ajuste fino). \n",
        "\n",
        "**Finetune** : processo de retreinar o modelo previamente treinado (com outros dados) nos dados de interesse. \n",
        "\n",
        "\n",
        "\n",
        "</div>"
      ]
    },
    {
      "cell_type": "markdown",
      "metadata": {
        "id": "XaLh2PCk0nZ1"
      },
      "source": [
        "### SAD (Speech Activity Detection)"
      ]
    },
    {
      "cell_type": "markdown",
      "metadata": {
        "id": "uVne_csh2LMg"
      },
      "source": [
        "O processo de finetune é muito semelhante ao de treinamento, mas vamos utilizar uma nova tag :). \n",
        "\n",
        "\n",
        "```\n",
        "--pretrained\n",
        "```\n",
        "\n",
        "<div align='justify'>\n",
        "\n",
        "Nesse ponto nós temos algumas opções, podemos usar um caminho, esse caminho leva diretamente aos pesos de melhor resultado. Ou podemos usar um modelo do hub, do qual foram citados anteriormente, nesse caso podemos fazer apenas **sad_ami** por exemplo.\n",
        "\n",
        "<ul> <b>Exemplos de uso</b>\n",
        "\n",
        "<li><b>Caminho :</b> --pretrained=PATH/TO/THE/BEST/WEIGHT</li>\n",
        "<li><b>Modelo do hub :</b> --pretrained=sad_ami\n",
        "\n",
        "</ul>\n",
        "\n",
        "</div>\n"
      ]
    },
    {
      "cell_type": "markdown",
      "metadata": {
        "id": "l_efwioI5SK8"
      },
      "source": [
        "#### Usando o caminho"
      ]
    },
    {
      "cell_type": "markdown",
      "metadata": {
        "id": "9AKepwMD5Y-R"
      },
      "source": [
        "Nesse momento nós vamos tentar achar o melhor peso para nossa rede baseada no nosso treinamento antigo."
      ]
    },
    {
      "cell_type": "code",
      "metadata": {
        "id": "3hYD-xn-rpfD"
      },
      "source": [
        "!cd /content/drive/MyDrive/TutorialPyannote/tutorials/models/speech_activity_detection/train/AMI.SpeakerDiarization.MixHeadset.train/validate_detection_fscore/AMI.SpeakerDiarization.MixHeadset.development/apply && ls"
      ],
      "execution_count": null,
      "outputs": []
    },
    {
      "cell_type": "markdown",
      "metadata": {
        "id": "JomMsiog530E"
      },
      "source": [
        "O resultado do código acima é o peso que devemos utilizar para realizar o finetune.\n"
      ]
    },
    {
      "cell_type": "code",
      "metadata": {
        "id": "ih01wNBq52LO"
      },
      "source": [
        "from pathlib import Path\n",
        "if str(Path.cwd())!=\"/content/drive/MyDrive/TutorialPyannote\":\n",
        "  %cd /content/drive/MyDrive/TutorialPyannote"
      ],
      "execution_count": null,
      "outputs": []
    },
    {
      "cell_type": "code",
      "metadata": {
        "id": "JnEWUnLW6OK9"
      },
      "source": [
        "!pyannote-audio sad train --pretrained=/content/drive/MyDrive/TutorialPyannote/tutorials/models/speech_activity_detection/train/AMI.SpeakerDiarization.MixHeadset.train/weights/0001.pt --subset=train --to=1 tutorials/finetune/sad_fine AMI.SpeakerDiarization.MixHeadset"
      ],
      "execution_count": null,
      "outputs": []
    },
    {
      "cell_type": "markdown",
      "metadata": {
        "id": "0NqTIm0g7LqP"
      },
      "source": [
        "pronto você acabou de aplicar o finetune com a opção de caminho, o processo a partir daqui é o mesmo lecionado nas seções de treino."
      ]
    },
    {
      "cell_type": "markdown",
      "metadata": {
        "id": "H9VDtwzg9mjx"
      },
      "source": [
        "#### Usando modelos do hub"
      ]
    },
    {
      "cell_type": "markdown",
      "metadata": {
        "id": "9vo69ShOOK6i"
      },
      "source": [
        "##### CASO VOCÊ TENHA PROBLEMA COM HUBCONF.PY"
      ]
    },
    {
      "cell_type": "markdown",
      "metadata": {
        "id": "74OkmCLQH5Sd"
      },
      "source": [
        "Para evitar problemas precisamos garantir que o arquivo hubconf esteja na cache do pyannote."
      ]
    },
    {
      "cell_type": "markdown",
      "metadata": {
        "id": "o2ths9elJgyQ"
      },
      "source": [
        "Vai até o site [hubconf.py](https://github.com/pyannote/pyannote-audio/blob/master/hubconf.py) copie o código e crie um arquivo com o conteudo dentro de qualquer pasta, vou fazer isso no content."
      ]
    },
    {
      "cell_type": "code",
      "metadata": {
        "id": "ZH9pmqEPJ1ol"
      },
      "source": [
        "%cp /content/hubconf.py /root/.cache/torch/hub/pyannote_pyannote-audio_develop/"
      ],
      "execution_count": null,
      "outputs": []
    },
    {
      "cell_type": "markdown",
      "metadata": {
        "id": "oau5U2-Q47pQ"
      },
      "source": [
        "O código acima copia a pasta para o caminho da cache do pyannote."
      ]
    },
    {
      "cell_type": "markdown",
      "metadata": {
        "id": "H2AiYHUyOSXK"
      },
      "source": [
        "##### FINETUNE "
      ]
    },
    {
      "cell_type": "code",
      "metadata": {
        "id": "6cdSEFac6r1k"
      },
      "source": [
        "! yes | pyannote-audio sad train --pretrained=sad_ami --to=1 tutorials/finetune/sad_fine AMI.SpeakerDiarization.MixHeadset "
      ],
      "execution_count": null,
      "outputs": []
    },
    {
      "cell_type": "markdown",
      "metadata": {
        "id": "6Q8vptZi-Mvd"
      },
      "source": [
        "Nesse caso estamos usando o modelo SAD que foi pretrainado nos dados publicos do AMI, entretanto poderia utilizar qualquer modelo disponível no hub do pyannote.\n",
        "\n",
        "Agora só validar o modelo e seguir o resto que foi ensinado nas seções de treinamento."
      ]
    },
    {
      "cell_type": "markdown",
      "metadata": {
        "id": "1Rh2gvdXKred"
      },
      "source": [
        "### SCD (Speaker Change Detection)"
      ]
    },
    {
      "cell_type": "markdown",
      "metadata": {
        "id": "fRJUI8u8G2wH"
      },
      "source": [
        "#### Usando o caminho"
      ]
    },
    {
      "cell_type": "markdown",
      "metadata": {
        "id": "FSzXzHHEIf75"
      },
      "source": [
        "Verificando o melhor peso do modelo."
      ]
    },
    {
      "cell_type": "code",
      "metadata": {
        "id": "2VP7x2dMIB0w"
      },
      "source": [
        "!cd /content/drive/MyDrive/TutorialPyannote/tutorials/models/speaker_change_detection/train/AMI.SpeakerDiarization.MixHeadset.train/validate_segmentation_fscore/AMI.SpeakerDiarization.MixHeadset.development/apply && ls"
      ],
      "execution_count": null,
      "outputs": []
    },
    {
      "cell_type": "markdown",
      "metadata": {
        "id": "fZM9A7FIIibp"
      },
      "source": [
        "Iniciando o ajuste fino."
      ]
    },
    {
      "cell_type": "code",
      "metadata": {
        "id": "guEyD5OJHsT9"
      },
      "source": [
        "!pyannote-audio scd train --pretrained=/content/drive/MyDrive/TutorialPyannote/tutorials/models/speaker_change_detection/train/AMI.SpeakerDiarization.MixHeadset.train/weights/0001.pt --subset=train --to=1 tutorials/finetune/scd_fine AMI.SpeakerDiarization.MixHeadset"
      ],
      "execution_count": null,
      "outputs": []
    },
    {
      "cell_type": "markdown",
      "metadata": {
        "id": "UBL2F9rsNF0Z"
      },
      "source": [
        "Processo de validação e afins é o mesmo que ensinado nas seções passadas."
      ]
    },
    {
      "cell_type": "markdown",
      "metadata": {
        "id": "-Iu8svgvNJ1l"
      },
      "source": [
        "#### Usando modelos do hub"
      ]
    },
    {
      "cell_type": "markdown",
      "metadata": {
        "id": "gGLw-WP_Nnaq"
      },
      "source": [
        "Agora é direto!!"
      ]
    },
    {
      "cell_type": "code",
      "metadata": {
        "id": "FaJsHTcoMgbG"
      },
      "source": [
        "! yes | pyannote-audio scd train --pretrained=scd_ami --subset=train --to=1 tutorials/finetune/scd_fine AMI.SpeakerDiarization.MixHeadset"
      ],
      "execution_count": null,
      "outputs": []
    },
    {
      "cell_type": "markdown",
      "metadata": {
        "id": "nVhrxiKTOcoC"
      },
      "source": [
        "Caso tenha problema com a execução desse passo retorne na seção passada!\n",
        "\n",
        "Agora é só seguir o processo de validação normalmente."
      ]
    },
    {
      "cell_type": "markdown",
      "metadata": {
        "id": "TMemDJpTOkOB"
      },
      "source": [
        "### EMB (Speaker Embeddings)"
      ]
    },
    {
      "cell_type": "markdown",
      "metadata": {
        "id": "rSsWl9w1PIQl"
      },
      "source": [
        "#### Usando o caminho"
      ]
    },
    {
      "cell_type": "markdown",
      "metadata": {
        "id": "77gDi_r1PLQV"
      },
      "source": [
        "Verificando o melhor peso do modelo."
      ]
    },
    {
      "cell_type": "code",
      "metadata": {
        "id": "f_OeFOWyNzsJ"
      },
      "source": [
        "!cd /content/drive/MyDrive/TutorialPyannote/tutorials/models/speaker_embedding/train/AMI.SpeakerDiarization.MixHeadset.train/validate_diarization_fscore/AMI.SpeakerDiarization.MixHeadset.development/apply && ls"
      ],
      "execution_count": null,
      "outputs": []
    },
    {
      "cell_type": "markdown",
      "metadata": {
        "id": "d-BGEsTqPxc3"
      },
      "source": [
        "Agora é só chamar o pyannote para fazer o trabalho bruto."
      ]
    },
    {
      "cell_type": "code",
      "metadata": {
        "id": "vHb36GTGPwEU"
      },
      "source": [
        "!pyannote-audio emb train --pretrained=/content/drive/MyDrive/TutorialPyannote/tutorials/models/speaker_embedding/train/AMI.SpeakerDiarization.MixHeadset.train/weights/0001.pt --subset=train --to=1 tutorials/finetune/emb_fine AMI.SpeakerDiarization.MixHeadset"
      ],
      "execution_count": null,
      "outputs": []
    },
    {
      "cell_type": "markdown",
      "metadata": {
        "id": "maKoeW76QKwv"
      },
      "source": [
        "#### Usando modelos do hub"
      ]
    },
    {
      "cell_type": "markdown",
      "metadata": {
        "id": "ERQI3WNLQMvr"
      },
      "source": [
        "Novamente direto!!! Caso tenha problemas volte nas seções anteriores."
      ]
    },
    {
      "cell_type": "code",
      "metadata": {
        "id": "zmR8ugWrQCWQ"
      },
      "source": [
        "!pyannote-audio emb train --pretrained=emb_ami --subset=train --to=1 tutorials/finetune/emb_fine AMI.SpeakerDiarization.MixHeadset"
      ],
      "execution_count": null,
      "outputs": []
    },
    {
      "cell_type": "markdown",
      "metadata": {
        "id": "tnyD8I-9QdWi"
      },
      "source": [
        "Finalizado o treinamento continue com os processos seguintes."
      ]
    },
    {
      "cell_type": "markdown",
      "metadata": {
        "id": "JcdjGdoE5RIn"
      },
      "source": [
        "#### Observações"
      ]
    },
    {
      "cell_type": "markdown",
      "metadata": {
        "id": "N18yXD645VNg"
      },
      "source": [
        "Você pode ter percebido que não ajustamos o modelo OVP (Overlap Detection), isso é porque ele não entra diretamente no pipeline de diarização. O uso do overlap vai depender de como você trata o seu problema."
      ]
    },
    {
      "cell_type": "markdown",
      "metadata": {
        "id": "85OOBoWLQgMc"
      },
      "source": [
        "## Criando o Pipeline de Diarização"
      ]
    },
    {
      "cell_type": "markdown",
      "metadata": {
        "id": "FoLwD2pNRGu8"
      },
      "source": [
        "<div align='justify'>\n",
        "\n",
        "Se você chegou até aqui é porque aprendeu a como treinar o seu modelo do zero ou então a aplicar o ajuste fino. \n",
        "\n",
        "Você visualizou cada comportamento individual de cada rede do pipeline, mas e agora, como prosseguir? Nessa seção vou ensinar você a construir o pipeline de diarização usando os modelos que foram treinados nas seções anteriores.\n",
        "\n",
        "</div>\n",
        "\n"
      ]
    },
    {
      "cell_type": "markdown",
      "metadata": {
        "id": "nlKLPKjR6jBM"
      },
      "source": [
        "### Configuração"
      ]
    },
    {
      "cell_type": "markdown",
      "metadata": {
        "id": "ay0AMnn76lC0"
      },
      "source": [
        "<div align='justify'>\n",
        "\n",
        "É muito importante que você tenha feito a etapa de teste, ou seja, a etapa de apply de todas as camadas, mas explicitamente da SAD, SCD e EMB. Vamos configurar um arquivo de configuração, para ajustar o pipeline de diarização.\n",
        "\n",
        "</div>"
      ]
    },
    {
      "cell_type": "code",
      "metadata": {
        "id": "2Ysf5jDrQZYc"
      },
      "source": [
        "from pathlib import Path \n",
        "\n",
        "if Path.cwd() != \"/content/drive/MyDrive/TutorialPyannote\":\n",
        "  %cd /content/drive/MyDrive/TutorialPyannote"
      ],
      "execution_count": null,
      "outputs": []
    },
    {
      "cell_type": "code",
      "metadata": {
        "id": "UvfJ6Vy77dmi"
      },
      "source": [
        "%cat tutorials/pipelines/speaker_diarization/config.yml"
      ],
      "execution_count": null,
      "outputs": []
    },
    {
      "cell_type": "markdown",
      "metadata": {
        "id": "QqiNxHju9Dkw"
      },
      "source": [
        "<div align='justify'>\n",
        "\n",
        "Vamos configurar o arquivo acima com os diretorios pertinentes de cada subrede do pipeline. \n",
        "\n",
        "<ul> <b>Subredes (params)</b>\n",
        "\n",
        "<li>\n",
        "  <b>sad_model :</b> aqui você deve colocar o caminho da pasta de melhor desempenho do procedimento de apply para o modelo de Speech Detection. ex path/to/apply/0001\n",
        "</li>\n",
        "<li>\n",
        "  <b>scd_model :</b>aqui você deve colocar o caminho da pasta de melhor desempenho do procedimento de apply para o modelo de Speaker Change Detection. ex path/to/apply/0001\n",
        "</li>\n",
        "<li>\n",
        "  <b>emb_model :</b>aqui você deve colocar o caminho da pasta de melhor desempenho do procedimento de apply para o modelo de Speaker Embeddings. ex path/to/apply/0001\n",
        "</li>\n",
        "\n",
        "</ul>\n",
        "\n",
        "<b>Freeze :  </b> Aqui você pode configurar se deseja congelar os parâmetros de alguma subrede do pipeline, isso pode ser feito como mostrado no próprio arquivo de configuração.\n",
        "\n",
        "<b>Preprocessors: </b> Nessa parte você precisa apenas colocar o seu caminho para o arquivo de configuração de conjunto de dados.\n",
        "\n",
        "</div>\n"
      ]
    },
    {
      "cell_type": "markdown",
      "metadata": {
        "id": "0Ao4MhhxBogp"
      },
      "source": [
        "Abra o arquivo aqui no próprio colab e faça as alterações. Ele deve ficar parecido com isso:"
      ]
    },
    {
      "cell_type": "code",
      "metadata": {
        "id": "DZrKA68p8pFH"
      },
      "source": [
        "%cat tutorials/pipelines/speaker_diarization/config_esperado.yml"
      ],
      "execution_count": null,
      "outputs": []
    },
    {
      "cell_type": "markdown",
      "metadata": {
        "id": "_PwffrkKDvQ9"
      },
      "source": [
        "### Ajustando o pipeline"
      ]
    },
    {
      "cell_type": "markdown",
      "metadata": {
        "id": "hXmEU1urD0gt"
      },
      "source": [
        "Agora vamos aplicar um processo de ajuste, que consiste no treinamento infinito do pipeline."
      ]
    },
    {
      "cell_type": "code",
      "metadata": {
        "id": "aGehuyw6CQFT"
      },
      "source": [
        "!pyannote-pipeline train --subset=development --forever tutorials/pipelines/speaker_diarization/ AMI.SpeakerDiarization.MixHeadset "
      ],
      "execution_count": null,
      "outputs": []
    },
    {
      "cell_type": "markdown",
      "metadata": {
        "id": "UdC6IX8AFdR4"
      },
      "source": [
        "O pipeline vai treinar indefinidamente, e quanto mais tempo ficar no processo mais ele se ajusta os parâmetros e tende se comportar melhor aos dados. "
      ]
    },
    {
      "cell_type": "markdown",
      "metadata": {
        "id": "9H5F3LrJKsbo"
      },
      "source": [
        "Você pode ver os parâmetros de todo o pipeline aqui:\n"
      ]
    },
    {
      "cell_type": "code",
      "metadata": {
        "id": "bdCxLAdeKv-N"
      },
      "source": [
        "%cat tutorials/pipelines/speaker_diarization/train/AMI.SpeakerDiarization.MixHeadset.development"
      ],
      "execution_count": null,
      "outputs": []
    },
    {
      "cell_type": "markdown",
      "metadata": {
        "id": "Zl1_lHsjK3E0"
      },
      "source": [
        "Depois de treinar o pipeline você pode aplicar ele para ver como ele se comporta aos seus dados."
      ]
    },
    {
      "cell_type": "code",
      "metadata": {
        "id": "GHh35GeJFaQO"
      },
      "source": [
        "!pyannote-pipeline apply --subset=test tutorials/pipelines/speaker_diarization/train/AMI.SpeakerDiarization.MixHeadset.development "
      ],
      "execution_count": null,
      "outputs": []
    },
    {
      "cell_type": "markdown",
      "metadata": {
        "id": "teyijgHRK_jT"
      },
      "source": [
        "E podemos visualizar o comportamento usando o pyannote-metrics."
      ]
    },
    {
      "cell_type": "code",
      "metadata": {
        "id": "RstrWizZLDEC"
      },
      "source": [
        "pyannote-metrics diarization AMI.SpeakerDiarization.MixHeadset tutorials/pipelines/speaker_diarization/train/AMI.SpeakerDiarization.MixHeadset.development/apply/latest/AMI.SpeakerDiarization.MixHeadset.test.rttm"
      ],
      "execution_count": null,
      "outputs": []
    },
    {
      "cell_type": "markdown",
      "metadata": {
        "id": "iJUFqPz4LUZc"
      },
      "source": [
        "Pronto, você acabou de preparar o seu pipeline para aplicações!!"
      ]
    },
    {
      "cell_type": "markdown",
      "metadata": {
        "id": "lzUwNhCsL-ge"
      },
      "source": [
        "### Usando o pipeline dentro do código python"
      ]
    },
    {
      "cell_type": "markdown",
      "metadata": {
        "id": "mRc0i4Ezj7oJ"
      },
      "source": [
        "### Configuração"
      ]
    },
    {
      "cell_type": "code",
      "metadata": {
        "id": "sd0lDtkULcZA"
      },
      "source": [
        "from pyannote.audio.pipeline import SpeakerDiarization"
      ],
      "execution_count": null,
      "outputs": []
    },
    {
      "cell_type": "markdown",
      "metadata": {
        "id": "Vv8WDPpmkD1W"
      },
      "source": [
        "### Construindo o pipeline"
      ]
    },
    {
      "cell_type": "markdown",
      "metadata": {
        "id": "WkB_EcvwlLE4"
      },
      "source": [
        "Primeiramente carregamos os modelos individuais, usando os diretórios de validação para isso."
      ]
    },
    {
      "cell_type": "code",
      "metadata": {
        "id": "yK-qnIJfkAJL"
      },
      "source": [
        "sad=\"/content/drive/MyDrive/TutorialPyannote/tutorials/models/speech_activity_detection/train/AMI.SpeakerDiarization.MixHeadset.train/validate_detection_fscore/AMI.SpeakerDiarization.MixHeadset.development\"\n",
        "scd=\"/content/drive/MyDrive/TutorialPyannote/tutorials/models/speaker_change_detection/train/AMI.SpeakerDiarization.MixHeadset.train/validate_segmentation_fscore/AMI.SpeakerDiarization.MixHeadset.development\"\n",
        "emb=\"/content/drive/MyDrive/TutorialPyannote/tutorials/models/speaker_embedding/train/AMI.SpeakerDiarization.MixHeadset.train/validate_diarization_fscore/AMI.SpeakerDiarization.MixHeadset.development\""
      ],
      "execution_count": null,
      "outputs": []
    },
    {
      "cell_type": "markdown",
      "metadata": {
        "id": "hnpmEP8ZlVg9"
      },
      "source": [
        "Depois instanciamos o pipeline com os modelos carregados, usando da forma a seguir."
      ]
    },
    {
      "cell_type": "code",
      "metadata": {
        "id": "GLB8tLrAktpE"
      },
      "source": [
        "pipeline = SpeakerDiarization(sad_scores=sad,\n",
        "                              scd_scores=scd,\n",
        "                              embedding=emb,\n",
        "                              method=\"affinity_propagtion\");"
      ],
      "execution_count": null,
      "outputs": []
    },
    {
      "cell_type": "markdown",
      "metadata": {
        "id": "Dwstq0qVl4bM"
      },
      "source": [
        "Agora carregamos ao pipeline os parâmetros de treino que conseguimos na seção anterior no processo de treino de toda a pipeline."
      ]
    },
    {
      "cell_type": "code",
      "metadata": {
        "id": "wt_CX8NHlGiI"
      },
      "source": [
        "pipeline.load_params(\"/content/drive/MyDrive/TutorialPyannote/tutorials/pipelines/speaker_diarization/train/AMI.SpeakerDiarization.MixHeadset.development/params.yml\")"
      ],
      "execution_count": null,
      "outputs": []
    },
    {
      "cell_type": "markdown",
      "metadata": {
        "id": "x1zW95VnmJQf"
      },
      "source": [
        "### Usando o pipeline"
      ]
    },
    {
      "cell_type": "markdown",
      "metadata": {
        "id": "PPY9xFPWmNAx"
      },
      "source": [
        "Com a pipeline construida agora é simples de realizar o seu uso."
      ]
    },
    {
      "cell_type": "code",
      "metadata": {
        "id": "hMWsLs60mLyC"
      },
      "source": [
        "test_file = next(protocol.test())\n",
        "diarization = pipeline(test_file)"
      ],
      "execution_count": null,
      "outputs": []
    },
    {
      "cell_type": "markdown",
      "metadata": {
        "id": "XdUbra4omlZu"
      },
      "source": [
        "Podemos visualizar a saida do pipeline e verificar se a predição está conforme a referência."
      ]
    },
    {
      "cell_type": "code",
      "metadata": {
        "id": "mTsK5SIzmsGT"
      },
      "source": [
        "fig,ax = plt.subplots(nrows=2)\n",
        "fig.set_figwidth(20)\n",
        "fig.set_figheight(8)\n",
        "\n",
        "#a referência do audio \n",
        "notebook.plot_annotation(test_file['annotation'],ax=ax[0],time=False)\n",
        "ax[0].text(notebook.crop.start+0.5,0.1,'reference')\n",
        "#a predição\n",
        "notebook.plot_annotation(diarization,ax=ax[1])\n",
        "ax[1].text(notebook.crop.start+0.5,0.1,'predict');"
      ],
      "execution_count": null,
      "outputs": []
    },
    {
      "cell_type": "markdown",
      "metadata": {
        "id": "CAPEmazJnmDr"
      },
      "source": [
        "# Conclusão"
      ]
    },
    {
      "cell_type": "markdown",
      "metadata": {
        "id": "nbA8uGKmnyvC"
      },
      "source": [
        "<div align='justify'>\n",
        "\n",
        "Nesse tutorial você aprendeu como funciona o pipeline de diarização de locutor do Pyannote, e como cada rede presente no conjunto trabalha de forma individual. \n",
        "\n",
        "Além disso, aprendeu como treinar cada rede do zero, também como aplicar o ajuste fino dos modelos pretreinados.\n",
        "\n",
        "Por fim, também foi capaz de ajustar todo o pipeline unindo todas as redes, ajustando todos os parâmetros dos modelos. Assim sendo possível aplicar o pipeline via terminal, usando o pyannote-metrics para visualizar as metricas, ou então usando dentro do python, e plotando a saida do pipeline.\n",
        "\n",
        "</div>"
      ]
    },
    {
      "cell_type": "markdown",
      "metadata": {
        "id": "Gkv280Ulo6_-"
      },
      "source": [
        "<div align='center'>\n",
        "\n",
        "<img src=\"https://i.pinimg.com/originals/fe/31/a5/fe31a5bdfaf021497580dca22534eb83.gif\" width=\"500\" height=\"200\" />\n",
        "\n",
        "</div>"
      ]
    },
    {
      "cell_type": "markdown",
      "metadata": {
        "id": "Zt0daxr1psi5"
      },
      "source": [
        "Existe um mundo de funcionalidades dentro do [Pyannote](http://pyannote.github.io/), fique de olho no repósitorio deles, além disso Pyannote2.0 está por vir, e promete modelos mais robustos! "
      ]
    }
  ]
}